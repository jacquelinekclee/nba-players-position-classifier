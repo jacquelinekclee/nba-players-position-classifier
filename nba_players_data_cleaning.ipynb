{
 "cells": [
  {
   "cell_type": "markdown",
   "metadata": {},
   "source": [
    "# Classifiers for NBA Players\n",
    "\n",
    "For a full description of this project, please refer to the [GitHub repository](https://github.com/jacquelinekclee/naivebayes_nba_players)."
   ]
  },
  {
   "cell_type": "markdown",
   "metadata": {},
   "source": [
    "## Table of Contents\n",
    "\n",
    "- [Process the Training Data](#training)\n",
    "- [Process the Test Data](#test)\n",
    "- [Process the 2018-19 Data](#2019)\n",
    "- [Process the 2020-21 Data](#2021)\n",
    "- [Process the 2021-22 Data](#2022)\n",
    "- [Positions Classifier](#positions)\n",
    "    - [Final Positions Classifier](#positionsbest)\n",
    "- [All Star Classifier](#allstars)\n",
    "    - [Summary](#allstarsummary)"
   ]
  },
  {
   "cell_type": "markdown",
   "metadata": {},
   "source": [
    "## Imports"
   ]
  },
  {
   "cell_type": "code",
   "execution_count": 1,
   "metadata": {},
   "outputs": [],
   "source": [
    "import pandas as pd\n",
    "import numpy as np\n",
    "%load_ext autoreload\n",
    "%autoreload 2\n",
    "# source files can be found in the GitHub repository\n",
    "from nba_players_classification import *"
   ]
  },
  {
   "cell_type": "code",
   "execution_count": 2,
   "metadata": {
    "tags": []
   },
   "outputs": [],
   "source": [
    "# pip install xgboost"
   ]
  },
  {
   "cell_type": "code",
   "execution_count": 4,
   "metadata": {},
   "outputs": [],
   "source": [
    "import sklearn\n",
    "import xgboost as xgb\n",
    "from sklearn import metrics\n",
    "from sklearn.model_selection import GridSearchCV, KFold\n",
    "from sklearn.ensemble import RandomForestClassifier\n",
    "from sklearn.model_selection import RandomizedSearchCV\n",
    "from sklearn.pipeline import Pipeline\n",
    "from sklearn.preprocessing import LabelEncoder\n",
    "from sklearn.preprocessing import OneHotEncoder\n",
    "from sklearn.compose import ColumnTransformer\n",
    "from sklearn.model_selection import train_test_split\n",
    "import matplotlib.pyplot as plt\n",
    "from sklearn.model_selection import learning_curve\n",
    "from sklearn.metrics import log_loss\n",
    "from sklearn.metrics import accuracy_score\n",
    "from sklearn.neighbors import KNeighborsClassifier\n",
    "from sklearn.preprocessing import MinMaxScaler"
   ]
  },
  {
   "cell_type": "markdown",
   "metadata": {},
   "source": [
    "## Process the Training Data<a class=\"anchor\" id=\"training\"></a>"
   ]
  },
  {
   "cell_type": "markdown",
   "metadata": {},
   "source": [
    "Get the DataFrame with each player's statistics for each season from 1950-2017.\n",
    "Since many relevant statistics weren't collected until 1980, I will only keep the season statistics for 1980-2017."
   ]
  },
  {
   "cell_type": "code",
   "execution_count": 5,
   "metadata": {},
   "outputs": [
    {
     "data": {
      "text/plain": [
       "Index(['Unnamed: 0', 'Year', 'Player', 'Pos', 'Age', 'Tm', 'G', 'GS', 'MP',\n",
       "       'PER', 'TS%', '3PAr', 'FTr', 'ORB%', 'DRB%', 'TRB%', 'AST%', 'STL%',\n",
       "       'BLK%', 'TOV%', 'USG%', 'blanl', 'OWS', 'DWS', 'WS', 'WS/48', 'blank2',\n",
       "       'OBPM', 'DBPM', 'BPM', 'VORP', 'FG', 'FGA', 'FG%', '3P', '3PA', '3P%',\n",
       "       '2P', '2PA', '2P%', 'eFG%', 'FT', 'FTA', 'FT%', 'ORB', 'DRB', 'TRB',\n",
       "       'AST', 'STL', 'BLK', 'TOV', 'PF', 'PTS'],\n",
       "      dtype='object')"
      ]
     },
     "execution_count": 5,
     "metadata": {},
     "output_type": "execute_result"
    }
   ],
   "source": [
    "stats = pd.read_csv('Seasons_Stats.csv')\n",
    "stats_cols = list(stats.columns)\n",
    "stats.columns"
   ]
  },
  {
   "cell_type": "code",
   "execution_count": 6,
   "metadata": {},
   "outputs": [
    {
     "data": {
      "text/plain": [
       "2017.0"
      ]
     },
     "execution_count": 6,
     "metadata": {},
     "output_type": "execute_result"
    }
   ],
   "source": [
    "max(stats['Year'])"
   ]
  },
  {
   "cell_type": "code",
   "execution_count": 7,
   "metadata": {},
   "outputs": [
    {
     "data": {
      "text/html": [
       "<div>\n",
       "<style scoped>\n",
       "    .dataframe tbody tr th:only-of-type {\n",
       "        vertical-align: middle;\n",
       "    }\n",
       "\n",
       "    .dataframe tbody tr th {\n",
       "        vertical-align: top;\n",
       "    }\n",
       "\n",
       "    .dataframe thead th {\n",
       "        text-align: right;\n",
       "    }\n",
       "</style>\n",
       "<table border=\"1\" class=\"dataframe\">\n",
       "  <thead>\n",
       "    <tr style=\"text-align: right;\">\n",
       "      <th></th>\n",
       "      <th>Unnamed: 0</th>\n",
       "      <th>Year</th>\n",
       "      <th>Player</th>\n",
       "      <th>Pos</th>\n",
       "      <th>Age</th>\n",
       "      <th>Tm</th>\n",
       "      <th>G</th>\n",
       "      <th>GS</th>\n",
       "      <th>MP</th>\n",
       "      <th>PER</th>\n",
       "      <th>...</th>\n",
       "      <th>FT%</th>\n",
       "      <th>ORB</th>\n",
       "      <th>DRB</th>\n",
       "      <th>TRB</th>\n",
       "      <th>AST</th>\n",
       "      <th>STL</th>\n",
       "      <th>BLK</th>\n",
       "      <th>TOV</th>\n",
       "      <th>PF</th>\n",
       "      <th>PTS</th>\n",
       "    </tr>\n",
       "  </thead>\n",
       "  <tbody>\n",
       "    <tr>\n",
       "      <th>0</th>\n",
       "      <td>5727</td>\n",
       "      <td>1980.0</td>\n",
       "      <td>Kareem Abdul-Jabbar*</td>\n",
       "      <td>C</td>\n",
       "      <td>32.0</td>\n",
       "      <td>LAL</td>\n",
       "      <td>82.0</td>\n",
       "      <td>NaN</td>\n",
       "      <td>3143.0</td>\n",
       "      <td>25.3</td>\n",
       "      <td>...</td>\n",
       "      <td>0.765</td>\n",
       "      <td>190.0</td>\n",
       "      <td>696.0</td>\n",
       "      <td>886.0</td>\n",
       "      <td>371.0</td>\n",
       "      <td>81.0</td>\n",
       "      <td>280.0</td>\n",
       "      <td>297.0</td>\n",
       "      <td>216.0</td>\n",
       "      <td>2034.0</td>\n",
       "    </tr>\n",
       "    <tr>\n",
       "      <th>1</th>\n",
       "      <td>5728</td>\n",
       "      <td>1980.0</td>\n",
       "      <td>Tom Abernethy</td>\n",
       "      <td>PF</td>\n",
       "      <td>25.0</td>\n",
       "      <td>GSW</td>\n",
       "      <td>67.0</td>\n",
       "      <td>NaN</td>\n",
       "      <td>1222.0</td>\n",
       "      <td>11.0</td>\n",
       "      <td>...</td>\n",
       "      <td>0.683</td>\n",
       "      <td>62.0</td>\n",
       "      <td>129.0</td>\n",
       "      <td>191.0</td>\n",
       "      <td>87.0</td>\n",
       "      <td>35.0</td>\n",
       "      <td>12.0</td>\n",
       "      <td>39.0</td>\n",
       "      <td>118.0</td>\n",
       "      <td>362.0</td>\n",
       "    </tr>\n",
       "    <tr>\n",
       "      <th>2</th>\n",
       "      <td>5729</td>\n",
       "      <td>1980.0</td>\n",
       "      <td>Alvan Adams</td>\n",
       "      <td>C</td>\n",
       "      <td>25.0</td>\n",
       "      <td>PHO</td>\n",
       "      <td>75.0</td>\n",
       "      <td>NaN</td>\n",
       "      <td>2168.0</td>\n",
       "      <td>19.2</td>\n",
       "      <td>...</td>\n",
       "      <td>0.797</td>\n",
       "      <td>158.0</td>\n",
       "      <td>451.0</td>\n",
       "      <td>609.0</td>\n",
       "      <td>322.0</td>\n",
       "      <td>108.0</td>\n",
       "      <td>55.0</td>\n",
       "      <td>218.0</td>\n",
       "      <td>237.0</td>\n",
       "      <td>1118.0</td>\n",
       "    </tr>\n",
       "    <tr>\n",
       "      <th>3</th>\n",
       "      <td>5730</td>\n",
       "      <td>1980.0</td>\n",
       "      <td>Tiny Archibald*</td>\n",
       "      <td>PG</td>\n",
       "      <td>31.0</td>\n",
       "      <td>BOS</td>\n",
       "      <td>80.0</td>\n",
       "      <td>80.0</td>\n",
       "      <td>2864.0</td>\n",
       "      <td>15.3</td>\n",
       "      <td>...</td>\n",
       "      <td>0.830</td>\n",
       "      <td>59.0</td>\n",
       "      <td>138.0</td>\n",
       "      <td>197.0</td>\n",
       "      <td>671.0</td>\n",
       "      <td>106.0</td>\n",
       "      <td>10.0</td>\n",
       "      <td>242.0</td>\n",
       "      <td>218.0</td>\n",
       "      <td>1131.0</td>\n",
       "    </tr>\n",
       "    <tr>\n",
       "      <th>4</th>\n",
       "      <td>5731</td>\n",
       "      <td>1980.0</td>\n",
       "      <td>Dennis Awtrey</td>\n",
       "      <td>C</td>\n",
       "      <td>31.0</td>\n",
       "      <td>CHI</td>\n",
       "      <td>26.0</td>\n",
       "      <td>NaN</td>\n",
       "      <td>560.0</td>\n",
       "      <td>7.4</td>\n",
       "      <td>...</td>\n",
       "      <td>0.640</td>\n",
       "      <td>29.0</td>\n",
       "      <td>86.0</td>\n",
       "      <td>115.0</td>\n",
       "      <td>40.0</td>\n",
       "      <td>12.0</td>\n",
       "      <td>15.0</td>\n",
       "      <td>27.0</td>\n",
       "      <td>66.0</td>\n",
       "      <td>86.0</td>\n",
       "    </tr>\n",
       "  </tbody>\n",
       "</table>\n",
       "<p>5 rows × 53 columns</p>\n",
       "</div>"
      ],
      "text/plain": [
       "   Unnamed: 0    Year                Player Pos   Age   Tm     G    GS  \\\n",
       "0        5727  1980.0  Kareem Abdul-Jabbar*   C  32.0  LAL  82.0   NaN   \n",
       "1        5728  1980.0         Tom Abernethy  PF  25.0  GSW  67.0   NaN   \n",
       "2        5729  1980.0           Alvan Adams   C  25.0  PHO  75.0   NaN   \n",
       "3        5730  1980.0       Tiny Archibald*  PG  31.0  BOS  80.0  80.0   \n",
       "4        5731  1980.0         Dennis Awtrey   C  31.0  CHI  26.0   NaN   \n",
       "\n",
       "       MP   PER  ...    FT%    ORB    DRB    TRB    AST    STL    BLK    TOV  \\\n",
       "0  3143.0  25.3  ...  0.765  190.0  696.0  886.0  371.0   81.0  280.0  297.0   \n",
       "1  1222.0  11.0  ...  0.683   62.0  129.0  191.0   87.0   35.0   12.0   39.0   \n",
       "2  2168.0  19.2  ...  0.797  158.0  451.0  609.0  322.0  108.0   55.0  218.0   \n",
       "3  2864.0  15.3  ...  0.830   59.0  138.0  197.0  671.0  106.0   10.0  242.0   \n",
       "4   560.0   7.4  ...  0.640   29.0   86.0  115.0   40.0   12.0   15.0   27.0   \n",
       "\n",
       "      PF     PTS  \n",
       "0  216.0  2034.0  \n",
       "1  118.0   362.0  \n",
       "2  237.0  1118.0  \n",
       "3  218.0  1131.0  \n",
       "4   66.0    86.0  \n",
       "\n",
       "[5 rows x 53 columns]"
      ]
     },
     "execution_count": 7,
     "metadata": {},
     "output_type": "execute_result"
    }
   ],
   "source": [
    "stats = stats.loc[stats['Year'] >= 1980].reset_index(drop=True)\n",
    "stats.head()"
   ]
  },
  {
   "cell_type": "markdown",
   "metadata": {},
   "source": [
    "We only want to keep the following features. These features will be fundamental for our classifier:\n",
    "\n",
    "* Year\n",
    "* Player\n",
    "* Position\n",
    "* Games played\n",
    "* True shooting percentage\n",
    "* Assists\n",
    "* Points\n",
    "* Total Rebounds\n",
    "* Total Steals\n",
    "* Total Blocks"
   ]
  },
  {
   "cell_type": "code",
   "execution_count": 9,
   "metadata": {},
   "outputs": [
    {
     "data": {
      "text/html": [
       "<div>\n",
       "<style scoped>\n",
       "    .dataframe tbody tr th:only-of-type {\n",
       "        vertical-align: middle;\n",
       "    }\n",
       "\n",
       "    .dataframe tbody tr th {\n",
       "        vertical-align: top;\n",
       "    }\n",
       "\n",
       "    .dataframe thead th {\n",
       "        text-align: right;\n",
       "    }\n",
       "</style>\n",
       "<table border=\"1\" class=\"dataframe\">\n",
       "  <thead>\n",
       "    <tr style=\"text-align: right;\">\n",
       "      <th></th>\n",
       "      <th>Year</th>\n",
       "      <th>Player</th>\n",
       "      <th>Pos</th>\n",
       "      <th>G</th>\n",
       "      <th>TS%</th>\n",
       "      <th>TRB</th>\n",
       "      <th>AST</th>\n",
       "      <th>PTS</th>\n",
       "      <th>STL</th>\n",
       "      <th>BLK</th>\n",
       "    </tr>\n",
       "  </thead>\n",
       "  <tbody>\n",
       "    <tr>\n",
       "      <th>0</th>\n",
       "      <td>1980.0</td>\n",
       "      <td>Kareem Abdul-Jabbar*</td>\n",
       "      <td>C</td>\n",
       "      <td>82.0</td>\n",
       "      <td>0.639</td>\n",
       "      <td>886.0</td>\n",
       "      <td>371.0</td>\n",
       "      <td>2034.0</td>\n",
       "      <td>81.0</td>\n",
       "      <td>280.0</td>\n",
       "    </tr>\n",
       "    <tr>\n",
       "      <th>1</th>\n",
       "      <td>1980.0</td>\n",
       "      <td>Tom Abernethy</td>\n",
       "      <td>PF</td>\n",
       "      <td>67.0</td>\n",
       "      <td>0.511</td>\n",
       "      <td>191.0</td>\n",
       "      <td>87.0</td>\n",
       "      <td>362.0</td>\n",
       "      <td>35.0</td>\n",
       "      <td>12.0</td>\n",
       "    </tr>\n",
       "    <tr>\n",
       "      <th>2</th>\n",
       "      <td>1980.0</td>\n",
       "      <td>Alvan Adams</td>\n",
       "      <td>C</td>\n",
       "      <td>75.0</td>\n",
       "      <td>0.571</td>\n",
       "      <td>609.0</td>\n",
       "      <td>322.0</td>\n",
       "      <td>1118.0</td>\n",
       "      <td>108.0</td>\n",
       "      <td>55.0</td>\n",
       "    </tr>\n",
       "    <tr>\n",
       "      <th>3</th>\n",
       "      <td>1980.0</td>\n",
       "      <td>Tiny Archibald*</td>\n",
       "      <td>PG</td>\n",
       "      <td>80.0</td>\n",
       "      <td>0.574</td>\n",
       "      <td>197.0</td>\n",
       "      <td>671.0</td>\n",
       "      <td>1131.0</td>\n",
       "      <td>106.0</td>\n",
       "      <td>10.0</td>\n",
       "    </tr>\n",
       "    <tr>\n",
       "      <th>4</th>\n",
       "      <td>1980.0</td>\n",
       "      <td>Dennis Awtrey</td>\n",
       "      <td>C</td>\n",
       "      <td>26.0</td>\n",
       "      <td>0.524</td>\n",
       "      <td>115.0</td>\n",
       "      <td>40.0</td>\n",
       "      <td>86.0</td>\n",
       "      <td>12.0</td>\n",
       "      <td>15.0</td>\n",
       "    </tr>\n",
       "  </tbody>\n",
       "</table>\n",
       "</div>"
      ],
      "text/plain": [
       "     Year                Player Pos     G    TS%    TRB    AST     PTS    STL  \\\n",
       "0  1980.0  Kareem Abdul-Jabbar*   C  82.0  0.639  886.0  371.0  2034.0   81.0   \n",
       "1  1980.0         Tom Abernethy  PF  67.0  0.511  191.0   87.0   362.0   35.0   \n",
       "2  1980.0           Alvan Adams   C  75.0  0.571  609.0  322.0  1118.0  108.0   \n",
       "3  1980.0       Tiny Archibald*  PG  80.0  0.574  197.0  671.0  1131.0  106.0   \n",
       "4  1980.0         Dennis Awtrey   C  26.0  0.524  115.0   40.0    86.0   12.0   \n",
       "\n",
       "     BLK  \n",
       "0  280.0  \n",
       "1   12.0  \n",
       "2   55.0  \n",
       "3   10.0  \n",
       "4   15.0  "
      ]
     },
     "execution_count": 9,
     "metadata": {},
     "output_type": "execute_result"
    }
   ],
   "source": [
    "stats = stats[stats_cols[1:4] + ['G','TS%','TRB','AST','PTS', 'STL', 'BLK']]\n",
    "stats.head()"
   ]
  },
  {
   "cell_type": "markdown",
   "metadata": {},
   "source": [
    "Check for missing values"
   ]
  },
  {
   "cell_type": "code",
   "execution_count": 10,
   "metadata": {},
   "outputs": [
    {
     "name": "stdout",
     "output_type": "stream",
     "text": [
      "Year :  False\n",
      "Player: False\n",
      "Pos: False\n",
      "G :  False\n",
      "TS% :  True\n",
      "TRB :  False\n",
      "AST :  False\n",
      "PTS :  False\n",
      "STL :  False\n",
      "BLK :  False\n"
     ]
    }
   ],
   "source": [
    "detect_missing_values(stats)"
   ]
  },
  {
   "cell_type": "markdown",
   "metadata": {},
   "source": [
    "Some other observed irregularities are that the years are floats and some Player names have extra characters (like asterisks). I will thus change these. "
   ]
  },
  {
   "cell_type": "code",
   "execution_count": 11,
   "metadata": {},
   "outputs": [
    {
     "data": {
      "text/plain": [
       "(True, True)"
      ]
     },
     "execution_count": 11,
     "metadata": {},
     "output_type": "execute_result"
    }
   ],
   "source": [
    "stats['Year'] = stats['Year'].apply(lambda s: int(s))\n",
    "stats['Player'] = stats['Player'].apply(lambda name: name[:-1] if '*' in name else name)\n",
    "(all([isinstance(year, int) for year in stats['Year']]), \n",
    " all(['*' not in name for name in stats['Player']]))"
   ]
  },
  {
   "cell_type": "markdown",
   "metadata": {},
   "source": [
    "Now I will be converting the TRB (total rebounds), AST (assists), and PTS (points) to their per game equivalents by dividing the gross number of rebounds, assists, or points by number of games played. This will enable us to compare all players with each other; a given players statistics won't appear inflated because they played more games than another player."
   ]
  },
  {
   "cell_type": "code",
   "execution_count": 12,
   "metadata": {},
   "outputs": [],
   "source": [
    "per_game_stats(stats, 'G')"
   ]
  },
  {
   "cell_type": "code",
   "execution_count": 13,
   "metadata": {},
   "outputs": [],
   "source": [
    "stats = stats.drop(columns=['TRB', 'AST', 'PTS', 'BLK', 'STL', 'G'])"
   ]
  },
  {
   "cell_type": "code",
   "execution_count": 14,
   "metadata": {
    "scrolled": true
   },
   "outputs": [
    {
     "data": {
      "text/html": [
       "<div>\n",
       "<style scoped>\n",
       "    .dataframe tbody tr th:only-of-type {\n",
       "        vertical-align: middle;\n",
       "    }\n",
       "\n",
       "    .dataframe tbody tr th {\n",
       "        vertical-align: top;\n",
       "    }\n",
       "\n",
       "    .dataframe thead th {\n",
       "        text-align: right;\n",
       "    }\n",
       "</style>\n",
       "<table border=\"1\" class=\"dataframe\">\n",
       "  <thead>\n",
       "    <tr style=\"text-align: right;\">\n",
       "      <th></th>\n",
       "      <th>Year</th>\n",
       "      <th>TS%</th>\n",
       "      <th>RPG</th>\n",
       "      <th>APG</th>\n",
       "      <th>PPG</th>\n",
       "      <th>BPG</th>\n",
       "      <th>SPG</th>\n",
       "    </tr>\n",
       "  </thead>\n",
       "  <tbody>\n",
       "    <tr>\n",
       "      <th>count</th>\n",
       "      <td>18927.000000</td>\n",
       "      <td>18851.000000</td>\n",
       "      <td>18927.000000</td>\n",
       "      <td>18927.000000</td>\n",
       "      <td>18927.000000</td>\n",
       "      <td>18927.000000</td>\n",
       "      <td>18927.000000</td>\n",
       "    </tr>\n",
       "    <tr>\n",
       "      <th>mean</th>\n",
       "      <td>2000.272415</td>\n",
       "      <td>0.503862</td>\n",
       "      <td>3.468066</td>\n",
       "      <td>1.848202</td>\n",
       "      <td>8.047679</td>\n",
       "      <td>0.406166</td>\n",
       "      <td>0.659704</td>\n",
       "    </tr>\n",
       "    <tr>\n",
       "      <th>std</th>\n",
       "      <td>10.691977</td>\n",
       "      <td>0.094507</td>\n",
       "      <td>2.537640</td>\n",
       "      <td>1.848489</td>\n",
       "      <td>5.958002</td>\n",
       "      <td>0.509952</td>\n",
       "      <td>0.479654</td>\n",
       "    </tr>\n",
       "    <tr>\n",
       "      <th>min</th>\n",
       "      <td>1980.000000</td>\n",
       "      <td>0.000000</td>\n",
       "      <td>0.000000</td>\n",
       "      <td>0.000000</td>\n",
       "      <td>0.000000</td>\n",
       "      <td>0.000000</td>\n",
       "      <td>0.000000</td>\n",
       "    </tr>\n",
       "    <tr>\n",
       "      <th>25%</th>\n",
       "      <td>1992.000000</td>\n",
       "      <td>0.473000</td>\n",
       "      <td>1.609566</td>\n",
       "      <td>0.571429</td>\n",
       "      <td>3.383974</td>\n",
       "      <td>0.090909</td>\n",
       "      <td>0.312500</td>\n",
       "    </tr>\n",
       "    <tr>\n",
       "      <th>50%</th>\n",
       "      <td>2001.000000</td>\n",
       "      <td>0.516000</td>\n",
       "      <td>2.814815</td>\n",
       "      <td>1.250000</td>\n",
       "      <td>6.492537</td>\n",
       "      <td>0.238095</td>\n",
       "      <td>0.567568</td>\n",
       "    </tr>\n",
       "    <tr>\n",
       "      <th>75%</th>\n",
       "      <td>2010.000000</td>\n",
       "      <td>0.551000</td>\n",
       "      <td>4.680580</td>\n",
       "      <td>2.503165</td>\n",
       "      <td>11.500000</td>\n",
       "      <td>0.511628</td>\n",
       "      <td>0.911392</td>\n",
       "    </tr>\n",
       "    <tr>\n",
       "      <th>max</th>\n",
       "      <td>2017.000000</td>\n",
       "      <td>1.136000</td>\n",
       "      <td>18.658537</td>\n",
       "      <td>14.538462</td>\n",
       "      <td>37.085366</td>\n",
       "      <td>6.000000</td>\n",
       "      <td>3.670732</td>\n",
       "    </tr>\n",
       "  </tbody>\n",
       "</table>\n",
       "</div>"
      ],
      "text/plain": [
       "               Year           TS%           RPG           APG           PPG  \\\n",
       "count  18927.000000  18851.000000  18927.000000  18927.000000  18927.000000   \n",
       "mean    2000.272415      0.503862      3.468066      1.848202      8.047679   \n",
       "std       10.691977      0.094507      2.537640      1.848489      5.958002   \n",
       "min     1980.000000      0.000000      0.000000      0.000000      0.000000   \n",
       "25%     1992.000000      0.473000      1.609566      0.571429      3.383974   \n",
       "50%     2001.000000      0.516000      2.814815      1.250000      6.492537   \n",
       "75%     2010.000000      0.551000      4.680580      2.503165     11.500000   \n",
       "max     2017.000000      1.136000     18.658537     14.538462     37.085366   \n",
       "\n",
       "                BPG           SPG  \n",
       "count  18927.000000  18927.000000  \n",
       "mean       0.406166      0.659704  \n",
       "std        0.509952      0.479654  \n",
       "min        0.000000      0.000000  \n",
       "25%        0.090909      0.312500  \n",
       "50%        0.238095      0.567568  \n",
       "75%        0.511628      0.911392  \n",
       "max        6.000000      3.670732  "
      ]
     },
     "execution_count": 14,
     "metadata": {},
     "output_type": "execute_result"
    }
   ],
   "source": [
    "stats_descr = stats.describe()\n",
    "stats_descr"
   ]
  },
  {
   "cell_type": "markdown",
   "metadata": {},
   "source": [
    "PG=Point Guard \n",
    "\n",
    "G=Point Guard and Shooting Guard \n",
    "\n",
    "SG=Shooting Guard \n",
    "\n",
    "GF= Shooting Guard and Small Forward \n",
    "\n",
    "SF=Small Forward \n",
    "\n",
    "F= Small Forward and Power Forward \n",
    "\n",
    "PF= Power Forward \n",
    "\n",
    "FC= Power Forward and Center \n",
    "\n",
    "C= Center"
   ]
  },
  {
   "cell_type": "code",
   "execution_count": 15,
   "metadata": {},
   "outputs": [
    {
     "data": {
      "text/plain": [
       "['SG-PG',\n",
       " 'C',\n",
       " 'PG-SG',\n",
       " 'SF',\n",
       " 'C-PF',\n",
       " 'SG-PF',\n",
       " 'C-SF',\n",
       " 'PF',\n",
       " 'SG-SF',\n",
       " 'SF-SG',\n",
       " 'PG-SF',\n",
       " 'PG',\n",
       " 'PF-SF',\n",
       " 'PF-C',\n",
       " 'SG',\n",
       " 'SF-PF']"
      ]
     },
     "execution_count": 15,
     "metadata": {},
     "output_type": "execute_result"
    }
   ],
   "source": [
    "list(set(stats['Pos']))"
   ]
  },
  {
   "cell_type": "markdown",
   "metadata": {},
   "source": [
    "The stats 'Pos' column will be refined to match these positions.\n",
    "\n",
    "* 'PG', 'SG', 'SG-PG', and 'PG-SG' will become 'G'\n",
    "* 'PF-C', 'C-PF', and 'C-SF' will become 'FC'\n",
    "* 'SF', 'SF-PF', 'PF', and 'PF-SF' will become 'F'\n",
    "* 'SG-SF', 'SG-PF', 'PG-SF', and 'SF-SG' will become 'GF'\n",
    "* 'C' will remain 'C'"
   ]
  },
  {
   "cell_type": "code",
   "execution_count": 16,
   "metadata": {},
   "outputs": [],
   "source": [
    "stats['Pos_og'] = stats['Pos'].copy()"
   ]
  },
  {
   "cell_type": "code",
   "execution_count": 17,
   "metadata": {},
   "outputs": [
    {
     "data": {
      "text/plain": [
       "['FC', 'C', 'GF', 'G', 'F']"
      ]
     },
     "execution_count": 17,
     "metadata": {},
     "output_type": "execute_result"
    }
   ],
   "source": [
    "reset_position(stats)\n",
    "list(set(stats['Pos']))"
   ]
  },
  {
   "cell_type": "markdown",
   "metadata": {},
   "source": [
    "### Add a Column Indicating if a Player earned All Star honors that Season<a class=\"anchor\" id=\"allstar\"></a>"
   ]
  },
  {
   "cell_type": "markdown",
   "metadata": {},
   "source": [
    "I will now add a column decoding if a player was an all-star in that season"
   ]
  },
  {
   "cell_type": "code",
   "execution_count": 18,
   "metadata": {},
   "outputs": [
    {
     "data": {
      "text/html": [
       "<div>\n",
       "<style scoped>\n",
       "    .dataframe tbody tr th:only-of-type {\n",
       "        vertical-align: middle;\n",
       "    }\n",
       "\n",
       "    .dataframe tbody tr th {\n",
       "        vertical-align: top;\n",
       "    }\n",
       "\n",
       "    .dataframe thead th {\n",
       "        text-align: right;\n",
       "    }\n",
       "</style>\n",
       "<table border=\"1\" class=\"dataframe\">\n",
       "  <thead>\n",
       "    <tr style=\"text-align: right;\">\n",
       "      <th></th>\n",
       "      <th>Player</th>\n",
       "      <th>Year</th>\n",
       "    </tr>\n",
       "  </thead>\n",
       "  <tbody>\n",
       "    <tr>\n",
       "      <th>0</th>\n",
       "      <td>Kareem Abdul-Jabbar</td>\n",
       "      <td>1970</td>\n",
       "    </tr>\n",
       "    <tr>\n",
       "      <th>1</th>\n",
       "      <td>Kareem Abdul-Jabbar</td>\n",
       "      <td>1971</td>\n",
       "    </tr>\n",
       "    <tr>\n",
       "      <th>2</th>\n",
       "      <td>Kareem Abdul-Jabbar</td>\n",
       "      <td>1972</td>\n",
       "    </tr>\n",
       "    <tr>\n",
       "      <th>3</th>\n",
       "      <td>Kareem Abdul-Jabbar</td>\n",
       "      <td>1973</td>\n",
       "    </tr>\n",
       "    <tr>\n",
       "      <th>4</th>\n",
       "      <td>Kareem Abdul-Jabbar</td>\n",
       "      <td>1974</td>\n",
       "    </tr>\n",
       "  </tbody>\n",
       "</table>\n",
       "</div>"
      ],
      "text/plain": [
       "                Player  Year\n",
       "0  Kareem Abdul-Jabbar  1970\n",
       "1  Kareem Abdul-Jabbar  1971\n",
       "2  Kareem Abdul-Jabbar  1972\n",
       "3  Kareem Abdul-Jabbar  1973\n",
       "4  Kareem Abdul-Jabbar  1974"
      ]
     },
     "execution_count": 18,
     "metadata": {},
     "output_type": "execute_result"
    }
   ],
   "source": [
    "all_stars_df = pd.read_csv('all_stars_upd2.csv')\n",
    "# all_stars_df = all_stars_df.loc[all_stars_df['Year'] >= 1980].reset_index().rename(columns = {'Name':'Player'})\n",
    "all_stars_df.head()"
   ]
  },
  {
   "cell_type": "code",
   "execution_count": 19,
   "metadata": {},
   "outputs": [],
   "source": [
    "# create tuples with the format (Player, Year)\n",
    "all_star_tups = list(all_stars_df.apply(lambda row: (row['Player'], row['Year']), axis=1))"
   ]
  },
  {
   "cell_type": "code",
   "execution_count": 20,
   "metadata": {},
   "outputs": [],
   "source": [
    "players_tups = list(stats.apply(lambda row: (row['Player'], row['Year']), axis=1))"
   ]
  },
  {
   "cell_type": "code",
   "execution_count": 21,
   "metadata": {},
   "outputs": [],
   "source": [
    "# denote whether or not a player was an All Star that season\n",
    "all_stars = pd.Series(players_tups).apply(lambda tup: 'Y' if tup in all_star_tups else 'N')"
   ]
  },
  {
   "cell_type": "code",
   "execution_count": 22,
   "metadata": {},
   "outputs": [
    {
     "data": {
      "text/plain": [
       "N    0.949966\n",
       "Y    0.050034\n",
       "dtype: float64"
      ]
     },
     "execution_count": 22,
     "metadata": {},
     "output_type": "execute_result"
    }
   ],
   "source": [
    "all_stars.value_counts(normalize=True)"
   ]
  },
  {
   "cell_type": "code",
   "execution_count": 23,
   "metadata": {},
   "outputs": [],
   "source": [
    "stats['All Star'] = all_stars"
   ]
  },
  {
   "cell_type": "code",
   "execution_count": 24,
   "metadata": {},
   "outputs": [
    {
     "data": {
      "text/html": [
       "<div>\n",
       "<style scoped>\n",
       "    .dataframe tbody tr th:only-of-type {\n",
       "        vertical-align: middle;\n",
       "    }\n",
       "\n",
       "    .dataframe tbody tr th {\n",
       "        vertical-align: top;\n",
       "    }\n",
       "\n",
       "    .dataframe thead th {\n",
       "        text-align: right;\n",
       "    }\n",
       "</style>\n",
       "<table border=\"1\" class=\"dataframe\">\n",
       "  <thead>\n",
       "    <tr style=\"text-align: right;\">\n",
       "      <th></th>\n",
       "      <th>Year</th>\n",
       "      <th>Player</th>\n",
       "      <th>Pos</th>\n",
       "      <th>TS%</th>\n",
       "      <th>RPG</th>\n",
       "      <th>APG</th>\n",
       "      <th>PPG</th>\n",
       "      <th>BPG</th>\n",
       "      <th>SPG</th>\n",
       "      <th>Pos_og</th>\n",
       "      <th>All Star</th>\n",
       "    </tr>\n",
       "  </thead>\n",
       "  <tbody>\n",
       "    <tr>\n",
       "      <th>0</th>\n",
       "      <td>1980</td>\n",
       "      <td>Kareem Abdul-Jabbar</td>\n",
       "      <td>C</td>\n",
       "      <td>0.639</td>\n",
       "      <td>10.804878</td>\n",
       "      <td>4.524390</td>\n",
       "      <td>24.804878</td>\n",
       "      <td>3.414634</td>\n",
       "      <td>0.987805</td>\n",
       "      <td>C</td>\n",
       "      <td>Y</td>\n",
       "    </tr>\n",
       "    <tr>\n",
       "      <th>1</th>\n",
       "      <td>1980</td>\n",
       "      <td>Tom Abernethy</td>\n",
       "      <td>F</td>\n",
       "      <td>0.511</td>\n",
       "      <td>2.850746</td>\n",
       "      <td>1.298507</td>\n",
       "      <td>5.402985</td>\n",
       "      <td>0.179104</td>\n",
       "      <td>0.522388</td>\n",
       "      <td>PF</td>\n",
       "      <td>N</td>\n",
       "    </tr>\n",
       "    <tr>\n",
       "      <th>2</th>\n",
       "      <td>1980</td>\n",
       "      <td>Alvan Adams</td>\n",
       "      <td>C</td>\n",
       "      <td>0.571</td>\n",
       "      <td>8.120000</td>\n",
       "      <td>4.293333</td>\n",
       "      <td>14.906667</td>\n",
       "      <td>0.733333</td>\n",
       "      <td>1.440000</td>\n",
       "      <td>C</td>\n",
       "      <td>N</td>\n",
       "    </tr>\n",
       "    <tr>\n",
       "      <th>3</th>\n",
       "      <td>1980</td>\n",
       "      <td>Tiny Archibald</td>\n",
       "      <td>G</td>\n",
       "      <td>0.574</td>\n",
       "      <td>2.462500</td>\n",
       "      <td>8.387500</td>\n",
       "      <td>14.137500</td>\n",
       "      <td>0.125000</td>\n",
       "      <td>1.325000</td>\n",
       "      <td>PG</td>\n",
       "      <td>N</td>\n",
       "    </tr>\n",
       "    <tr>\n",
       "      <th>4</th>\n",
       "      <td>1980</td>\n",
       "      <td>Dennis Awtrey</td>\n",
       "      <td>C</td>\n",
       "      <td>0.524</td>\n",
       "      <td>4.423077</td>\n",
       "      <td>1.538462</td>\n",
       "      <td>3.307692</td>\n",
       "      <td>0.576923</td>\n",
       "      <td>0.461538</td>\n",
       "      <td>C</td>\n",
       "      <td>N</td>\n",
       "    </tr>\n",
       "  </tbody>\n",
       "</table>\n",
       "</div>"
      ],
      "text/plain": [
       "   Year               Player Pos    TS%        RPG       APG        PPG  \\\n",
       "0  1980  Kareem Abdul-Jabbar   C  0.639  10.804878  4.524390  24.804878   \n",
       "1  1980        Tom Abernethy   F  0.511   2.850746  1.298507   5.402985   \n",
       "2  1980          Alvan Adams   C  0.571   8.120000  4.293333  14.906667   \n",
       "3  1980       Tiny Archibald   G  0.574   2.462500  8.387500  14.137500   \n",
       "4  1980        Dennis Awtrey   C  0.524   4.423077  1.538462   3.307692   \n",
       "\n",
       "        BPG       SPG Pos_og All Star  \n",
       "0  3.414634  0.987805      C        Y  \n",
       "1  0.179104  0.522388     PF        N  \n",
       "2  0.733333  1.440000      C        N  \n",
       "3  0.125000  1.325000     PG        N  \n",
       "4  0.576923  0.461538      C        N  "
      ]
     },
     "execution_count": 24,
     "metadata": {},
     "output_type": "execute_result"
    }
   ],
   "source": [
    "stats.head()"
   ]
  },
  {
   "cell_type": "code",
   "execution_count": 25,
   "metadata": {},
   "outputs": [],
   "source": [
    "# classify the stats\n",
    "stats_all_stars_cont = stats[stats['All Star'] == 'Y']\n",
    "stats_not_all_stars_cont = stats[stats['All Star'] == 'N']"
   ]
  },
  {
   "cell_type": "markdown",
   "metadata": {},
   "source": [
    "### Add a Column Indicating if a Player earned MVP that Season<a class=\"anchor\" id=\"mvp\"></a>"
   ]
  },
  {
   "cell_type": "code",
   "execution_count": 26,
   "metadata": {},
   "outputs": [
    {
     "data": {
      "text/html": [
       "<div>\n",
       "<style scoped>\n",
       "    .dataframe tbody tr th:only-of-type {\n",
       "        vertical-align: middle;\n",
       "    }\n",
       "\n",
       "    .dataframe tbody tr th {\n",
       "        vertical-align: top;\n",
       "    }\n",
       "\n",
       "    .dataframe thead th {\n",
       "        text-align: right;\n",
       "    }\n",
       "</style>\n",
       "<table border=\"1\" class=\"dataframe\">\n",
       "  <thead>\n",
       "    <tr style=\"text-align: right;\">\n",
       "      <th></th>\n",
       "      <th>Season</th>\n",
       "      <th>Lg</th>\n",
       "      <th>Player</th>\n",
       "      <th>Voting</th>\n",
       "      <th>Age</th>\n",
       "      <th>Tm</th>\n",
       "      <th>G</th>\n",
       "      <th>MP</th>\n",
       "      <th>PTS</th>\n",
       "      <th>TRB</th>\n",
       "      <th>AST</th>\n",
       "      <th>STL</th>\n",
       "      <th>BLK</th>\n",
       "      <th>FG%</th>\n",
       "      <th>3P%</th>\n",
       "      <th>FT%</th>\n",
       "      <th>WS</th>\n",
       "      <th>WS/48</th>\n",
       "    </tr>\n",
       "  </thead>\n",
       "  <tbody>\n",
       "    <tr>\n",
       "      <th>0</th>\n",
       "      <td>2019-20</td>\n",
       "      <td>NBA</td>\n",
       "      <td>Giannis Antetokounmpo\\antetgi01</td>\n",
       "      <td>(V)</td>\n",
       "      <td>25</td>\n",
       "      <td>MIL</td>\n",
       "      <td>63</td>\n",
       "      <td>30.4</td>\n",
       "      <td>29.5</td>\n",
       "      <td>13.6</td>\n",
       "      <td>5.6</td>\n",
       "      <td>1.0</td>\n",
       "      <td>1.0</td>\n",
       "      <td>0.553</td>\n",
       "      <td>0.304</td>\n",
       "      <td>0.633</td>\n",
       "      <td>11.1</td>\n",
       "      <td>0.279</td>\n",
       "    </tr>\n",
       "    <tr>\n",
       "      <th>1</th>\n",
       "      <td>2018-19</td>\n",
       "      <td>NBA</td>\n",
       "      <td>Giannis Antetokounmpo\\antetgi01</td>\n",
       "      <td>(V)</td>\n",
       "      <td>24</td>\n",
       "      <td>MIL</td>\n",
       "      <td>72</td>\n",
       "      <td>32.8</td>\n",
       "      <td>27.7</td>\n",
       "      <td>12.5</td>\n",
       "      <td>5.9</td>\n",
       "      <td>1.3</td>\n",
       "      <td>1.5</td>\n",
       "      <td>0.578</td>\n",
       "      <td>0.256</td>\n",
       "      <td>0.729</td>\n",
       "      <td>14.4</td>\n",
       "      <td>0.292</td>\n",
       "    </tr>\n",
       "    <tr>\n",
       "      <th>2</th>\n",
       "      <td>2017-18</td>\n",
       "      <td>NBA</td>\n",
       "      <td>James Harden\\hardeja01</td>\n",
       "      <td>(V)</td>\n",
       "      <td>28</td>\n",
       "      <td>HOU</td>\n",
       "      <td>72</td>\n",
       "      <td>35.4</td>\n",
       "      <td>30.4</td>\n",
       "      <td>5.4</td>\n",
       "      <td>8.8</td>\n",
       "      <td>1.8</td>\n",
       "      <td>0.7</td>\n",
       "      <td>0.449</td>\n",
       "      <td>0.367</td>\n",
       "      <td>0.858</td>\n",
       "      <td>15.4</td>\n",
       "      <td>0.289</td>\n",
       "    </tr>\n",
       "    <tr>\n",
       "      <th>3</th>\n",
       "      <td>2016-17</td>\n",
       "      <td>NBA</td>\n",
       "      <td>Russell Westbrook\\westbru01</td>\n",
       "      <td>(V)</td>\n",
       "      <td>28</td>\n",
       "      <td>OKC</td>\n",
       "      <td>81</td>\n",
       "      <td>34.6</td>\n",
       "      <td>31.6</td>\n",
       "      <td>10.7</td>\n",
       "      <td>10.4</td>\n",
       "      <td>1.6</td>\n",
       "      <td>0.4</td>\n",
       "      <td>0.425</td>\n",
       "      <td>0.343</td>\n",
       "      <td>0.845</td>\n",
       "      <td>13.1</td>\n",
       "      <td>0.224</td>\n",
       "    </tr>\n",
       "    <tr>\n",
       "      <th>4</th>\n",
       "      <td>2015-16</td>\n",
       "      <td>NBA</td>\n",
       "      <td>Stephen Curry\\curryst01</td>\n",
       "      <td>(V)</td>\n",
       "      <td>27</td>\n",
       "      <td>GSW</td>\n",
       "      <td>79</td>\n",
       "      <td>34.2</td>\n",
       "      <td>30.1</td>\n",
       "      <td>5.4</td>\n",
       "      <td>6.7</td>\n",
       "      <td>2.1</td>\n",
       "      <td>0.2</td>\n",
       "      <td>0.504</td>\n",
       "      <td>0.454</td>\n",
       "      <td>0.908</td>\n",
       "      <td>17.9</td>\n",
       "      <td>0.318</td>\n",
       "    </tr>\n",
       "  </tbody>\n",
       "</table>\n",
       "</div>"
      ],
      "text/plain": [
       "    Season   Lg                           Player Voting  Age   Tm   G    MP  \\\n",
       "0  2019-20  NBA  Giannis Antetokounmpo\\antetgi01    (V)   25  MIL  63  30.4   \n",
       "1  2018-19  NBA  Giannis Antetokounmpo\\antetgi01    (V)   24  MIL  72  32.8   \n",
       "2  2017-18  NBA           James Harden\\hardeja01    (V)   28  HOU  72  35.4   \n",
       "3  2016-17  NBA      Russell Westbrook\\westbru01    (V)   28  OKC  81  34.6   \n",
       "4  2015-16  NBA          Stephen Curry\\curryst01    (V)   27  GSW  79  34.2   \n",
       "\n",
       "    PTS   TRB   AST  STL  BLK    FG%    3P%    FT%    WS  WS/48  \n",
       "0  29.5  13.6   5.6  1.0  1.0  0.553  0.304  0.633  11.1  0.279  \n",
       "1  27.7  12.5   5.9  1.3  1.5  0.578  0.256  0.729  14.4  0.292  \n",
       "2  30.4   5.4   8.8  1.8  0.7  0.449  0.367  0.858  15.4  0.289  \n",
       "3  31.6  10.7  10.4  1.6  0.4  0.425  0.343  0.845  13.1  0.224  \n",
       "4  30.1   5.4   6.7  2.1  0.2  0.504  0.454  0.908  17.9  0.318  "
      ]
     },
     "execution_count": 26,
     "metadata": {},
     "output_type": "execute_result"
    }
   ],
   "source": [
    "mvps = pd.read_csv('mvps.csv')\n",
    "mvps.head()"
   ]
  },
  {
   "cell_type": "code",
   "execution_count": 27,
   "metadata": {},
   "outputs": [
    {
     "data": {
      "text/html": [
       "<div>\n",
       "<style scoped>\n",
       "    .dataframe tbody tr th:only-of-type {\n",
       "        vertical-align: middle;\n",
       "    }\n",
       "\n",
       "    .dataframe tbody tr th {\n",
       "        vertical-align: top;\n",
       "    }\n",
       "\n",
       "    .dataframe thead th {\n",
       "        text-align: right;\n",
       "    }\n",
       "</style>\n",
       "<table border=\"1\" class=\"dataframe\">\n",
       "  <thead>\n",
       "    <tr style=\"text-align: right;\">\n",
       "      <th></th>\n",
       "      <th>Season</th>\n",
       "      <th>Lg</th>\n",
       "      <th>Player</th>\n",
       "      <th>Voting</th>\n",
       "      <th>Age</th>\n",
       "      <th>Tm</th>\n",
       "      <th>G</th>\n",
       "      <th>MP</th>\n",
       "      <th>PTS</th>\n",
       "      <th>TRB</th>\n",
       "      <th>AST</th>\n",
       "      <th>STL</th>\n",
       "      <th>BLK</th>\n",
       "      <th>FG%</th>\n",
       "      <th>3P%</th>\n",
       "      <th>FT%</th>\n",
       "      <th>WS</th>\n",
       "      <th>WS/48</th>\n",
       "    </tr>\n",
       "  </thead>\n",
       "  <tbody>\n",
       "    <tr>\n",
       "      <th>0</th>\n",
       "      <td>2019-20</td>\n",
       "      <td>NBA</td>\n",
       "      <td>Giannis Antetokounmpo</td>\n",
       "      <td>(V)</td>\n",
       "      <td>25</td>\n",
       "      <td>MIL</td>\n",
       "      <td>63</td>\n",
       "      <td>30.4</td>\n",
       "      <td>29.5</td>\n",
       "      <td>13.6</td>\n",
       "      <td>5.6</td>\n",
       "      <td>1.0</td>\n",
       "      <td>1.0</td>\n",
       "      <td>0.553</td>\n",
       "      <td>0.304</td>\n",
       "      <td>0.633</td>\n",
       "      <td>11.1</td>\n",
       "      <td>0.279</td>\n",
       "    </tr>\n",
       "    <tr>\n",
       "      <th>1</th>\n",
       "      <td>2018-19</td>\n",
       "      <td>NBA</td>\n",
       "      <td>Giannis Antetokounmpo</td>\n",
       "      <td>(V)</td>\n",
       "      <td>24</td>\n",
       "      <td>MIL</td>\n",
       "      <td>72</td>\n",
       "      <td>32.8</td>\n",
       "      <td>27.7</td>\n",
       "      <td>12.5</td>\n",
       "      <td>5.9</td>\n",
       "      <td>1.3</td>\n",
       "      <td>1.5</td>\n",
       "      <td>0.578</td>\n",
       "      <td>0.256</td>\n",
       "      <td>0.729</td>\n",
       "      <td>14.4</td>\n",
       "      <td>0.292</td>\n",
       "    </tr>\n",
       "    <tr>\n",
       "      <th>2</th>\n",
       "      <td>2017-18</td>\n",
       "      <td>NBA</td>\n",
       "      <td>James Harden</td>\n",
       "      <td>(V)</td>\n",
       "      <td>28</td>\n",
       "      <td>HOU</td>\n",
       "      <td>72</td>\n",
       "      <td>35.4</td>\n",
       "      <td>30.4</td>\n",
       "      <td>5.4</td>\n",
       "      <td>8.8</td>\n",
       "      <td>1.8</td>\n",
       "      <td>0.7</td>\n",
       "      <td>0.449</td>\n",
       "      <td>0.367</td>\n",
       "      <td>0.858</td>\n",
       "      <td>15.4</td>\n",
       "      <td>0.289</td>\n",
       "    </tr>\n",
       "    <tr>\n",
       "      <th>3</th>\n",
       "      <td>2016-17</td>\n",
       "      <td>NBA</td>\n",
       "      <td>Russell Westbrook</td>\n",
       "      <td>(V)</td>\n",
       "      <td>28</td>\n",
       "      <td>OKC</td>\n",
       "      <td>81</td>\n",
       "      <td>34.6</td>\n",
       "      <td>31.6</td>\n",
       "      <td>10.7</td>\n",
       "      <td>10.4</td>\n",
       "      <td>1.6</td>\n",
       "      <td>0.4</td>\n",
       "      <td>0.425</td>\n",
       "      <td>0.343</td>\n",
       "      <td>0.845</td>\n",
       "      <td>13.1</td>\n",
       "      <td>0.224</td>\n",
       "    </tr>\n",
       "    <tr>\n",
       "      <th>4</th>\n",
       "      <td>2015-16</td>\n",
       "      <td>NBA</td>\n",
       "      <td>Stephen Curry</td>\n",
       "      <td>(V)</td>\n",
       "      <td>27</td>\n",
       "      <td>GSW</td>\n",
       "      <td>79</td>\n",
       "      <td>34.2</td>\n",
       "      <td>30.1</td>\n",
       "      <td>5.4</td>\n",
       "      <td>6.7</td>\n",
       "      <td>2.1</td>\n",
       "      <td>0.2</td>\n",
       "      <td>0.504</td>\n",
       "      <td>0.454</td>\n",
       "      <td>0.908</td>\n",
       "      <td>17.9</td>\n",
       "      <td>0.318</td>\n",
       "    </tr>\n",
       "  </tbody>\n",
       "</table>\n",
       "</div>"
      ],
      "text/plain": [
       "    Season   Lg                 Player Voting  Age   Tm   G    MP   PTS   TRB  \\\n",
       "0  2019-20  NBA  Giannis Antetokounmpo    (V)   25  MIL  63  30.4  29.5  13.6   \n",
       "1  2018-19  NBA  Giannis Antetokounmpo    (V)   24  MIL  72  32.8  27.7  12.5   \n",
       "2  2017-18  NBA           James Harden    (V)   28  HOU  72  35.4  30.4   5.4   \n",
       "3  2016-17  NBA      Russell Westbrook    (V)   28  OKC  81  34.6  31.6  10.7   \n",
       "4  2015-16  NBA          Stephen Curry    (V)   27  GSW  79  34.2  30.1   5.4   \n",
       "\n",
       "    AST  STL  BLK    FG%    3P%    FT%    WS  WS/48  \n",
       "0   5.6  1.0  1.0  0.553  0.304  0.633  11.1  0.279  \n",
       "1   5.9  1.3  1.5  0.578  0.256  0.729  14.4  0.292  \n",
       "2   8.8  1.8  0.7  0.449  0.367  0.858  15.4  0.289  \n",
       "3  10.4  1.6  0.4  0.425  0.343  0.845  13.1  0.224  \n",
       "4   6.7  2.1  0.2  0.504  0.454  0.908  17.9  0.318  "
      ]
     },
     "execution_count": 27,
     "metadata": {},
     "output_type": "execute_result"
    }
   ],
   "source": [
    "mvps['Player'] = mvps['Player'].apply(lambda name: name[:name.index('\\\\')])\n",
    "mvps.head()"
   ]
  },
  {
   "cell_type": "code",
   "execution_count": 28,
   "metadata": {},
   "outputs": [
    {
     "data": {
      "text/html": [
       "<div>\n",
       "<style scoped>\n",
       "    .dataframe tbody tr th:only-of-type {\n",
       "        vertical-align: middle;\n",
       "    }\n",
       "\n",
       "    .dataframe tbody tr th {\n",
       "        vertical-align: top;\n",
       "    }\n",
       "\n",
       "    .dataframe thead th {\n",
       "        text-align: right;\n",
       "    }\n",
       "</style>\n",
       "<table border=\"1\" class=\"dataframe\">\n",
       "  <thead>\n",
       "    <tr style=\"text-align: right;\">\n",
       "      <th></th>\n",
       "      <th>Season</th>\n",
       "      <th>Lg</th>\n",
       "      <th>Player</th>\n",
       "      <th>Voting</th>\n",
       "      <th>Age</th>\n",
       "      <th>Tm</th>\n",
       "      <th>G</th>\n",
       "      <th>MP</th>\n",
       "      <th>PTS</th>\n",
       "      <th>TRB</th>\n",
       "      <th>AST</th>\n",
       "      <th>STL</th>\n",
       "      <th>BLK</th>\n",
       "      <th>FG%</th>\n",
       "      <th>3P%</th>\n",
       "      <th>FT%</th>\n",
       "      <th>WS</th>\n",
       "      <th>WS/48</th>\n",
       "      <th>Year</th>\n",
       "    </tr>\n",
       "  </thead>\n",
       "  <tbody>\n",
       "    <tr>\n",
       "      <th>0</th>\n",
       "      <td>2019-20</td>\n",
       "      <td>NBA</td>\n",
       "      <td>Giannis Antetokounmpo</td>\n",
       "      <td>(V)</td>\n",
       "      <td>25</td>\n",
       "      <td>MIL</td>\n",
       "      <td>63</td>\n",
       "      <td>30.4</td>\n",
       "      <td>29.5</td>\n",
       "      <td>13.6</td>\n",
       "      <td>5.6</td>\n",
       "      <td>1.0</td>\n",
       "      <td>1.0</td>\n",
       "      <td>0.553</td>\n",
       "      <td>0.304</td>\n",
       "      <td>0.633</td>\n",
       "      <td>11.1</td>\n",
       "      <td>0.279</td>\n",
       "      <td>2020</td>\n",
       "    </tr>\n",
       "    <tr>\n",
       "      <th>1</th>\n",
       "      <td>2018-19</td>\n",
       "      <td>NBA</td>\n",
       "      <td>Giannis Antetokounmpo</td>\n",
       "      <td>(V)</td>\n",
       "      <td>24</td>\n",
       "      <td>MIL</td>\n",
       "      <td>72</td>\n",
       "      <td>32.8</td>\n",
       "      <td>27.7</td>\n",
       "      <td>12.5</td>\n",
       "      <td>5.9</td>\n",
       "      <td>1.3</td>\n",
       "      <td>1.5</td>\n",
       "      <td>0.578</td>\n",
       "      <td>0.256</td>\n",
       "      <td>0.729</td>\n",
       "      <td>14.4</td>\n",
       "      <td>0.292</td>\n",
       "      <td>2019</td>\n",
       "    </tr>\n",
       "    <tr>\n",
       "      <th>2</th>\n",
       "      <td>2017-18</td>\n",
       "      <td>NBA</td>\n",
       "      <td>James Harden</td>\n",
       "      <td>(V)</td>\n",
       "      <td>28</td>\n",
       "      <td>HOU</td>\n",
       "      <td>72</td>\n",
       "      <td>35.4</td>\n",
       "      <td>30.4</td>\n",
       "      <td>5.4</td>\n",
       "      <td>8.8</td>\n",
       "      <td>1.8</td>\n",
       "      <td>0.7</td>\n",
       "      <td>0.449</td>\n",
       "      <td>0.367</td>\n",
       "      <td>0.858</td>\n",
       "      <td>15.4</td>\n",
       "      <td>0.289</td>\n",
       "      <td>2018</td>\n",
       "    </tr>\n",
       "    <tr>\n",
       "      <th>3</th>\n",
       "      <td>2016-17</td>\n",
       "      <td>NBA</td>\n",
       "      <td>Russell Westbrook</td>\n",
       "      <td>(V)</td>\n",
       "      <td>28</td>\n",
       "      <td>OKC</td>\n",
       "      <td>81</td>\n",
       "      <td>34.6</td>\n",
       "      <td>31.6</td>\n",
       "      <td>10.7</td>\n",
       "      <td>10.4</td>\n",
       "      <td>1.6</td>\n",
       "      <td>0.4</td>\n",
       "      <td>0.425</td>\n",
       "      <td>0.343</td>\n",
       "      <td>0.845</td>\n",
       "      <td>13.1</td>\n",
       "      <td>0.224</td>\n",
       "      <td>2017</td>\n",
       "    </tr>\n",
       "    <tr>\n",
       "      <th>4</th>\n",
       "      <td>2015-16</td>\n",
       "      <td>NBA</td>\n",
       "      <td>Stephen Curry</td>\n",
       "      <td>(V)</td>\n",
       "      <td>27</td>\n",
       "      <td>GSW</td>\n",
       "      <td>79</td>\n",
       "      <td>34.2</td>\n",
       "      <td>30.1</td>\n",
       "      <td>5.4</td>\n",
       "      <td>6.7</td>\n",
       "      <td>2.1</td>\n",
       "      <td>0.2</td>\n",
       "      <td>0.504</td>\n",
       "      <td>0.454</td>\n",
       "      <td>0.908</td>\n",
       "      <td>17.9</td>\n",
       "      <td>0.318</td>\n",
       "      <td>2016</td>\n",
       "    </tr>\n",
       "  </tbody>\n",
       "</table>\n",
       "</div>"
      ],
      "text/plain": [
       "    Season   Lg                 Player Voting  Age   Tm   G    MP   PTS   TRB  \\\n",
       "0  2019-20  NBA  Giannis Antetokounmpo    (V)   25  MIL  63  30.4  29.5  13.6   \n",
       "1  2018-19  NBA  Giannis Antetokounmpo    (V)   24  MIL  72  32.8  27.7  12.5   \n",
       "2  2017-18  NBA           James Harden    (V)   28  HOU  72  35.4  30.4   5.4   \n",
       "3  2016-17  NBA      Russell Westbrook    (V)   28  OKC  81  34.6  31.6  10.7   \n",
       "4  2015-16  NBA          Stephen Curry    (V)   27  GSW  79  34.2  30.1   5.4   \n",
       "\n",
       "    AST  STL  BLK    FG%    3P%    FT%    WS  WS/48  Year  \n",
       "0   5.6  1.0  1.0  0.553  0.304  0.633  11.1  0.279  2020  \n",
       "1   5.9  1.3  1.5  0.578  0.256  0.729  14.4  0.292  2019  \n",
       "2   8.8  1.8  0.7  0.449  0.367  0.858  15.4  0.289  2018  \n",
       "3  10.4  1.6  0.4  0.425  0.343  0.845  13.1  0.224  2017  \n",
       "4   6.7  2.1  0.2  0.504  0.454  0.908  17.9  0.318  2016  "
      ]
     },
     "execution_count": 28,
     "metadata": {},
     "output_type": "execute_result"
    }
   ],
   "source": [
    "mvps['Year'] = mvps['Season'].apply(lambda season: 2000 if season == '1999-2000'\n",
    "             else int(season[:2] + season[-2:len(season)]))\n",
    "mvps.head()"
   ]
  },
  {
   "cell_type": "code",
   "execution_count": 29,
   "metadata": {},
   "outputs": [],
   "source": [
    "mvp_tups = list(mvps.apply(lambda row: (row['Player'], row['Year']), axis=1))"
   ]
  },
  {
   "cell_type": "code",
   "execution_count": 30,
   "metadata": {},
   "outputs": [
    {
     "data": {
      "text/html": [
       "<div>\n",
       "<style scoped>\n",
       "    .dataframe tbody tr th:only-of-type {\n",
       "        vertical-align: middle;\n",
       "    }\n",
       "\n",
       "    .dataframe tbody tr th {\n",
       "        vertical-align: top;\n",
       "    }\n",
       "\n",
       "    .dataframe thead th {\n",
       "        text-align: right;\n",
       "    }\n",
       "</style>\n",
       "<table border=\"1\" class=\"dataframe\">\n",
       "  <thead>\n",
       "    <tr style=\"text-align: right;\">\n",
       "      <th></th>\n",
       "      <th>Year</th>\n",
       "      <th>Player</th>\n",
       "      <th>Pos</th>\n",
       "      <th>TS%</th>\n",
       "      <th>RPG</th>\n",
       "      <th>APG</th>\n",
       "      <th>PPG</th>\n",
       "      <th>BPG</th>\n",
       "      <th>SPG</th>\n",
       "      <th>Pos_og</th>\n",
       "      <th>All Star</th>\n",
       "      <th>MVP</th>\n",
       "    </tr>\n",
       "  </thead>\n",
       "  <tbody>\n",
       "    <tr>\n",
       "      <th>0</th>\n",
       "      <td>1980</td>\n",
       "      <td>Kareem Abdul-Jabbar</td>\n",
       "      <td>C</td>\n",
       "      <td>0.639</td>\n",
       "      <td>10.804878</td>\n",
       "      <td>4.524390</td>\n",
       "      <td>24.804878</td>\n",
       "      <td>3.414634</td>\n",
       "      <td>0.987805</td>\n",
       "      <td>C</td>\n",
       "      <td>Y</td>\n",
       "      <td>Y</td>\n",
       "    </tr>\n",
       "    <tr>\n",
       "      <th>1</th>\n",
       "      <td>1980</td>\n",
       "      <td>Tom Abernethy</td>\n",
       "      <td>F</td>\n",
       "      <td>0.511</td>\n",
       "      <td>2.850746</td>\n",
       "      <td>1.298507</td>\n",
       "      <td>5.402985</td>\n",
       "      <td>0.179104</td>\n",
       "      <td>0.522388</td>\n",
       "      <td>PF</td>\n",
       "      <td>N</td>\n",
       "      <td>Y</td>\n",
       "    </tr>\n",
       "    <tr>\n",
       "      <th>2</th>\n",
       "      <td>1980</td>\n",
       "      <td>Alvan Adams</td>\n",
       "      <td>C</td>\n",
       "      <td>0.571</td>\n",
       "      <td>8.120000</td>\n",
       "      <td>4.293333</td>\n",
       "      <td>14.906667</td>\n",
       "      <td>0.733333</td>\n",
       "      <td>1.440000</td>\n",
       "      <td>C</td>\n",
       "      <td>N</td>\n",
       "      <td>Y</td>\n",
       "    </tr>\n",
       "    <tr>\n",
       "      <th>3</th>\n",
       "      <td>1980</td>\n",
       "      <td>Tiny Archibald</td>\n",
       "      <td>G</td>\n",
       "      <td>0.574</td>\n",
       "      <td>2.462500</td>\n",
       "      <td>8.387500</td>\n",
       "      <td>14.137500</td>\n",
       "      <td>0.125000</td>\n",
       "      <td>1.325000</td>\n",
       "      <td>PG</td>\n",
       "      <td>N</td>\n",
       "      <td>Y</td>\n",
       "    </tr>\n",
       "    <tr>\n",
       "      <th>4</th>\n",
       "      <td>1980</td>\n",
       "      <td>Dennis Awtrey</td>\n",
       "      <td>C</td>\n",
       "      <td>0.524</td>\n",
       "      <td>4.423077</td>\n",
       "      <td>1.538462</td>\n",
       "      <td>3.307692</td>\n",
       "      <td>0.576923</td>\n",
       "      <td>0.461538</td>\n",
       "      <td>C</td>\n",
       "      <td>N</td>\n",
       "      <td>Y</td>\n",
       "    </tr>\n",
       "  </tbody>\n",
       "</table>\n",
       "</div>"
      ],
      "text/plain": [
       "   Year               Player Pos    TS%        RPG       APG        PPG  \\\n",
       "0  1980  Kareem Abdul-Jabbar   C  0.639  10.804878  4.524390  24.804878   \n",
       "1  1980        Tom Abernethy   F  0.511   2.850746  1.298507   5.402985   \n",
       "2  1980          Alvan Adams   C  0.571   8.120000  4.293333  14.906667   \n",
       "3  1980       Tiny Archibald   G  0.574   2.462500  8.387500  14.137500   \n",
       "4  1980        Dennis Awtrey   C  0.524   4.423077  1.538462   3.307692   \n",
       "\n",
       "        BPG       SPG Pos_og All Star MVP  \n",
       "0  3.414634  0.987805      C        Y   Y  \n",
       "1  0.179104  0.522388     PF        N   Y  \n",
       "2  0.733333  1.440000      C        N   Y  \n",
       "3  0.125000  1.325000     PG        N   Y  \n",
       "4  0.576923  0.461538      C        N   Y  "
      ]
     },
     "execution_count": 30,
     "metadata": {},
     "output_type": "execute_result"
    }
   ],
   "source": [
    "mvp_lst = pd.Series(mvp_tups).apply(lambda tup: 'Y' if tup in mvp_tups else 'N')\n",
    "stats['MVP'] = mvp_lst\n",
    "stats.head()"
   ]
  },
  {
   "cell_type": "code",
   "execution_count": 31,
   "metadata": {},
   "outputs": [],
   "source": [
    "stats['All Star'] = stats['All Star'] == 'Y'\n",
    "stats['MVP'] = stats['MVP'] == 'Y'"
   ]
  },
  {
   "cell_type": "markdown",
   "metadata": {},
   "source": [
    "### Handle Missing Data"
   ]
  },
  {
   "cell_type": "code",
   "execution_count": 32,
   "metadata": {},
   "outputs": [
    {
     "name": "stdout",
     "output_type": "stream",
     "text": [
      "Year 0\n",
      "Player 0\n",
      "Pos 0\n",
      "TS% 76\n",
      "RPG 0\n",
      "APG 0\n",
      "PPG 0\n",
      "BPG 0\n",
      "SPG 0\n",
      "Pos_og 0\n",
      "All Star 0\n",
      "MVP 0\n"
     ]
    }
   ],
   "source": [
    "for col in stats.columns:\n",
    "    print(col, stats[col].isna().sum())"
   ]
  },
  {
   "cell_type": "code",
   "execution_count": 33,
   "metadata": {},
   "outputs": [
    {
     "data": {
      "text/html": [
       "<div>\n",
       "<style scoped>\n",
       "    .dataframe tbody tr th:only-of-type {\n",
       "        vertical-align: middle;\n",
       "    }\n",
       "\n",
       "    .dataframe tbody tr th {\n",
       "        vertical-align: top;\n",
       "    }\n",
       "\n",
       "    .dataframe thead th {\n",
       "        text-align: right;\n",
       "    }\n",
       "</style>\n",
       "<table border=\"1\" class=\"dataframe\">\n",
       "  <thead>\n",
       "    <tr style=\"text-align: right;\">\n",
       "      <th></th>\n",
       "      <th>Year</th>\n",
       "      <th>TS%</th>\n",
       "      <th>RPG</th>\n",
       "      <th>APG</th>\n",
       "      <th>PPG</th>\n",
       "      <th>BPG</th>\n",
       "      <th>SPG</th>\n",
       "    </tr>\n",
       "  </thead>\n",
       "  <tbody>\n",
       "    <tr>\n",
       "      <th>count</th>\n",
       "      <td>76.000000</td>\n",
       "      <td>0.0</td>\n",
       "      <td>76.000000</td>\n",
       "      <td>76.000000</td>\n",
       "      <td>76.0</td>\n",
       "      <td>76.000000</td>\n",
       "      <td>76.000000</td>\n",
       "    </tr>\n",
       "    <tr>\n",
       "      <th>mean</th>\n",
       "      <td>2003.815789</td>\n",
       "      <td>NaN</td>\n",
       "      <td>0.387061</td>\n",
       "      <td>0.144737</td>\n",
       "      <td>0.0</td>\n",
       "      <td>0.019737</td>\n",
       "      <td>0.027412</td>\n",
       "    </tr>\n",
       "    <tr>\n",
       "      <th>std</th>\n",
       "      <td>8.668272</td>\n",
       "      <td>NaN</td>\n",
       "      <td>0.670641</td>\n",
       "      <td>0.347842</td>\n",
       "      <td>0.0</td>\n",
       "      <td>0.127561</td>\n",
       "      <td>0.134982</td>\n",
       "    </tr>\n",
       "    <tr>\n",
       "      <th>min</th>\n",
       "      <td>1984.000000</td>\n",
       "      <td>NaN</td>\n",
       "      <td>0.000000</td>\n",
       "      <td>0.000000</td>\n",
       "      <td>0.0</td>\n",
       "      <td>0.000000</td>\n",
       "      <td>0.000000</td>\n",
       "    </tr>\n",
       "    <tr>\n",
       "      <th>25%</th>\n",
       "      <td>1997.000000</td>\n",
       "      <td>NaN</td>\n",
       "      <td>0.000000</td>\n",
       "      <td>0.000000</td>\n",
       "      <td>0.0</td>\n",
       "      <td>0.000000</td>\n",
       "      <td>0.000000</td>\n",
       "    </tr>\n",
       "    <tr>\n",
       "      <th>50%</th>\n",
       "      <td>2004.500000</td>\n",
       "      <td>NaN</td>\n",
       "      <td>0.000000</td>\n",
       "      <td>0.000000</td>\n",
       "      <td>0.0</td>\n",
       "      <td>0.000000</td>\n",
       "      <td>0.000000</td>\n",
       "    </tr>\n",
       "    <tr>\n",
       "      <th>75%</th>\n",
       "      <td>2011.000000</td>\n",
       "      <td>NaN</td>\n",
       "      <td>0.541667</td>\n",
       "      <td>0.000000</td>\n",
       "      <td>0.0</td>\n",
       "      <td>0.000000</td>\n",
       "      <td>0.000000</td>\n",
       "    </tr>\n",
       "    <tr>\n",
       "      <th>max</th>\n",
       "      <td>2017.000000</td>\n",
       "      <td>NaN</td>\n",
       "      <td>3.000000</td>\n",
       "      <td>2.000000</td>\n",
       "      <td>0.0</td>\n",
       "      <td>1.000000</td>\n",
       "      <td>1.000000</td>\n",
       "    </tr>\n",
       "  </tbody>\n",
       "</table>\n",
       "</div>"
      ],
      "text/plain": [
       "              Year  TS%        RPG        APG   PPG        BPG        SPG\n",
       "count    76.000000  0.0  76.000000  76.000000  76.0  76.000000  76.000000\n",
       "mean   2003.815789  NaN   0.387061   0.144737   0.0   0.019737   0.027412\n",
       "std       8.668272  NaN   0.670641   0.347842   0.0   0.127561   0.134982\n",
       "min    1984.000000  NaN   0.000000   0.000000   0.0   0.000000   0.000000\n",
       "25%    1997.000000  NaN   0.000000   0.000000   0.0   0.000000   0.000000\n",
       "50%    2004.500000  NaN   0.000000   0.000000   0.0   0.000000   0.000000\n",
       "75%    2011.000000  NaN   0.541667   0.000000   0.0   0.000000   0.000000\n",
       "max    2017.000000  NaN   3.000000   2.000000   0.0   1.000000   1.000000"
      ]
     },
     "execution_count": 33,
     "metadata": {},
     "output_type": "execute_result"
    }
   ],
   "source": [
    "stats.loc[stats['TS%'].isna()].describe()"
   ]
  },
  {
   "cell_type": "markdown",
   "metadata": {},
   "source": [
    "76 rows have missing values for TS% because they all scored 0 points. Thus, the missing values will be imputed with 0."
   ]
  },
  {
   "cell_type": "code",
   "execution_count": 34,
   "metadata": {},
   "outputs": [],
   "source": [
    "stats['TS%'].fillna(0, inplace=True)"
   ]
  },
  {
   "cell_type": "code",
   "execution_count": 35,
   "metadata": {},
   "outputs": [
    {
     "name": "stdout",
     "output_type": "stream",
     "text": [
      "Year 0\n",
      "Player 0\n",
      "Pos 0\n",
      "TS% 0\n",
      "RPG 0\n",
      "APG 0\n",
      "PPG 0\n",
      "BPG 0\n",
      "SPG 0\n",
      "Pos_og 0\n",
      "All Star 0\n",
      "MVP 0\n"
     ]
    }
   ],
   "source": [
    "for col in stats.columns:\n",
    "    print(col, stats[col].isna().sum())"
   ]
  },
  {
   "cell_type": "code",
   "execution_count": 36,
   "metadata": {},
   "outputs": [],
   "source": [
    "stats.to_csv('players_1980_2017.csv', index = False)"
   ]
  },
  {
   "cell_type": "markdown",
   "metadata": {},
   "source": [
    "# Process the Test Data (data to be classified)<a class=\"anchor\" id=\"test\"></a>"
   ]
  },
  {
   "cell_type": "markdown",
   "metadata": {},
   "source": [
    "## Player Data from the 2018-19 Season<a class=\"anchor\" id=\"2019\"></a>"
   ]
  },
  {
   "cell_type": "code",
   "execution_count": 37,
   "metadata": {},
   "outputs": [
    {
     "data": {
      "text/html": [
       "<div>\n",
       "<style scoped>\n",
       "    .dataframe tbody tr th:only-of-type {\n",
       "        vertical-align: middle;\n",
       "    }\n",
       "\n",
       "    .dataframe tbody tr th {\n",
       "        vertical-align: top;\n",
       "    }\n",
       "\n",
       "    .dataframe thead th {\n",
       "        text-align: right;\n",
       "    }\n",
       "</style>\n",
       "<table border=\"1\" class=\"dataframe\">\n",
       "  <thead>\n",
       "    <tr style=\"text-align: right;\">\n",
       "      <th></th>\n",
       "      <th>Rk</th>\n",
       "      <th>Player</th>\n",
       "      <th>Pos</th>\n",
       "      <th>Age</th>\n",
       "      <th>Tm</th>\n",
       "      <th>G</th>\n",
       "      <th>GS</th>\n",
       "      <th>MP</th>\n",
       "      <th>FG</th>\n",
       "      <th>FGA</th>\n",
       "      <th>...</th>\n",
       "      <th>ORB</th>\n",
       "      <th>DRB</th>\n",
       "      <th>TRB</th>\n",
       "      <th>AST</th>\n",
       "      <th>STL</th>\n",
       "      <th>BLK</th>\n",
       "      <th>TOV</th>\n",
       "      <th>PF</th>\n",
       "      <th>PTS</th>\n",
       "      <th>Player-additional</th>\n",
       "    </tr>\n",
       "  </thead>\n",
       "  <tbody>\n",
       "    <tr>\n",
       "      <th>0</th>\n",
       "      <td>1</td>\n",
       "      <td>Álex Abrines</td>\n",
       "      <td>SG</td>\n",
       "      <td>25</td>\n",
       "      <td>OKC</td>\n",
       "      <td>31</td>\n",
       "      <td>2</td>\n",
       "      <td>19.0</td>\n",
       "      <td>1.8</td>\n",
       "      <td>5.1</td>\n",
       "      <td>...</td>\n",
       "      <td>0.2</td>\n",
       "      <td>1.4</td>\n",
       "      <td>1.5</td>\n",
       "      <td>0.6</td>\n",
       "      <td>0.5</td>\n",
       "      <td>0.2</td>\n",
       "      <td>0.5</td>\n",
       "      <td>1.7</td>\n",
       "      <td>5.3</td>\n",
       "      <td>abrinal01</td>\n",
       "    </tr>\n",
       "    <tr>\n",
       "      <th>1</th>\n",
       "      <td>2</td>\n",
       "      <td>Quincy Acy</td>\n",
       "      <td>PF</td>\n",
       "      <td>28</td>\n",
       "      <td>PHO</td>\n",
       "      <td>10</td>\n",
       "      <td>0</td>\n",
       "      <td>12.3</td>\n",
       "      <td>0.4</td>\n",
       "      <td>1.8</td>\n",
       "      <td>...</td>\n",
       "      <td>0.3</td>\n",
       "      <td>2.2</td>\n",
       "      <td>2.5</td>\n",
       "      <td>0.8</td>\n",
       "      <td>0.1</td>\n",
       "      <td>0.4</td>\n",
       "      <td>0.4</td>\n",
       "      <td>2.4</td>\n",
       "      <td>1.7</td>\n",
       "      <td>acyqu01</td>\n",
       "    </tr>\n",
       "    <tr>\n",
       "      <th>2</th>\n",
       "      <td>3</td>\n",
       "      <td>Jaylen Adams</td>\n",
       "      <td>PG</td>\n",
       "      <td>22</td>\n",
       "      <td>ATL</td>\n",
       "      <td>34</td>\n",
       "      <td>1</td>\n",
       "      <td>12.6</td>\n",
       "      <td>1.1</td>\n",
       "      <td>3.2</td>\n",
       "      <td>...</td>\n",
       "      <td>0.3</td>\n",
       "      <td>1.4</td>\n",
       "      <td>1.8</td>\n",
       "      <td>1.9</td>\n",
       "      <td>0.4</td>\n",
       "      <td>0.1</td>\n",
       "      <td>0.8</td>\n",
       "      <td>1.3</td>\n",
       "      <td>3.2</td>\n",
       "      <td>adamsja01</td>\n",
       "    </tr>\n",
       "    <tr>\n",
       "      <th>3</th>\n",
       "      <td>4</td>\n",
       "      <td>Steven Adams</td>\n",
       "      <td>C</td>\n",
       "      <td>25</td>\n",
       "      <td>OKC</td>\n",
       "      <td>80</td>\n",
       "      <td>80</td>\n",
       "      <td>33.4</td>\n",
       "      <td>6.0</td>\n",
       "      <td>10.1</td>\n",
       "      <td>...</td>\n",
       "      <td>4.9</td>\n",
       "      <td>4.6</td>\n",
       "      <td>9.5</td>\n",
       "      <td>1.6</td>\n",
       "      <td>1.5</td>\n",
       "      <td>1.0</td>\n",
       "      <td>1.7</td>\n",
       "      <td>2.6</td>\n",
       "      <td>13.9</td>\n",
       "      <td>adamsst01</td>\n",
       "    </tr>\n",
       "    <tr>\n",
       "      <th>4</th>\n",
       "      <td>5</td>\n",
       "      <td>Bam Adebayo</td>\n",
       "      <td>C</td>\n",
       "      <td>21</td>\n",
       "      <td>MIA</td>\n",
       "      <td>82</td>\n",
       "      <td>28</td>\n",
       "      <td>23.3</td>\n",
       "      <td>3.4</td>\n",
       "      <td>5.9</td>\n",
       "      <td>...</td>\n",
       "      <td>2.0</td>\n",
       "      <td>5.3</td>\n",
       "      <td>7.3</td>\n",
       "      <td>2.2</td>\n",
       "      <td>0.9</td>\n",
       "      <td>0.8</td>\n",
       "      <td>1.5</td>\n",
       "      <td>2.5</td>\n",
       "      <td>8.9</td>\n",
       "      <td>adebaba01</td>\n",
       "    </tr>\n",
       "  </tbody>\n",
       "</table>\n",
       "<p>5 rows × 31 columns</p>\n",
       "</div>"
      ],
      "text/plain": [
       "   Rk        Player Pos  Age   Tm   G  GS    MP   FG   FGA  ...  ORB  DRB  \\\n",
       "0   1  Álex Abrines  SG   25  OKC  31   2  19.0  1.8   5.1  ...  0.2  1.4   \n",
       "1   2    Quincy Acy  PF   28  PHO  10   0  12.3  0.4   1.8  ...  0.3  2.2   \n",
       "2   3  Jaylen Adams  PG   22  ATL  34   1  12.6  1.1   3.2  ...  0.3  1.4   \n",
       "3   4  Steven Adams   C   25  OKC  80  80  33.4  6.0  10.1  ...  4.9  4.6   \n",
       "4   5   Bam Adebayo   C   21  MIA  82  28  23.3  3.4   5.9  ...  2.0  5.3   \n",
       "\n",
       "   TRB  AST  STL  BLK  TOV   PF   PTS  Player-additional  \n",
       "0  1.5  0.6  0.5  0.2  0.5  1.7   5.3          abrinal01  \n",
       "1  2.5  0.8  0.1  0.4  0.4  2.4   1.7            acyqu01  \n",
       "2  1.8  1.9  0.4  0.1  0.8  1.3   3.2          adamsja01  \n",
       "3  9.5  1.6  1.5  1.0  1.7  2.6  13.9          adamsst01  \n",
       "4  7.3  2.2  0.9  0.8  1.5  2.5   8.9          adebaba01  \n",
       "\n",
       "[5 rows x 31 columns]"
      ]
     },
     "execution_count": 37,
     "metadata": {},
     "output_type": "execute_result"
    }
   ],
   "source": [
    "test_players = pd.read_csv('players_1819.csv')\n",
    "test_players.head()"
   ]
  },
  {
   "cell_type": "code",
   "execution_count": 38,
   "metadata": {},
   "outputs": [
    {
     "data": {
      "text/html": [
       "<div>\n",
       "<style scoped>\n",
       "    .dataframe tbody tr th:only-of-type {\n",
       "        vertical-align: middle;\n",
       "    }\n",
       "\n",
       "    .dataframe tbody tr th {\n",
       "        vertical-align: top;\n",
       "    }\n",
       "\n",
       "    .dataframe thead th {\n",
       "        text-align: right;\n",
       "    }\n",
       "</style>\n",
       "<table border=\"1\" class=\"dataframe\">\n",
       "  <thead>\n",
       "    <tr style=\"text-align: right;\">\n",
       "      <th></th>\n",
       "      <th>Rk</th>\n",
       "      <th>Player</th>\n",
       "      <th>Pos</th>\n",
       "      <th>Age</th>\n",
       "      <th>Tm</th>\n",
       "      <th>G</th>\n",
       "      <th>MP</th>\n",
       "      <th>PER</th>\n",
       "      <th>TS%</th>\n",
       "      <th>3PAr</th>\n",
       "      <th>...</th>\n",
       "      <th>OWS</th>\n",
       "      <th>DWS</th>\n",
       "      <th>WS</th>\n",
       "      <th>WS/48</th>\n",
       "      <th>Unnamed: 24</th>\n",
       "      <th>OBPM</th>\n",
       "      <th>DBPM</th>\n",
       "      <th>BPM</th>\n",
       "      <th>VORP</th>\n",
       "      <th>Player-additional</th>\n",
       "    </tr>\n",
       "  </thead>\n",
       "  <tbody>\n",
       "    <tr>\n",
       "      <th>0</th>\n",
       "      <td>1</td>\n",
       "      <td>Álex Abrines</td>\n",
       "      <td>SG</td>\n",
       "      <td>25</td>\n",
       "      <td>OKC</td>\n",
       "      <td>31</td>\n",
       "      <td>588</td>\n",
       "      <td>6.3</td>\n",
       "      <td>0.507</td>\n",
       "      <td>0.809</td>\n",
       "      <td>...</td>\n",
       "      <td>0.1</td>\n",
       "      <td>0.6</td>\n",
       "      <td>0.6</td>\n",
       "      <td>0.053</td>\n",
       "      <td>NaN</td>\n",
       "      <td>-3.7</td>\n",
       "      <td>0.4</td>\n",
       "      <td>-3.3</td>\n",
       "      <td>-0.2</td>\n",
       "      <td>abrinal01</td>\n",
       "    </tr>\n",
       "    <tr>\n",
       "      <th>1</th>\n",
       "      <td>2</td>\n",
       "      <td>Quincy Acy</td>\n",
       "      <td>PF</td>\n",
       "      <td>28</td>\n",
       "      <td>PHO</td>\n",
       "      <td>10</td>\n",
       "      <td>123</td>\n",
       "      <td>2.9</td>\n",
       "      <td>0.379</td>\n",
       "      <td>0.833</td>\n",
       "      <td>...</td>\n",
       "      <td>-0.1</td>\n",
       "      <td>0.0</td>\n",
       "      <td>-0.1</td>\n",
       "      <td>-0.022</td>\n",
       "      <td>NaN</td>\n",
       "      <td>-7.6</td>\n",
       "      <td>-0.5</td>\n",
       "      <td>-8.1</td>\n",
       "      <td>-0.2</td>\n",
       "      <td>acyqu01</td>\n",
       "    </tr>\n",
       "    <tr>\n",
       "      <th>2</th>\n",
       "      <td>3</td>\n",
       "      <td>Jaylen Adams</td>\n",
       "      <td>PG</td>\n",
       "      <td>22</td>\n",
       "      <td>ATL</td>\n",
       "      <td>34</td>\n",
       "      <td>428</td>\n",
       "      <td>7.6</td>\n",
       "      <td>0.474</td>\n",
       "      <td>0.673</td>\n",
       "      <td>...</td>\n",
       "      <td>-0.1</td>\n",
       "      <td>0.2</td>\n",
       "      <td>0.1</td>\n",
       "      <td>0.011</td>\n",
       "      <td>NaN</td>\n",
       "      <td>-3.8</td>\n",
       "      <td>-0.5</td>\n",
       "      <td>-4.3</td>\n",
       "      <td>-0.2</td>\n",
       "      <td>adamsja01</td>\n",
       "    </tr>\n",
       "    <tr>\n",
       "      <th>3</th>\n",
       "      <td>4</td>\n",
       "      <td>Steven Adams</td>\n",
       "      <td>C</td>\n",
       "      <td>25</td>\n",
       "      <td>OKC</td>\n",
       "      <td>80</td>\n",
       "      <td>2669</td>\n",
       "      <td>18.5</td>\n",
       "      <td>0.591</td>\n",
       "      <td>0.002</td>\n",
       "      <td>...</td>\n",
       "      <td>5.1</td>\n",
       "      <td>4.0</td>\n",
       "      <td>9.1</td>\n",
       "      <td>0.163</td>\n",
       "      <td>NaN</td>\n",
       "      <td>0.7</td>\n",
       "      <td>0.4</td>\n",
       "      <td>1.1</td>\n",
       "      <td>2.1</td>\n",
       "      <td>adamsst01</td>\n",
       "    </tr>\n",
       "    <tr>\n",
       "      <th>4</th>\n",
       "      <td>5</td>\n",
       "      <td>Bam Adebayo</td>\n",
       "      <td>C</td>\n",
       "      <td>21</td>\n",
       "      <td>MIA</td>\n",
       "      <td>82</td>\n",
       "      <td>1913</td>\n",
       "      <td>17.9</td>\n",
       "      <td>0.623</td>\n",
       "      <td>0.031</td>\n",
       "      <td>...</td>\n",
       "      <td>3.4</td>\n",
       "      <td>3.4</td>\n",
       "      <td>6.8</td>\n",
       "      <td>0.171</td>\n",
       "      <td>NaN</td>\n",
       "      <td>-0.4</td>\n",
       "      <td>2.2</td>\n",
       "      <td>1.8</td>\n",
       "      <td>1.8</td>\n",
       "      <td>adebaba01</td>\n",
       "    </tr>\n",
       "  </tbody>\n",
       "</table>\n",
       "<p>5 rows × 30 columns</p>\n",
       "</div>"
      ],
      "text/plain": [
       "   Rk        Player Pos  Age   Tm   G    MP   PER    TS%   3PAr  ...  OWS  \\\n",
       "0   1  Álex Abrines  SG   25  OKC  31   588   6.3  0.507  0.809  ...  0.1   \n",
       "1   2    Quincy Acy  PF   28  PHO  10   123   2.9  0.379  0.833  ... -0.1   \n",
       "2   3  Jaylen Adams  PG   22  ATL  34   428   7.6  0.474  0.673  ... -0.1   \n",
       "3   4  Steven Adams   C   25  OKC  80  2669  18.5  0.591  0.002  ...  5.1   \n",
       "4   5   Bam Adebayo   C   21  MIA  82  1913  17.9  0.623  0.031  ...  3.4   \n",
       "\n",
       "   DWS   WS  WS/48  Unnamed: 24  OBPM  DBPM  BPM  VORP  Player-additional  \n",
       "0  0.6  0.6  0.053          NaN  -3.7   0.4 -3.3  -0.2          abrinal01  \n",
       "1  0.0 -0.1 -0.022          NaN  -7.6  -0.5 -8.1  -0.2            acyqu01  \n",
       "2  0.2  0.1  0.011          NaN  -3.8  -0.5 -4.3  -0.2          adamsja01  \n",
       "3  4.0  9.1  0.163          NaN   0.7   0.4  1.1   2.1          adamsst01  \n",
       "4  3.4  6.8  0.171          NaN  -0.4   2.2  1.8   1.8          adebaba01  \n",
       "\n",
       "[5 rows x 30 columns]"
      ]
     },
     "execution_count": 38,
     "metadata": {},
     "output_type": "execute_result"
    }
   ],
   "source": [
    "test_players_adv = pd.read_csv('players_1819_adv.csv')\n",
    "test_players_adv.head()"
   ]
  },
  {
   "cell_type": "markdown",
   "metadata": {},
   "source": [
    "Merge the two dataframes in order to calculate the per game statistics"
   ]
  },
  {
   "cell_type": "code",
   "execution_count": 39,
   "metadata": {},
   "outputs": [
    {
     "data": {
      "text/html": [
       "<div>\n",
       "<style scoped>\n",
       "    .dataframe tbody tr th:only-of-type {\n",
       "        vertical-align: middle;\n",
       "    }\n",
       "\n",
       "    .dataframe tbody tr th {\n",
       "        vertical-align: top;\n",
       "    }\n",
       "\n",
       "    .dataframe thead th {\n",
       "        text-align: right;\n",
       "    }\n",
       "</style>\n",
       "<table border=\"1\" class=\"dataframe\">\n",
       "  <thead>\n",
       "    <tr style=\"text-align: right;\">\n",
       "      <th></th>\n",
       "      <th>Rk_x</th>\n",
       "      <th>Player_x</th>\n",
       "      <th>Pos_x</th>\n",
       "      <th>Age</th>\n",
       "      <th>Tm_x</th>\n",
       "      <th>G_x</th>\n",
       "      <th>GS</th>\n",
       "      <th>MP_x</th>\n",
       "      <th>FG</th>\n",
       "      <th>FGA</th>\n",
       "      <th>...</th>\n",
       "      <th>Unnamed: 19</th>\n",
       "      <th>OWS</th>\n",
       "      <th>DWS</th>\n",
       "      <th>WS</th>\n",
       "      <th>WS/48</th>\n",
       "      <th>Unnamed: 24</th>\n",
       "      <th>OBPM</th>\n",
       "      <th>DBPM</th>\n",
       "      <th>BPM</th>\n",
       "      <th>VORP</th>\n",
       "    </tr>\n",
       "  </thead>\n",
       "  <tbody>\n",
       "    <tr>\n",
       "      <th>0</th>\n",
       "      <td>1</td>\n",
       "      <td>Álex Abrines</td>\n",
       "      <td>SG</td>\n",
       "      <td>25</td>\n",
       "      <td>OKC</td>\n",
       "      <td>31</td>\n",
       "      <td>2</td>\n",
       "      <td>19.0</td>\n",
       "      <td>1.8</td>\n",
       "      <td>5.1</td>\n",
       "      <td>...</td>\n",
       "      <td>NaN</td>\n",
       "      <td>0.1</td>\n",
       "      <td>0.6</td>\n",
       "      <td>0.6</td>\n",
       "      <td>0.053</td>\n",
       "      <td>NaN</td>\n",
       "      <td>-3.7</td>\n",
       "      <td>0.4</td>\n",
       "      <td>-3.3</td>\n",
       "      <td>-0.2</td>\n",
       "    </tr>\n",
       "    <tr>\n",
       "      <th>1</th>\n",
       "      <td>2</td>\n",
       "      <td>Quincy Acy</td>\n",
       "      <td>PF</td>\n",
       "      <td>28</td>\n",
       "      <td>PHO</td>\n",
       "      <td>10</td>\n",
       "      <td>0</td>\n",
       "      <td>12.3</td>\n",
       "      <td>0.4</td>\n",
       "      <td>1.8</td>\n",
       "      <td>...</td>\n",
       "      <td>NaN</td>\n",
       "      <td>-0.1</td>\n",
       "      <td>0.0</td>\n",
       "      <td>-0.1</td>\n",
       "      <td>-0.022</td>\n",
       "      <td>NaN</td>\n",
       "      <td>-7.6</td>\n",
       "      <td>-0.5</td>\n",
       "      <td>-8.1</td>\n",
       "      <td>-0.2</td>\n",
       "    </tr>\n",
       "    <tr>\n",
       "      <th>2</th>\n",
       "      <td>3</td>\n",
       "      <td>Jaylen Adams</td>\n",
       "      <td>PG</td>\n",
       "      <td>22</td>\n",
       "      <td>ATL</td>\n",
       "      <td>34</td>\n",
       "      <td>1</td>\n",
       "      <td>12.6</td>\n",
       "      <td>1.1</td>\n",
       "      <td>3.2</td>\n",
       "      <td>...</td>\n",
       "      <td>NaN</td>\n",
       "      <td>-0.1</td>\n",
       "      <td>0.2</td>\n",
       "      <td>0.1</td>\n",
       "      <td>0.011</td>\n",
       "      <td>NaN</td>\n",
       "      <td>-3.8</td>\n",
       "      <td>-0.5</td>\n",
       "      <td>-4.3</td>\n",
       "      <td>-0.2</td>\n",
       "    </tr>\n",
       "    <tr>\n",
       "      <th>3</th>\n",
       "      <td>4</td>\n",
       "      <td>Steven Adams</td>\n",
       "      <td>C</td>\n",
       "      <td>25</td>\n",
       "      <td>OKC</td>\n",
       "      <td>80</td>\n",
       "      <td>80</td>\n",
       "      <td>33.4</td>\n",
       "      <td>6.0</td>\n",
       "      <td>10.1</td>\n",
       "      <td>...</td>\n",
       "      <td>NaN</td>\n",
       "      <td>5.1</td>\n",
       "      <td>4.0</td>\n",
       "      <td>9.1</td>\n",
       "      <td>0.163</td>\n",
       "      <td>NaN</td>\n",
       "      <td>0.7</td>\n",
       "      <td>0.4</td>\n",
       "      <td>1.1</td>\n",
       "      <td>2.1</td>\n",
       "    </tr>\n",
       "    <tr>\n",
       "      <th>4</th>\n",
       "      <td>5</td>\n",
       "      <td>Bam Adebayo</td>\n",
       "      <td>C</td>\n",
       "      <td>21</td>\n",
       "      <td>MIA</td>\n",
       "      <td>82</td>\n",
       "      <td>28</td>\n",
       "      <td>23.3</td>\n",
       "      <td>3.4</td>\n",
       "      <td>5.9</td>\n",
       "      <td>...</td>\n",
       "      <td>NaN</td>\n",
       "      <td>3.4</td>\n",
       "      <td>3.4</td>\n",
       "      <td>6.8</td>\n",
       "      <td>0.171</td>\n",
       "      <td>NaN</td>\n",
       "      <td>-0.4</td>\n",
       "      <td>2.2</td>\n",
       "      <td>1.8</td>\n",
       "      <td>1.8</td>\n",
       "    </tr>\n",
       "  </tbody>\n",
       "</table>\n",
       "<p>5 rows × 59 columns</p>\n",
       "</div>"
      ],
      "text/plain": [
       "   Rk_x      Player_x Pos_x  Age Tm_x  G_x  GS  MP_x   FG   FGA  ...  \\\n",
       "0     1  Álex Abrines    SG   25  OKC   31   2  19.0  1.8   5.1  ...   \n",
       "1     2    Quincy Acy    PF   28  PHO   10   0  12.3  0.4   1.8  ...   \n",
       "2     3  Jaylen Adams    PG   22  ATL   34   1  12.6  1.1   3.2  ...   \n",
       "3     4  Steven Adams     C   25  OKC   80  80  33.4  6.0  10.1  ...   \n",
       "4     5   Bam Adebayo     C   21  MIA   82  28  23.3  3.4   5.9  ...   \n",
       "\n",
       "   Unnamed: 19  OWS  DWS   WS  WS/48  Unnamed: 24  OBPM  DBPM  BPM  VORP  \n",
       "0          NaN  0.1  0.6  0.6  0.053          NaN  -3.7   0.4 -3.3  -0.2  \n",
       "1          NaN -0.1  0.0 -0.1 -0.022          NaN  -7.6  -0.5 -8.1  -0.2  \n",
       "2          NaN -0.1  0.2  0.1  0.011          NaN  -3.8  -0.5 -4.3  -0.2  \n",
       "3          NaN  5.1  4.0  9.1  0.163          NaN   0.7   0.4  1.1   2.1  \n",
       "4          NaN  3.4  3.4  6.8  0.171          NaN  -0.4   2.2  1.8   1.8  \n",
       "\n",
       "[5 rows x 59 columns]"
      ]
     },
     "execution_count": 39,
     "metadata": {},
     "output_type": "execute_result"
    }
   ],
   "source": [
    "test_players = pd.merge(test_players, test_players_adv, on=['Player-additional', 'Age'])\n",
    "test_players.head()"
   ]
  },
  {
   "cell_type": "code",
   "execution_count": 40,
   "metadata": {},
   "outputs": [
    {
     "data": {
      "text/plain": [
       "Index(['Rk_x', 'Player_x', 'Pos_x', 'Age', 'Tm_x', 'G_x', 'GS', 'MP_x', 'FG',\n",
       "       'FGA', 'FG%', '3P', '3PA', '3P%', '2P', '2PA', '2P%', 'eFG%', 'FT',\n",
       "       'FTA', 'FT%', 'ORB', 'DRB', 'TRB', 'AST', 'STL', 'BLK', 'TOV', 'PF',\n",
       "       'PTS', 'Player-additional', 'Rk_y', 'Player_y', 'Pos_y', 'Tm_y', 'G_y',\n",
       "       'MP_y', 'PER', 'TS%', '3PAr', 'FTr', 'ORB%', 'DRB%', 'TRB%', 'AST%',\n",
       "       'STL%', 'BLK%', 'TOV%', 'USG%', 'Unnamed: 19', 'OWS', 'DWS', 'WS',\n",
       "       'WS/48', 'Unnamed: 24', 'OBPM', 'DBPM', 'BPM', 'VORP'],\n",
       "      dtype='object')"
      ]
     },
     "execution_count": 40,
     "metadata": {},
     "output_type": "execute_result"
    }
   ],
   "source": [
    "test_players.columns"
   ]
  },
  {
   "cell_type": "code",
   "execution_count": 41,
   "metadata": {},
   "outputs": [],
   "source": [
    "test_players = test_players.rename(columns={'Player_x':'Player', 'AST':'APG', 'STL':'SPG', 'BLK':'BPG', 'TRB':'RPG', 'PTS':'PPG'})"
   ]
  },
  {
   "cell_type": "code",
   "execution_count": 42,
   "metadata": {},
   "outputs": [],
   "source": [
    "test_players = test_players.rename(columns={'Pos_x':'Pos'})"
   ]
  },
  {
   "cell_type": "markdown",
   "metadata": {},
   "source": [
    "Only keep the columns that correspond with the training data (stats)"
   ]
  },
  {
   "cell_type": "code",
   "execution_count": 43,
   "metadata": {},
   "outputs": [],
   "source": [
    "test_players_cols = list(filter(lambda col: col in stats.columns, test_players.columns)) + ['Age', 'Player-additional']\n",
    "test_players = test_players[test_players_cols]"
   ]
  },
  {
   "cell_type": "code",
   "execution_count": 44,
   "metadata": {},
   "outputs": [],
   "source": [
    "test_players = test_players.dropna()"
   ]
  },
  {
   "cell_type": "code",
   "execution_count": 45,
   "metadata": {},
   "outputs": [
    {
     "data": {
      "text/html": [
       "<div>\n",
       "<style scoped>\n",
       "    .dataframe tbody tr th:only-of-type {\n",
       "        vertical-align: middle;\n",
       "    }\n",
       "\n",
       "    .dataframe tbody tr th {\n",
       "        vertical-align: top;\n",
       "    }\n",
       "\n",
       "    .dataframe thead th {\n",
       "        text-align: right;\n",
       "    }\n",
       "</style>\n",
       "<table border=\"1\" class=\"dataframe\">\n",
       "  <thead>\n",
       "    <tr style=\"text-align: right;\">\n",
       "      <th></th>\n",
       "      <th>Player</th>\n",
       "      <th>Pos</th>\n",
       "      <th>RPG</th>\n",
       "      <th>APG</th>\n",
       "      <th>SPG</th>\n",
       "      <th>BPG</th>\n",
       "      <th>PPG</th>\n",
       "      <th>TS%</th>\n",
       "      <th>Age</th>\n",
       "      <th>Player-additional</th>\n",
       "    </tr>\n",
       "  </thead>\n",
       "  <tbody>\n",
       "    <tr>\n",
       "      <th>0</th>\n",
       "      <td>Álex Abrines</td>\n",
       "      <td>SG</td>\n",
       "      <td>1.5</td>\n",
       "      <td>0.6</td>\n",
       "      <td>0.5</td>\n",
       "      <td>0.2</td>\n",
       "      <td>5.3</td>\n",
       "      <td>0.507</td>\n",
       "      <td>25</td>\n",
       "      <td>abrinal01</td>\n",
       "    </tr>\n",
       "    <tr>\n",
       "      <th>1</th>\n",
       "      <td>Quincy Acy</td>\n",
       "      <td>PF</td>\n",
       "      <td>2.5</td>\n",
       "      <td>0.8</td>\n",
       "      <td>0.1</td>\n",
       "      <td>0.4</td>\n",
       "      <td>1.7</td>\n",
       "      <td>0.379</td>\n",
       "      <td>28</td>\n",
       "      <td>acyqu01</td>\n",
       "    </tr>\n",
       "    <tr>\n",
       "      <th>2</th>\n",
       "      <td>Jaylen Adams</td>\n",
       "      <td>PG</td>\n",
       "      <td>1.8</td>\n",
       "      <td>1.9</td>\n",
       "      <td>0.4</td>\n",
       "      <td>0.1</td>\n",
       "      <td>3.2</td>\n",
       "      <td>0.474</td>\n",
       "      <td>22</td>\n",
       "      <td>adamsja01</td>\n",
       "    </tr>\n",
       "    <tr>\n",
       "      <th>3</th>\n",
       "      <td>Steven Adams</td>\n",
       "      <td>C</td>\n",
       "      <td>9.5</td>\n",
       "      <td>1.6</td>\n",
       "      <td>1.5</td>\n",
       "      <td>1.0</td>\n",
       "      <td>13.9</td>\n",
       "      <td>0.591</td>\n",
       "      <td>25</td>\n",
       "      <td>adamsst01</td>\n",
       "    </tr>\n",
       "    <tr>\n",
       "      <th>4</th>\n",
       "      <td>Bam Adebayo</td>\n",
       "      <td>C</td>\n",
       "      <td>7.3</td>\n",
       "      <td>2.2</td>\n",
       "      <td>0.9</td>\n",
       "      <td>0.8</td>\n",
       "      <td>8.9</td>\n",
       "      <td>0.623</td>\n",
       "      <td>21</td>\n",
       "      <td>adebaba01</td>\n",
       "    </tr>\n",
       "  </tbody>\n",
       "</table>\n",
       "</div>"
      ],
      "text/plain": [
       "         Player Pos  RPG  APG  SPG  BPG   PPG    TS%  Age Player-additional\n",
       "0  Álex Abrines  SG  1.5  0.6  0.5  0.2   5.3  0.507   25         abrinal01\n",
       "1    Quincy Acy  PF  2.5  0.8  0.1  0.4   1.7  0.379   28           acyqu01\n",
       "2  Jaylen Adams  PG  1.8  1.9  0.4  0.1   3.2  0.474   22         adamsja01\n",
       "3  Steven Adams   C  9.5  1.6  1.5  1.0  13.9  0.591   25         adamsst01\n",
       "4   Bam Adebayo   C  7.3  2.2  0.9  0.8   8.9  0.623   21         adebaba01"
      ]
     },
     "execution_count": 45,
     "metadata": {},
     "output_type": "execute_result"
    }
   ],
   "source": [
    "test_players.head()"
   ]
  },
  {
   "cell_type": "markdown",
   "metadata": {},
   "source": [
    "Reset the positions so that they coincide with the training data (stats)"
   ]
  },
  {
   "cell_type": "code",
   "execution_count": 46,
   "metadata": {},
   "outputs": [],
   "source": [
    "test_players['Pos_og'] = test_players.Pos.copy()"
   ]
  },
  {
   "cell_type": "code",
   "execution_count": 47,
   "metadata": {},
   "outputs": [],
   "source": [
    "reset_position(test_players)"
   ]
  },
  {
   "cell_type": "code",
   "execution_count": 48,
   "metadata": {},
   "outputs": [
    {
     "data": {
      "text/plain": [
       "{'C', 'F', 'FC', 'G', 'GF'}"
      ]
     },
     "execution_count": 48,
     "metadata": {},
     "output_type": "execute_result"
    }
   ],
   "source": [
    "set(test_players['Pos'])"
   ]
  },
  {
   "cell_type": "code",
   "execution_count": 49,
   "metadata": {},
   "outputs": [
    {
     "data": {
      "text/html": [
       "<div>\n",
       "<style scoped>\n",
       "    .dataframe tbody tr th:only-of-type {\n",
       "        vertical-align: middle;\n",
       "    }\n",
       "\n",
       "    .dataframe tbody tr th {\n",
       "        vertical-align: top;\n",
       "    }\n",
       "\n",
       "    .dataframe thead th {\n",
       "        text-align: right;\n",
       "    }\n",
       "</style>\n",
       "<table border=\"1\" class=\"dataframe\">\n",
       "  <thead>\n",
       "    <tr style=\"text-align: right;\">\n",
       "      <th></th>\n",
       "      <th>RPG</th>\n",
       "      <th>APG</th>\n",
       "      <th>SPG</th>\n",
       "      <th>BPG</th>\n",
       "      <th>PPG</th>\n",
       "      <th>TS%</th>\n",
       "      <th>Age</th>\n",
       "    </tr>\n",
       "  </thead>\n",
       "  <tbody>\n",
       "    <tr>\n",
       "      <th>count</th>\n",
       "      <td>1250.000000</td>\n",
       "      <td>1250.000000</td>\n",
       "      <td>1250.000000</td>\n",
       "      <td>1250.000000</td>\n",
       "      <td>1250.000000</td>\n",
       "      <td>1250.000000</td>\n",
       "      <td>1250.000000</td>\n",
       "    </tr>\n",
       "    <tr>\n",
       "      <th>mean</th>\n",
       "      <td>3.496720</td>\n",
       "      <td>1.737120</td>\n",
       "      <td>0.602640</td>\n",
       "      <td>0.344080</td>\n",
       "      <td>8.142720</td>\n",
       "      <td>0.528119</td>\n",
       "      <td>26.502400</td>\n",
       "    </tr>\n",
       "    <tr>\n",
       "      <th>std</th>\n",
       "      <td>2.395956</td>\n",
       "      <td>1.430218</td>\n",
       "      <td>0.420303</td>\n",
       "      <td>0.354815</td>\n",
       "      <td>5.337567</td>\n",
       "      <td>0.112984</td>\n",
       "      <td>4.048593</td>\n",
       "    </tr>\n",
       "    <tr>\n",
       "      <th>min</th>\n",
       "      <td>0.000000</td>\n",
       "      <td>0.000000</td>\n",
       "      <td>0.000000</td>\n",
       "      <td>0.000000</td>\n",
       "      <td>0.000000</td>\n",
       "      <td>0.000000</td>\n",
       "      <td>19.000000</td>\n",
       "    </tr>\n",
       "    <tr>\n",
       "      <th>25%</th>\n",
       "      <td>1.825000</td>\n",
       "      <td>0.800000</td>\n",
       "      <td>0.300000</td>\n",
       "      <td>0.100000</td>\n",
       "      <td>4.200000</td>\n",
       "      <td>0.497000</td>\n",
       "      <td>23.000000</td>\n",
       "    </tr>\n",
       "    <tr>\n",
       "      <th>50%</th>\n",
       "      <td>2.900000</td>\n",
       "      <td>1.300000</td>\n",
       "      <td>0.500000</td>\n",
       "      <td>0.300000</td>\n",
       "      <td>7.000000</td>\n",
       "      <td>0.538000</td>\n",
       "      <td>26.000000</td>\n",
       "    </tr>\n",
       "    <tr>\n",
       "      <th>75%</th>\n",
       "      <td>4.600000</td>\n",
       "      <td>2.300000</td>\n",
       "      <td>0.800000</td>\n",
       "      <td>0.500000</td>\n",
       "      <td>11.100000</td>\n",
       "      <td>0.578000</td>\n",
       "      <td>29.000000</td>\n",
       "    </tr>\n",
       "    <tr>\n",
       "      <th>max</th>\n",
       "      <td>15.600000</td>\n",
       "      <td>10.700000</td>\n",
       "      <td>2.400000</td>\n",
       "      <td>2.700000</td>\n",
       "      <td>36.100000</td>\n",
       "      <td>1.500000</td>\n",
       "      <td>42.000000</td>\n",
       "    </tr>\n",
       "  </tbody>\n",
       "</table>\n",
       "</div>"
      ],
      "text/plain": [
       "               RPG          APG          SPG          BPG          PPG  \\\n",
       "count  1250.000000  1250.000000  1250.000000  1250.000000  1250.000000   \n",
       "mean      3.496720     1.737120     0.602640     0.344080     8.142720   \n",
       "std       2.395956     1.430218     0.420303     0.354815     5.337567   \n",
       "min       0.000000     0.000000     0.000000     0.000000     0.000000   \n",
       "25%       1.825000     0.800000     0.300000     0.100000     4.200000   \n",
       "50%       2.900000     1.300000     0.500000     0.300000     7.000000   \n",
       "75%       4.600000     2.300000     0.800000     0.500000    11.100000   \n",
       "max      15.600000    10.700000     2.400000     2.700000    36.100000   \n",
       "\n",
       "               TS%          Age  \n",
       "count  1250.000000  1250.000000  \n",
       "mean      0.528119    26.502400  \n",
       "std       0.112984     4.048593  \n",
       "min       0.000000    19.000000  \n",
       "25%       0.497000    23.000000  \n",
       "50%       0.538000    26.000000  \n",
       "75%       0.578000    29.000000  \n",
       "max       1.500000    42.000000  "
      ]
     },
     "execution_count": 49,
     "metadata": {},
     "output_type": "execute_result"
    }
   ],
   "source": [
    "test_descr = test_players.describe()\n",
    "test_descr"
   ]
  },
  {
   "cell_type": "code",
   "execution_count": 50,
   "metadata": {},
   "outputs": [],
   "source": [
    "test_players['Year'] = 2019\n",
    "test_tups = list(test_players.apply(lambda row: (row['Player'], row['Year']), axis=1))"
   ]
  },
  {
   "cell_type": "markdown",
   "metadata": {},
   "source": [
    "### Handle Any Duplicates"
   ]
  },
  {
   "cell_type": "code",
   "execution_count": 51,
   "metadata": {},
   "outputs": [],
   "source": [
    "test_players.drop_duplicates(['Player-additional', 'Age'], keep = 'last', inplace=True)"
   ]
  },
  {
   "cell_type": "code",
   "execution_count": 52,
   "metadata": {},
   "outputs": [
    {
     "data": {
      "text/html": [
       "<div>\n",
       "<style scoped>\n",
       "    .dataframe tbody tr th:only-of-type {\n",
       "        vertical-align: middle;\n",
       "    }\n",
       "\n",
       "    .dataframe tbody tr th {\n",
       "        vertical-align: top;\n",
       "    }\n",
       "\n",
       "    .dataframe thead th {\n",
       "        text-align: right;\n",
       "    }\n",
       "</style>\n",
       "<table border=\"1\" class=\"dataframe\">\n",
       "  <thead>\n",
       "    <tr style=\"text-align: right;\">\n",
       "      <th></th>\n",
       "      <th>Player</th>\n",
       "      <th>Pos</th>\n",
       "      <th>RPG</th>\n",
       "      <th>APG</th>\n",
       "      <th>SPG</th>\n",
       "      <th>BPG</th>\n",
       "      <th>PPG</th>\n",
       "      <th>TS%</th>\n",
       "      <th>Age</th>\n",
       "      <th>Player-additional</th>\n",
       "      <th>Pos_og</th>\n",
       "      <th>Year</th>\n",
       "    </tr>\n",
       "  </thead>\n",
       "  <tbody>\n",
       "    <tr>\n",
       "      <th>0</th>\n",
       "      <td>Álex Abrines</td>\n",
       "      <td>G</td>\n",
       "      <td>1.5</td>\n",
       "      <td>0.6</td>\n",
       "      <td>0.5</td>\n",
       "      <td>0.2</td>\n",
       "      <td>5.3</td>\n",
       "      <td>0.507</td>\n",
       "      <td>25</td>\n",
       "      <td>abrinal01</td>\n",
       "      <td>SG</td>\n",
       "      <td>2019</td>\n",
       "    </tr>\n",
       "    <tr>\n",
       "      <th>1</th>\n",
       "      <td>Quincy Acy</td>\n",
       "      <td>F</td>\n",
       "      <td>2.5</td>\n",
       "      <td>0.8</td>\n",
       "      <td>0.1</td>\n",
       "      <td>0.4</td>\n",
       "      <td>1.7</td>\n",
       "      <td>0.379</td>\n",
       "      <td>28</td>\n",
       "      <td>acyqu01</td>\n",
       "      <td>PF</td>\n",
       "      <td>2019</td>\n",
       "    </tr>\n",
       "    <tr>\n",
       "      <th>2</th>\n",
       "      <td>Jaylen Adams</td>\n",
       "      <td>G</td>\n",
       "      <td>1.8</td>\n",
       "      <td>1.9</td>\n",
       "      <td>0.4</td>\n",
       "      <td>0.1</td>\n",
       "      <td>3.2</td>\n",
       "      <td>0.474</td>\n",
       "      <td>22</td>\n",
       "      <td>adamsja01</td>\n",
       "      <td>PG</td>\n",
       "      <td>2019</td>\n",
       "    </tr>\n",
       "    <tr>\n",
       "      <th>3</th>\n",
       "      <td>Steven Adams</td>\n",
       "      <td>C</td>\n",
       "      <td>9.5</td>\n",
       "      <td>1.6</td>\n",
       "      <td>1.5</td>\n",
       "      <td>1.0</td>\n",
       "      <td>13.9</td>\n",
       "      <td>0.591</td>\n",
       "      <td>25</td>\n",
       "      <td>adamsst01</td>\n",
       "      <td>C</td>\n",
       "      <td>2019</td>\n",
       "    </tr>\n",
       "    <tr>\n",
       "      <th>4</th>\n",
       "      <td>Bam Adebayo</td>\n",
       "      <td>C</td>\n",
       "      <td>7.3</td>\n",
       "      <td>2.2</td>\n",
       "      <td>0.9</td>\n",
       "      <td>0.8</td>\n",
       "      <td>8.9</td>\n",
       "      <td>0.623</td>\n",
       "      <td>21</td>\n",
       "      <td>adebaba01</td>\n",
       "      <td>C</td>\n",
       "      <td>2019</td>\n",
       "    </tr>\n",
       "  </tbody>\n",
       "</table>\n",
       "</div>"
      ],
      "text/plain": [
       "         Player Pos  RPG  APG  SPG  BPG   PPG    TS%  Age Player-additional  \\\n",
       "0  Álex Abrines   G  1.5  0.6  0.5  0.2   5.3  0.507   25         abrinal01   \n",
       "1    Quincy Acy   F  2.5  0.8  0.1  0.4   1.7  0.379   28           acyqu01   \n",
       "2  Jaylen Adams   G  1.8  1.9  0.4  0.1   3.2  0.474   22         adamsja01   \n",
       "3  Steven Adams   C  9.5  1.6  1.5  1.0  13.9  0.591   25         adamsst01   \n",
       "4   Bam Adebayo   C  7.3  2.2  0.9  0.8   8.9  0.623   21         adebaba01   \n",
       "\n",
       "  Pos_og  Year  \n",
       "0     SG  2019  \n",
       "1     PF  2019  \n",
       "2     PG  2019  \n",
       "3      C  2019  \n",
       "4      C  2019  "
      ]
     },
     "execution_count": 52,
     "metadata": {},
     "output_type": "execute_result"
    }
   ],
   "source": [
    "test_players.head()"
   ]
  },
  {
   "cell_type": "markdown",
   "metadata": {},
   "source": [
    "### Add the All Star and MVP Data<a class=\"anchor\" id=\"allstarmvp\"></a> "
   ]
  },
  {
   "cell_type": "code",
   "execution_count": 53,
   "metadata": {},
   "outputs": [],
   "source": [
    "def check_tups(row, tups):\n",
    "    tup = (row['Player'], row['Year'])\n",
    "    if tup in tups:\n",
    "        return 'Y'\n",
    "    else:\n",
    "        return 'N'"
   ]
  },
  {
   "cell_type": "code",
   "execution_count": 54,
   "metadata": {},
   "outputs": [],
   "source": [
    "test_players['All Star'] = test_players.apply(lambda row: check_tups(row, all_star_tups), axis = 1)"
   ]
  },
  {
   "cell_type": "code",
   "execution_count": 55,
   "metadata": {},
   "outputs": [],
   "source": [
    "test_players['MVP'] = test_players.apply(lambda row: check_tups(row, mvp_tups), axis = 1)"
   ]
  },
  {
   "cell_type": "code",
   "execution_count": 56,
   "metadata": {},
   "outputs": [
    {
     "data": {
      "text/html": [
       "<div>\n",
       "<style scoped>\n",
       "    .dataframe tbody tr th:only-of-type {\n",
       "        vertical-align: middle;\n",
       "    }\n",
       "\n",
       "    .dataframe tbody tr th {\n",
       "        vertical-align: top;\n",
       "    }\n",
       "\n",
       "    .dataframe thead th {\n",
       "        text-align: right;\n",
       "    }\n",
       "</style>\n",
       "<table border=\"1\" class=\"dataframe\">\n",
       "  <thead>\n",
       "    <tr style=\"text-align: right;\">\n",
       "      <th></th>\n",
       "      <th>Player</th>\n",
       "      <th>Pos</th>\n",
       "      <th>RPG</th>\n",
       "      <th>APG</th>\n",
       "      <th>SPG</th>\n",
       "      <th>BPG</th>\n",
       "      <th>PPG</th>\n",
       "      <th>TS%</th>\n",
       "      <th>Age</th>\n",
       "      <th>Player-additional</th>\n",
       "      <th>Pos_og</th>\n",
       "      <th>Year</th>\n",
       "      <th>All Star</th>\n",
       "      <th>MVP</th>\n",
       "    </tr>\n",
       "  </thead>\n",
       "  <tbody>\n",
       "    <tr>\n",
       "      <th>0</th>\n",
       "      <td>Álex Abrines</td>\n",
       "      <td>G</td>\n",
       "      <td>1.5</td>\n",
       "      <td>0.6</td>\n",
       "      <td>0.5</td>\n",
       "      <td>0.2</td>\n",
       "      <td>5.3</td>\n",
       "      <td>0.507</td>\n",
       "      <td>25</td>\n",
       "      <td>abrinal01</td>\n",
       "      <td>SG</td>\n",
       "      <td>2019</td>\n",
       "      <td>N</td>\n",
       "      <td>N</td>\n",
       "    </tr>\n",
       "    <tr>\n",
       "      <th>1</th>\n",
       "      <td>Quincy Acy</td>\n",
       "      <td>F</td>\n",
       "      <td>2.5</td>\n",
       "      <td>0.8</td>\n",
       "      <td>0.1</td>\n",
       "      <td>0.4</td>\n",
       "      <td>1.7</td>\n",
       "      <td>0.379</td>\n",
       "      <td>28</td>\n",
       "      <td>acyqu01</td>\n",
       "      <td>PF</td>\n",
       "      <td>2019</td>\n",
       "      <td>N</td>\n",
       "      <td>N</td>\n",
       "    </tr>\n",
       "    <tr>\n",
       "      <th>2</th>\n",
       "      <td>Jaylen Adams</td>\n",
       "      <td>G</td>\n",
       "      <td>1.8</td>\n",
       "      <td>1.9</td>\n",
       "      <td>0.4</td>\n",
       "      <td>0.1</td>\n",
       "      <td>3.2</td>\n",
       "      <td>0.474</td>\n",
       "      <td>22</td>\n",
       "      <td>adamsja01</td>\n",
       "      <td>PG</td>\n",
       "      <td>2019</td>\n",
       "      <td>N</td>\n",
       "      <td>N</td>\n",
       "    </tr>\n",
       "    <tr>\n",
       "      <th>3</th>\n",
       "      <td>Steven Adams</td>\n",
       "      <td>C</td>\n",
       "      <td>9.5</td>\n",
       "      <td>1.6</td>\n",
       "      <td>1.5</td>\n",
       "      <td>1.0</td>\n",
       "      <td>13.9</td>\n",
       "      <td>0.591</td>\n",
       "      <td>25</td>\n",
       "      <td>adamsst01</td>\n",
       "      <td>C</td>\n",
       "      <td>2019</td>\n",
       "      <td>N</td>\n",
       "      <td>N</td>\n",
       "    </tr>\n",
       "    <tr>\n",
       "      <th>4</th>\n",
       "      <td>Bam Adebayo</td>\n",
       "      <td>C</td>\n",
       "      <td>7.3</td>\n",
       "      <td>2.2</td>\n",
       "      <td>0.9</td>\n",
       "      <td>0.8</td>\n",
       "      <td>8.9</td>\n",
       "      <td>0.623</td>\n",
       "      <td>21</td>\n",
       "      <td>adebaba01</td>\n",
       "      <td>C</td>\n",
       "      <td>2019</td>\n",
       "      <td>N</td>\n",
       "      <td>N</td>\n",
       "    </tr>\n",
       "  </tbody>\n",
       "</table>\n",
       "</div>"
      ],
      "text/plain": [
       "         Player Pos  RPG  APG  SPG  BPG   PPG    TS%  Age Player-additional  \\\n",
       "0  Álex Abrines   G  1.5  0.6  0.5  0.2   5.3  0.507   25         abrinal01   \n",
       "1    Quincy Acy   F  2.5  0.8  0.1  0.4   1.7  0.379   28           acyqu01   \n",
       "2  Jaylen Adams   G  1.8  1.9  0.4  0.1   3.2  0.474   22         adamsja01   \n",
       "3  Steven Adams   C  9.5  1.6  1.5  1.0  13.9  0.591   25         adamsst01   \n",
       "4   Bam Adebayo   C  7.3  2.2  0.9  0.8   8.9  0.623   21         adebaba01   \n",
       "\n",
       "  Pos_og  Year All Star MVP  \n",
       "0     SG  2019        N   N  \n",
       "1     PF  2019        N   N  \n",
       "2     PG  2019        N   N  \n",
       "3      C  2019        N   N  \n",
       "4      C  2019        N   N  "
      ]
     },
     "execution_count": 56,
     "metadata": {},
     "output_type": "execute_result"
    }
   ],
   "source": [
    "test_players.head()"
   ]
  },
  {
   "cell_type": "code",
   "execution_count": 57,
   "metadata": {},
   "outputs": [],
   "source": [
    "test_players['All Star'] = test_players['All Star'] == 'Y'\n",
    "test_players['MVP'] = test_players['MVP'] == 'Y'"
   ]
  },
  {
   "cell_type": "markdown",
   "metadata": {},
   "source": [
    "### Handle Missing Data "
   ]
  },
  {
   "cell_type": "code",
   "execution_count": 58,
   "metadata": {},
   "outputs": [
    {
     "name": "stdout",
     "output_type": "stream",
     "text": [
      "Player 0\n",
      "Pos 0\n",
      "RPG 0\n",
      "APG 0\n",
      "SPG 0\n",
      "BPG 0\n",
      "PPG 0\n",
      "TS% 0\n",
      "Age 0\n",
      "Player-additional 0\n",
      "Pos_og 0\n",
      "Year 0\n",
      "All Star 0\n",
      "MVP 0\n"
     ]
    }
   ],
   "source": [
    "for col in test_players.columns:\n",
    "    print(col, test_players[col].isna().sum())"
   ]
  },
  {
   "cell_type": "code",
   "execution_count": 59,
   "metadata": {},
   "outputs": [],
   "source": [
    "test_players = test_players[['Player', 'Pos', 'RPG', 'APG', 'SPG', 'BPG', 'PPG', 'TS%', 'Pos_og',\n",
    "       'Year', 'All Star', 'MVP']]"
   ]
  },
  {
   "cell_type": "code",
   "execution_count": 60,
   "metadata": {},
   "outputs": [],
   "source": [
    "test_players.to_csv('players_1819_cleaned.csv', index = False)"
   ]
  },
  {
   "cell_type": "markdown",
   "metadata": {},
   "source": [
    "## Process the 2020-21 Players Statistics<a class=\"anchor\" id=\"2021\"></a>"
   ]
  },
  {
   "cell_type": "code",
   "execution_count": 173,
   "metadata": {},
   "outputs": [],
   "source": [
    "test_2021 = pd.read_csv('players_2021.csv')"
   ]
  },
  {
   "cell_type": "code",
   "execution_count": 174,
   "metadata": {},
   "outputs": [
    {
     "data": {
      "text/html": [
       "<div>\n",
       "<style scoped>\n",
       "    .dataframe tbody tr th:only-of-type {\n",
       "        vertical-align: middle;\n",
       "    }\n",
       "\n",
       "    .dataframe tbody tr th {\n",
       "        vertical-align: top;\n",
       "    }\n",
       "\n",
       "    .dataframe thead th {\n",
       "        text-align: right;\n",
       "    }\n",
       "</style>\n",
       "<table border=\"1\" class=\"dataframe\">\n",
       "  <thead>\n",
       "    <tr style=\"text-align: right;\">\n",
       "      <th></th>\n",
       "      <th>Rk</th>\n",
       "      <th>Player</th>\n",
       "      <th>Pos</th>\n",
       "      <th>Age</th>\n",
       "      <th>Tm</th>\n",
       "      <th>G</th>\n",
       "      <th>GS</th>\n",
       "      <th>MP</th>\n",
       "      <th>FG</th>\n",
       "      <th>FGA</th>\n",
       "      <th>...</th>\n",
       "      <th>FT%</th>\n",
       "      <th>ORB</th>\n",
       "      <th>DRB</th>\n",
       "      <th>TRB</th>\n",
       "      <th>AST</th>\n",
       "      <th>STL</th>\n",
       "      <th>BLK</th>\n",
       "      <th>TOV</th>\n",
       "      <th>PF</th>\n",
       "      <th>PTS</th>\n",
       "    </tr>\n",
       "  </thead>\n",
       "  <tbody>\n",
       "    <tr>\n",
       "      <th>0</th>\n",
       "      <td>1</td>\n",
       "      <td>Precious Achiuwa\\achiupr01</td>\n",
       "      <td>PF</td>\n",
       "      <td>21</td>\n",
       "      <td>MIA</td>\n",
       "      <td>32</td>\n",
       "      <td>2</td>\n",
       "      <td>14.0</td>\n",
       "      <td>2.3</td>\n",
       "      <td>4.1</td>\n",
       "      <td>...</td>\n",
       "      <td>0.528</td>\n",
       "      <td>1.2</td>\n",
       "      <td>2.7</td>\n",
       "      <td>3.9</td>\n",
       "      <td>0.6</td>\n",
       "      <td>0.4</td>\n",
       "      <td>0.5</td>\n",
       "      <td>1.0</td>\n",
       "      <td>1.8</td>\n",
       "      <td>5.9</td>\n",
       "    </tr>\n",
       "    <tr>\n",
       "      <th>1</th>\n",
       "      <td>2</td>\n",
       "      <td>Jaylen Adams\\adamsja01</td>\n",
       "      <td>PG</td>\n",
       "      <td>24</td>\n",
       "      <td>MIL</td>\n",
       "      <td>7</td>\n",
       "      <td>0</td>\n",
       "      <td>2.6</td>\n",
       "      <td>0.1</td>\n",
       "      <td>1.1</td>\n",
       "      <td>...</td>\n",
       "      <td>NaN</td>\n",
       "      <td>0.0</td>\n",
       "      <td>0.4</td>\n",
       "      <td>0.4</td>\n",
       "      <td>0.3</td>\n",
       "      <td>0.0</td>\n",
       "      <td>0.0</td>\n",
       "      <td>0.0</td>\n",
       "      <td>0.1</td>\n",
       "      <td>0.3</td>\n",
       "    </tr>\n",
       "    <tr>\n",
       "      <th>2</th>\n",
       "      <td>3</td>\n",
       "      <td>Steven Adams\\adamsst01</td>\n",
       "      <td>C</td>\n",
       "      <td>27</td>\n",
       "      <td>NOP</td>\n",
       "      <td>30</td>\n",
       "      <td>30</td>\n",
       "      <td>28.2</td>\n",
       "      <td>3.6</td>\n",
       "      <td>5.8</td>\n",
       "      <td>...</td>\n",
       "      <td>0.456</td>\n",
       "      <td>4.2</td>\n",
       "      <td>4.9</td>\n",
       "      <td>9.1</td>\n",
       "      <td>2.3</td>\n",
       "      <td>0.9</td>\n",
       "      <td>0.6</td>\n",
       "      <td>1.6</td>\n",
       "      <td>1.9</td>\n",
       "      <td>8.2</td>\n",
       "    </tr>\n",
       "    <tr>\n",
       "      <th>3</th>\n",
       "      <td>4</td>\n",
       "      <td>Bam Adebayo\\adebaba01</td>\n",
       "      <td>C</td>\n",
       "      <td>23</td>\n",
       "      <td>MIA</td>\n",
       "      <td>31</td>\n",
       "      <td>31</td>\n",
       "      <td>33.9</td>\n",
       "      <td>7.3</td>\n",
       "      <td>12.9</td>\n",
       "      <td>...</td>\n",
       "      <td>0.848</td>\n",
       "      <td>2.2</td>\n",
       "      <td>7.5</td>\n",
       "      <td>9.6</td>\n",
       "      <td>5.5</td>\n",
       "      <td>0.9</td>\n",
       "      <td>1.0</td>\n",
       "      <td>3.0</td>\n",
       "      <td>2.5</td>\n",
       "      <td>19.6</td>\n",
       "    </tr>\n",
       "    <tr>\n",
       "      <th>4</th>\n",
       "      <td>5</td>\n",
       "      <td>LaMarcus Aldridge\\aldrila01</td>\n",
       "      <td>C</td>\n",
       "      <td>35</td>\n",
       "      <td>SAS</td>\n",
       "      <td>20</td>\n",
       "      <td>18</td>\n",
       "      <td>26.5</td>\n",
       "      <td>5.8</td>\n",
       "      <td>12.3</td>\n",
       "      <td>...</td>\n",
       "      <td>0.829</td>\n",
       "      <td>0.8</td>\n",
       "      <td>3.7</td>\n",
       "      <td>4.5</td>\n",
       "      <td>1.8</td>\n",
       "      <td>0.4</td>\n",
       "      <td>0.9</td>\n",
       "      <td>0.9</td>\n",
       "      <td>1.7</td>\n",
       "      <td>14.3</td>\n",
       "    </tr>\n",
       "  </tbody>\n",
       "</table>\n",
       "<p>5 rows × 30 columns</p>\n",
       "</div>"
      ],
      "text/plain": [
       "   Rk                       Player Pos  Age   Tm   G  GS    MP   FG   FGA  \\\n",
       "0   1   Precious Achiuwa\\achiupr01  PF   21  MIA  32   2  14.0  2.3   4.1   \n",
       "1   2       Jaylen Adams\\adamsja01  PG   24  MIL   7   0   2.6  0.1   1.1   \n",
       "2   3       Steven Adams\\adamsst01   C   27  NOP  30  30  28.2  3.6   5.8   \n",
       "3   4        Bam Adebayo\\adebaba01   C   23  MIA  31  31  33.9  7.3  12.9   \n",
       "4   5  LaMarcus Aldridge\\aldrila01   C   35  SAS  20  18  26.5  5.8  12.3   \n",
       "\n",
       "   ...    FT%  ORB  DRB  TRB  AST  STL  BLK  TOV   PF   PTS  \n",
       "0  ...  0.528  1.2  2.7  3.9  0.6  0.4  0.5  1.0  1.8   5.9  \n",
       "1  ...    NaN  0.0  0.4  0.4  0.3  0.0  0.0  0.0  0.1   0.3  \n",
       "2  ...  0.456  4.2  4.9  9.1  2.3  0.9  0.6  1.6  1.9   8.2  \n",
       "3  ...  0.848  2.2  7.5  9.6  5.5  0.9  1.0  3.0  2.5  19.6  \n",
       "4  ...  0.829  0.8  3.7  4.5  1.8  0.4  0.9  0.9  1.7  14.3  \n",
       "\n",
       "[5 rows x 30 columns]"
      ]
     },
     "execution_count": 174,
     "metadata": {},
     "output_type": "execute_result"
    }
   ],
   "source": [
    "test_2021.head()"
   ]
  },
  {
   "cell_type": "code",
   "execution_count": 175,
   "metadata": {},
   "outputs": [],
   "source": [
    "test_2021['Player-additional'] = test_2021.Player.str.split('\\\\').str[-1]"
   ]
  },
  {
   "cell_type": "code",
   "execution_count": 176,
   "metadata": {},
   "outputs": [
    {
     "data": {
      "text/plain": [
       "Index(['Rk', 'Player', 'Pos', 'Age', 'Tm', 'G', 'GS', 'MP', 'FG', 'FGA', 'FG%',\n",
       "       '3P', '3PA', '3P%', '2P', '2PA', '2P%', 'eFG%', 'FT', 'FTA', 'FT%',\n",
       "       'ORB', 'DRB', 'TRB', 'AST', 'STL', 'BLK', 'TOV', 'PF', 'PTS',\n",
       "       'Player-additional'],\n",
       "      dtype='object')"
      ]
     },
     "execution_count": 176,
     "metadata": {},
     "output_type": "execute_result"
    }
   ],
   "source": [
    "test_2021.columns"
   ]
  },
  {
   "cell_type": "markdown",
   "metadata": {},
   "source": [
    "Use test_2021_adv, a dataframe which holds advanced statistics, to get the appropriate aggregate statistics"
   ]
  },
  {
   "cell_type": "code",
   "execution_count": 177,
   "metadata": {},
   "outputs": [
    {
     "data": {
      "text/plain": [
       "Index(['Rk', 'Player', 'Pos', 'Age', 'Tm', 'G', 'MP', 'PER', 'TS%', '3PAr',\n",
       "       'FTr', 'ORB%', 'DRB%', 'TRB%', 'AST%', 'STL%', 'BLK%', 'TOV%', 'USG%',\n",
       "       'Unnamed: 19', 'OWS', 'DWS', 'WS', 'WS/48', 'Unnamed: 24', 'OBPM',\n",
       "       'DBPM', 'BPM', 'VORP'],\n",
       "      dtype='object')"
      ]
     },
     "execution_count": 177,
     "metadata": {},
     "output_type": "execute_result"
    }
   ],
   "source": [
    "test_2021_adv = pd.read_csv('players_adv_2021.csv')\n",
    "test_2021_adv.columns"
   ]
  },
  {
   "cell_type": "code",
   "execution_count": 178,
   "metadata": {},
   "outputs": [],
   "source": [
    "test_2021_adv['Player-additional'] = test_2021_adv.Player.str.split('\\\\').str[-1]"
   ]
  },
  {
   "cell_type": "code",
   "execution_count": 179,
   "metadata": {},
   "outputs": [
    {
     "data": {
      "text/plain": [
       "True"
      ]
     },
     "execution_count": 179,
     "metadata": {},
     "output_type": "execute_result"
    }
   ],
   "source": [
    "all(test_2021_adv['Player-additional'] == test_2021['Player-additional'])"
   ]
  },
  {
   "cell_type": "code",
   "execution_count": 180,
   "metadata": {},
   "outputs": [],
   "source": [
    "test_2021['TS%'] = test_2021_adv['TS%']"
   ]
  },
  {
   "cell_type": "code",
   "execution_count": 181,
   "metadata": {},
   "outputs": [],
   "source": [
    "test_2021 = test_2021.rename(columns={'AST':'APG', 'STL':'SPG', 'BLK':'BPG', 'TRB':'RPG', 'PTS':'PPG'})"
   ]
  },
  {
   "cell_type": "markdown",
   "metadata": {},
   "source": [
    "### Handle Any Duplicates "
   ]
  },
  {
   "cell_type": "code",
   "execution_count": 182,
   "metadata": {},
   "outputs": [
    {
     "data": {
      "text/plain": [
       "(491, 509)"
      ]
     },
     "execution_count": 182,
     "metadata": {},
     "output_type": "execute_result"
    }
   ],
   "source": [
    "test_2021['Player-additional'].nunique(), test_2021.shape[0]"
   ]
  },
  {
   "cell_type": "code",
   "execution_count": 183,
   "metadata": {},
   "outputs": [],
   "source": [
    "test_2021.drop_duplicates(['Player-additional', 'Age'], keep = 'last', inplace=True)"
   ]
  },
  {
   "cell_type": "code",
   "execution_count": 184,
   "metadata": {},
   "outputs": [
    {
     "data": {
      "text/plain": [
       "(491, 491)"
      ]
     },
     "execution_count": 184,
     "metadata": {},
     "output_type": "execute_result"
    }
   ],
   "source": [
    "test_2021['Player-additional'].nunique(), test_2021.shape[0]"
   ]
  },
  {
   "cell_type": "markdown",
   "metadata": {},
   "source": [
    "Only keep the columns in the training data (stats)"
   ]
  },
  {
   "cell_type": "code",
   "execution_count": 185,
   "metadata": {},
   "outputs": [],
   "source": [
    "cols_to_drop = list(filter(lambda col: col not in list(stats.columns), test_2021.columns))\n",
    "test_2021 = test_2021.drop(columns=cols_to_drop)"
   ]
  },
  {
   "cell_type": "code",
   "execution_count": 186,
   "metadata": {
    "scrolled": true
   },
   "outputs": [
    {
     "data": {
      "text/html": [
       "<div>\n",
       "<style scoped>\n",
       "    .dataframe tbody tr th:only-of-type {\n",
       "        vertical-align: middle;\n",
       "    }\n",
       "\n",
       "    .dataframe tbody tr th {\n",
       "        vertical-align: top;\n",
       "    }\n",
       "\n",
       "    .dataframe thead th {\n",
       "        text-align: right;\n",
       "    }\n",
       "</style>\n",
       "<table border=\"1\" class=\"dataframe\">\n",
       "  <thead>\n",
       "    <tr style=\"text-align: right;\">\n",
       "      <th></th>\n",
       "      <th>Player</th>\n",
       "      <th>Pos</th>\n",
       "      <th>RPG</th>\n",
       "      <th>APG</th>\n",
       "      <th>SPG</th>\n",
       "      <th>BPG</th>\n",
       "      <th>PPG</th>\n",
       "      <th>TS%</th>\n",
       "    </tr>\n",
       "  </thead>\n",
       "  <tbody>\n",
       "    <tr>\n",
       "      <th>0</th>\n",
       "      <td>Precious Achiuwa\\achiupr01</td>\n",
       "      <td>PF</td>\n",
       "      <td>3.9</td>\n",
       "      <td>0.6</td>\n",
       "      <td>0.4</td>\n",
       "      <td>0.5</td>\n",
       "      <td>5.9</td>\n",
       "      <td>0.578</td>\n",
       "    </tr>\n",
       "    <tr>\n",
       "      <th>1</th>\n",
       "      <td>Jaylen Adams\\adamsja01</td>\n",
       "      <td>PG</td>\n",
       "      <td>0.4</td>\n",
       "      <td>0.3</td>\n",
       "      <td>0.0</td>\n",
       "      <td>0.0</td>\n",
       "      <td>0.3</td>\n",
       "      <td>0.125</td>\n",
       "    </tr>\n",
       "    <tr>\n",
       "      <th>2</th>\n",
       "      <td>Steven Adams\\adamsst01</td>\n",
       "      <td>C</td>\n",
       "      <td>9.1</td>\n",
       "      <td>2.3</td>\n",
       "      <td>0.9</td>\n",
       "      <td>0.6</td>\n",
       "      <td>8.2</td>\n",
       "      <td>0.604</td>\n",
       "    </tr>\n",
       "    <tr>\n",
       "      <th>3</th>\n",
       "      <td>Bam Adebayo\\adebaba01</td>\n",
       "      <td>C</td>\n",
       "      <td>9.6</td>\n",
       "      <td>5.5</td>\n",
       "      <td>0.9</td>\n",
       "      <td>1.0</td>\n",
       "      <td>19.6</td>\n",
       "      <td>0.636</td>\n",
       "    </tr>\n",
       "    <tr>\n",
       "      <th>4</th>\n",
       "      <td>LaMarcus Aldridge\\aldrila01</td>\n",
       "      <td>C</td>\n",
       "      <td>4.5</td>\n",
       "      <td>1.8</td>\n",
       "      <td>0.4</td>\n",
       "      <td>0.9</td>\n",
       "      <td>14.3</td>\n",
       "      <td>0.549</td>\n",
       "    </tr>\n",
       "  </tbody>\n",
       "</table>\n",
       "</div>"
      ],
      "text/plain": [
       "                        Player Pos  RPG  APG  SPG  BPG   PPG    TS%\n",
       "0   Precious Achiuwa\\achiupr01  PF  3.9  0.6  0.4  0.5   5.9  0.578\n",
       "1       Jaylen Adams\\adamsja01  PG  0.4  0.3  0.0  0.0   0.3  0.125\n",
       "2       Steven Adams\\adamsst01   C  9.1  2.3  0.9  0.6   8.2  0.604\n",
       "3        Bam Adebayo\\adebaba01   C  9.6  5.5  0.9  1.0  19.6  0.636\n",
       "4  LaMarcus Aldridge\\aldrila01   C  4.5  1.8  0.4  0.9  14.3  0.549"
      ]
     },
     "execution_count": 186,
     "metadata": {},
     "output_type": "execute_result"
    }
   ],
   "source": [
    "test_2021.head()"
   ]
  },
  {
   "cell_type": "markdown",
   "metadata": {},
   "source": [
    "### Handle Missing Data"
   ]
  },
  {
   "cell_type": "code",
   "execution_count": 187,
   "metadata": {},
   "outputs": [
    {
     "name": "stdout",
     "output_type": "stream",
     "text": [
      "Player: False\n",
      "Pos: False\n",
      "RPG :  False\n",
      "APG :  False\n",
      "SPG :  False\n",
      "BPG :  False\n",
      "PPG :  False\n",
      "TS% :  True\n"
     ]
    }
   ],
   "source": [
    "detect_missing_values(test_2021)"
   ]
  },
  {
   "cell_type": "code",
   "execution_count": 188,
   "metadata": {},
   "outputs": [],
   "source": [
    "test_2021 = test_2021.fillna(0)"
   ]
  },
  {
   "cell_type": "code",
   "execution_count": 190,
   "metadata": {},
   "outputs": [
    {
     "name": "stdout",
     "output_type": "stream",
     "text": [
      "Player: False\n",
      "Pos: False\n",
      "RPG :  False\n",
      "APG :  False\n",
      "SPG :  False\n",
      "BPG :  False\n",
      "PPG :  False\n",
      "TS% :  False\n"
     ]
    }
   ],
   "source": [
    "detect_missing_values(test_2021)"
   ]
  },
  {
   "cell_type": "code",
   "execution_count": 191,
   "metadata": {},
   "outputs": [
    {
     "data": {
      "text/html": [
       "<div>\n",
       "<style scoped>\n",
       "    .dataframe tbody tr th:only-of-type {\n",
       "        vertical-align: middle;\n",
       "    }\n",
       "\n",
       "    .dataframe tbody tr th {\n",
       "        vertical-align: top;\n",
       "    }\n",
       "\n",
       "    .dataframe thead th {\n",
       "        text-align: right;\n",
       "    }\n",
       "</style>\n",
       "<table border=\"1\" class=\"dataframe\">\n",
       "  <thead>\n",
       "    <tr style=\"text-align: right;\">\n",
       "      <th></th>\n",
       "      <th>RPG</th>\n",
       "      <th>APG</th>\n",
       "      <th>SPG</th>\n",
       "      <th>BPG</th>\n",
       "      <th>PPG</th>\n",
       "      <th>TS%</th>\n",
       "    </tr>\n",
       "  </thead>\n",
       "  <tbody>\n",
       "    <tr>\n",
       "      <th>count</th>\n",
       "      <td>491.000000</td>\n",
       "      <td>491.000000</td>\n",
       "      <td>491.000000</td>\n",
       "      <td>491.000000</td>\n",
       "      <td>491.000000</td>\n",
       "      <td>491.000000</td>\n",
       "    </tr>\n",
       "    <tr>\n",
       "      <th>mean</th>\n",
       "      <td>3.612424</td>\n",
       "      <td>1.995519</td>\n",
       "      <td>0.607943</td>\n",
       "      <td>0.412424</td>\n",
       "      <td>8.861711</td>\n",
       "      <td>0.535741</td>\n",
       "    </tr>\n",
       "    <tr>\n",
       "      <th>std</th>\n",
       "      <td>2.502021</td>\n",
       "      <td>1.917178</td>\n",
       "      <td>0.419959</td>\n",
       "      <td>0.434422</td>\n",
       "      <td>6.826147</td>\n",
       "      <td>0.125450</td>\n",
       "    </tr>\n",
       "    <tr>\n",
       "      <th>min</th>\n",
       "      <td>0.000000</td>\n",
       "      <td>0.000000</td>\n",
       "      <td>0.000000</td>\n",
       "      <td>0.000000</td>\n",
       "      <td>0.000000</td>\n",
       "      <td>0.000000</td>\n",
       "    </tr>\n",
       "    <tr>\n",
       "      <th>25%</th>\n",
       "      <td>1.800000</td>\n",
       "      <td>0.700000</td>\n",
       "      <td>0.300000</td>\n",
       "      <td>0.100000</td>\n",
       "      <td>3.800000</td>\n",
       "      <td>0.499500</td>\n",
       "    </tr>\n",
       "    <tr>\n",
       "      <th>50%</th>\n",
       "      <td>3.200000</td>\n",
       "      <td>1.400000</td>\n",
       "      <td>0.600000</td>\n",
       "      <td>0.300000</td>\n",
       "      <td>7.300000</td>\n",
       "      <td>0.556000</td>\n",
       "    </tr>\n",
       "    <tr>\n",
       "      <th>75%</th>\n",
       "      <td>4.900000</td>\n",
       "      <td>2.500000</td>\n",
       "      <td>0.900000</td>\n",
       "      <td>0.600000</td>\n",
       "      <td>12.500000</td>\n",
       "      <td>0.604000</td>\n",
       "    </tr>\n",
       "    <tr>\n",
       "      <th>max</th>\n",
       "      <td>14.100000</td>\n",
       "      <td>11.100000</td>\n",
       "      <td>1.900000</td>\n",
       "      <td>3.400000</td>\n",
       "      <td>32.800000</td>\n",
       "      <td>1.000000</td>\n",
       "    </tr>\n",
       "  </tbody>\n",
       "</table>\n",
       "</div>"
      ],
      "text/plain": [
       "              RPG         APG         SPG         BPG         PPG         TS%\n",
       "count  491.000000  491.000000  491.000000  491.000000  491.000000  491.000000\n",
       "mean     3.612424    1.995519    0.607943    0.412424    8.861711    0.535741\n",
       "std      2.502021    1.917178    0.419959    0.434422    6.826147    0.125450\n",
       "min      0.000000    0.000000    0.000000    0.000000    0.000000    0.000000\n",
       "25%      1.800000    0.700000    0.300000    0.100000    3.800000    0.499500\n",
       "50%      3.200000    1.400000    0.600000    0.300000    7.300000    0.556000\n",
       "75%      4.900000    2.500000    0.900000    0.600000   12.500000    0.604000\n",
       "max     14.100000   11.100000    1.900000    3.400000   32.800000    1.000000"
      ]
     },
     "execution_count": 191,
     "metadata": {},
     "output_type": "execute_result"
    }
   ],
   "source": [
    "test_2021_descr = test_2021.describe()\n",
    "test_2021_descr"
   ]
  },
  {
   "cell_type": "code",
   "execution_count": 192,
   "metadata": {},
   "outputs": [
    {
     "data": {
      "text/html": [
       "<div>\n",
       "<style scoped>\n",
       "    .dataframe tbody tr th:only-of-type {\n",
       "        vertical-align: middle;\n",
       "    }\n",
       "\n",
       "    .dataframe tbody tr th {\n",
       "        vertical-align: top;\n",
       "    }\n",
       "\n",
       "    .dataframe thead th {\n",
       "        text-align: right;\n",
       "    }\n",
       "</style>\n",
       "<table border=\"1\" class=\"dataframe\">\n",
       "  <thead>\n",
       "    <tr style=\"text-align: right;\">\n",
       "      <th></th>\n",
       "      <th>Player</th>\n",
       "      <th>Pos</th>\n",
       "      <th>RPG</th>\n",
       "      <th>APG</th>\n",
       "      <th>SPG</th>\n",
       "      <th>BPG</th>\n",
       "      <th>PPG</th>\n",
       "      <th>TS%</th>\n",
       "    </tr>\n",
       "  </thead>\n",
       "  <tbody>\n",
       "    <tr>\n",
       "      <th>0</th>\n",
       "      <td>Precious Achiuwa</td>\n",
       "      <td>PF</td>\n",
       "      <td>3.9</td>\n",
       "      <td>0.6</td>\n",
       "      <td>0.4</td>\n",
       "      <td>0.5</td>\n",
       "      <td>5.9</td>\n",
       "      <td>0.578</td>\n",
       "    </tr>\n",
       "    <tr>\n",
       "      <th>1</th>\n",
       "      <td>Jaylen Adams</td>\n",
       "      <td>PG</td>\n",
       "      <td>0.4</td>\n",
       "      <td>0.3</td>\n",
       "      <td>0.0</td>\n",
       "      <td>0.0</td>\n",
       "      <td>0.3</td>\n",
       "      <td>0.125</td>\n",
       "    </tr>\n",
       "    <tr>\n",
       "      <th>2</th>\n",
       "      <td>Steven Adams</td>\n",
       "      <td>C</td>\n",
       "      <td>9.1</td>\n",
       "      <td>2.3</td>\n",
       "      <td>0.9</td>\n",
       "      <td>0.6</td>\n",
       "      <td>8.2</td>\n",
       "      <td>0.604</td>\n",
       "    </tr>\n",
       "    <tr>\n",
       "      <th>3</th>\n",
       "      <td>Bam Adebayo</td>\n",
       "      <td>C</td>\n",
       "      <td>9.6</td>\n",
       "      <td>5.5</td>\n",
       "      <td>0.9</td>\n",
       "      <td>1.0</td>\n",
       "      <td>19.6</td>\n",
       "      <td>0.636</td>\n",
       "    </tr>\n",
       "    <tr>\n",
       "      <th>4</th>\n",
       "      <td>LaMarcus Aldridge</td>\n",
       "      <td>C</td>\n",
       "      <td>4.5</td>\n",
       "      <td>1.8</td>\n",
       "      <td>0.4</td>\n",
       "      <td>0.9</td>\n",
       "      <td>14.3</td>\n",
       "      <td>0.549</td>\n",
       "    </tr>\n",
       "  </tbody>\n",
       "</table>\n",
       "</div>"
      ],
      "text/plain": [
       "              Player Pos  RPG  APG  SPG  BPG   PPG    TS%\n",
       "0   Precious Achiuwa  PF  3.9  0.6  0.4  0.5   5.9  0.578\n",
       "1       Jaylen Adams  PG  0.4  0.3  0.0  0.0   0.3  0.125\n",
       "2       Steven Adams   C  9.1  2.3  0.9  0.6   8.2  0.604\n",
       "3        Bam Adebayo   C  9.6  5.5  0.9  1.0  19.6  0.636\n",
       "4  LaMarcus Aldridge   C  4.5  1.8  0.4  0.9  14.3  0.549"
      ]
     },
     "execution_count": 192,
     "metadata": {},
     "output_type": "execute_result"
    }
   ],
   "source": [
    "test_2021['Player'] = test_2021['Player'].str.split('\\\\').str[0]\n",
    "test_2021.head()"
   ]
  },
  {
   "cell_type": "markdown",
   "metadata": {},
   "source": [
    "Reset the positions so that they correspond with the training data (stats)"
   ]
  },
  {
   "cell_type": "code",
   "execution_count": 193,
   "metadata": {},
   "outputs": [],
   "source": [
    "test_2021['Pos_og'] = test_2021.Pos.copy()"
   ]
  },
  {
   "cell_type": "code",
   "execution_count": 194,
   "metadata": {},
   "outputs": [
    {
     "data": {
      "text/plain": [
       "['C', 'G', 'F']"
      ]
     },
     "execution_count": 194,
     "metadata": {},
     "output_type": "execute_result"
    }
   ],
   "source": [
    "reset_position(test_2021)\n",
    "list(set(test_2021['Pos']))"
   ]
  },
  {
   "cell_type": "markdown",
   "metadata": {},
   "source": [
    "### Add the All Star Data<a class=\"anchor\" id=\"allstar2021\"></a>"
   ]
  },
  {
   "cell_type": "code",
   "execution_count": 195,
   "metadata": {},
   "outputs": [],
   "source": [
    "test_2021['Year'] = 2021"
   ]
  },
  {
   "cell_type": "code",
   "execution_count": 196,
   "metadata": {},
   "outputs": [],
   "source": [
    "test_2021['All Star'] = test_2021.apply(lambda row: check_tups(row, all_star_tups), axis = 1)\n",
    "test_2021['All Star'] = test_2021['All Star'] == 'Y'"
   ]
  },
  {
   "cell_type": "markdown",
   "metadata": {},
   "source": [
    "### Add the MVP Data"
   ]
  },
  {
   "cell_type": "code",
   "execution_count": 197,
   "metadata": {},
   "outputs": [],
   "source": [
    "mvp_tups.append(('Nikola Jokić', 2021))"
   ]
  },
  {
   "cell_type": "code",
   "execution_count": 198,
   "metadata": {},
   "outputs": [],
   "source": [
    "test_2021['MVP'] = test_2021.apply(lambda row: check_tups(row, mvp_tups), axis = 1)"
   ]
  },
  {
   "cell_type": "code",
   "execution_count": 199,
   "metadata": {},
   "outputs": [
    {
     "data": {
      "text/plain": [
       "N    490\n",
       "Y      1\n",
       "Name: MVP, dtype: int64"
      ]
     },
     "execution_count": 199,
     "metadata": {},
     "output_type": "execute_result"
    }
   ],
   "source": [
    "test_2021.MVP.value_counts()"
   ]
  },
  {
   "cell_type": "code",
   "execution_count": 201,
   "metadata": {},
   "outputs": [],
   "source": [
    "test_2021.to_csv('players_2021_cleaned.csv', index = False)"
   ]
  },
  {
   "cell_type": "markdown",
   "metadata": {},
   "source": [
    "## Process the 2021-22 Players Statistics<a class=\"anchor\" id=\"2022\"></a>"
   ]
  },
  {
   "cell_type": "code",
   "execution_count": 202,
   "metadata": {},
   "outputs": [],
   "source": [
    "test_2022 = pd.read_csv('players_2022.csv')"
   ]
  },
  {
   "cell_type": "code",
   "execution_count": 203,
   "metadata": {},
   "outputs": [
    {
     "data": {
      "text/html": [
       "<div>\n",
       "<style scoped>\n",
       "    .dataframe tbody tr th:only-of-type {\n",
       "        vertical-align: middle;\n",
       "    }\n",
       "\n",
       "    .dataframe tbody tr th {\n",
       "        vertical-align: top;\n",
       "    }\n",
       "\n",
       "    .dataframe thead th {\n",
       "        text-align: right;\n",
       "    }\n",
       "</style>\n",
       "<table border=\"1\" class=\"dataframe\">\n",
       "  <thead>\n",
       "    <tr style=\"text-align: right;\">\n",
       "      <th></th>\n",
       "      <th>Rk</th>\n",
       "      <th>Player</th>\n",
       "      <th>Pos</th>\n",
       "      <th>Age</th>\n",
       "      <th>Tm</th>\n",
       "      <th>G</th>\n",
       "      <th>GS</th>\n",
       "      <th>MP</th>\n",
       "      <th>FG</th>\n",
       "      <th>FGA</th>\n",
       "      <th>...</th>\n",
       "      <th>ORB</th>\n",
       "      <th>DRB</th>\n",
       "      <th>TRB</th>\n",
       "      <th>AST</th>\n",
       "      <th>STL</th>\n",
       "      <th>BLK</th>\n",
       "      <th>TOV</th>\n",
       "      <th>PF</th>\n",
       "      <th>PTS</th>\n",
       "      <th>Player-additional</th>\n",
       "    </tr>\n",
       "  </thead>\n",
       "  <tbody>\n",
       "    <tr>\n",
       "      <th>0</th>\n",
       "      <td>1</td>\n",
       "      <td>Precious Achiuwa</td>\n",
       "      <td>C</td>\n",
       "      <td>22</td>\n",
       "      <td>TOR</td>\n",
       "      <td>73</td>\n",
       "      <td>28</td>\n",
       "      <td>23.6</td>\n",
       "      <td>3.6</td>\n",
       "      <td>8.3</td>\n",
       "      <td>...</td>\n",
       "      <td>2.0</td>\n",
       "      <td>4.5</td>\n",
       "      <td>6.5</td>\n",
       "      <td>1.1</td>\n",
       "      <td>0.5</td>\n",
       "      <td>0.6</td>\n",
       "      <td>1.2</td>\n",
       "      <td>2.1</td>\n",
       "      <td>9.1</td>\n",
       "      <td>achiupr01</td>\n",
       "    </tr>\n",
       "    <tr>\n",
       "      <th>1</th>\n",
       "      <td>2</td>\n",
       "      <td>Steven Adams</td>\n",
       "      <td>C</td>\n",
       "      <td>28</td>\n",
       "      <td>MEM</td>\n",
       "      <td>76</td>\n",
       "      <td>75</td>\n",
       "      <td>26.3</td>\n",
       "      <td>2.8</td>\n",
       "      <td>5.1</td>\n",
       "      <td>...</td>\n",
       "      <td>4.6</td>\n",
       "      <td>5.4</td>\n",
       "      <td>10.0</td>\n",
       "      <td>3.4</td>\n",
       "      <td>0.9</td>\n",
       "      <td>0.8</td>\n",
       "      <td>1.5</td>\n",
       "      <td>2.0</td>\n",
       "      <td>6.9</td>\n",
       "      <td>adamsst01</td>\n",
       "    </tr>\n",
       "    <tr>\n",
       "      <th>2</th>\n",
       "      <td>3</td>\n",
       "      <td>Bam Adebayo</td>\n",
       "      <td>C</td>\n",
       "      <td>24</td>\n",
       "      <td>MIA</td>\n",
       "      <td>56</td>\n",
       "      <td>56</td>\n",
       "      <td>32.6</td>\n",
       "      <td>7.3</td>\n",
       "      <td>13.0</td>\n",
       "      <td>...</td>\n",
       "      <td>2.4</td>\n",
       "      <td>7.6</td>\n",
       "      <td>10.1</td>\n",
       "      <td>3.4</td>\n",
       "      <td>1.4</td>\n",
       "      <td>0.8</td>\n",
       "      <td>2.6</td>\n",
       "      <td>3.1</td>\n",
       "      <td>19.1</td>\n",
       "      <td>adebaba01</td>\n",
       "    </tr>\n",
       "    <tr>\n",
       "      <th>3</th>\n",
       "      <td>4</td>\n",
       "      <td>Santi Aldama</td>\n",
       "      <td>PF</td>\n",
       "      <td>21</td>\n",
       "      <td>MEM</td>\n",
       "      <td>32</td>\n",
       "      <td>0</td>\n",
       "      <td>11.3</td>\n",
       "      <td>1.7</td>\n",
       "      <td>4.1</td>\n",
       "      <td>...</td>\n",
       "      <td>1.0</td>\n",
       "      <td>1.7</td>\n",
       "      <td>2.7</td>\n",
       "      <td>0.7</td>\n",
       "      <td>0.2</td>\n",
       "      <td>0.3</td>\n",
       "      <td>0.5</td>\n",
       "      <td>1.1</td>\n",
       "      <td>4.1</td>\n",
       "      <td>aldamsa01</td>\n",
       "    </tr>\n",
       "    <tr>\n",
       "      <th>4</th>\n",
       "      <td>5</td>\n",
       "      <td>LaMarcus Aldridge</td>\n",
       "      <td>C</td>\n",
       "      <td>36</td>\n",
       "      <td>BRK</td>\n",
       "      <td>47</td>\n",
       "      <td>12</td>\n",
       "      <td>22.3</td>\n",
       "      <td>5.4</td>\n",
       "      <td>9.7</td>\n",
       "      <td>...</td>\n",
       "      <td>1.6</td>\n",
       "      <td>3.9</td>\n",
       "      <td>5.5</td>\n",
       "      <td>0.9</td>\n",
       "      <td>0.3</td>\n",
       "      <td>1.0</td>\n",
       "      <td>0.9</td>\n",
       "      <td>1.7</td>\n",
       "      <td>12.9</td>\n",
       "      <td>aldrila01</td>\n",
       "    </tr>\n",
       "  </tbody>\n",
       "</table>\n",
       "<p>5 rows × 31 columns</p>\n",
       "</div>"
      ],
      "text/plain": [
       "   Rk             Player Pos  Age   Tm   G  GS    MP   FG   FGA  ...  ORB  \\\n",
       "0   1   Precious Achiuwa   C   22  TOR  73  28  23.6  3.6   8.3  ...  2.0   \n",
       "1   2       Steven Adams   C   28  MEM  76  75  26.3  2.8   5.1  ...  4.6   \n",
       "2   3        Bam Adebayo   C   24  MIA  56  56  32.6  7.3  13.0  ...  2.4   \n",
       "3   4       Santi Aldama  PF   21  MEM  32   0  11.3  1.7   4.1  ...  1.0   \n",
       "4   5  LaMarcus Aldridge   C   36  BRK  47  12  22.3  5.4   9.7  ...  1.6   \n",
       "\n",
       "   DRB   TRB  AST  STL  BLK  TOV   PF   PTS  Player-additional  \n",
       "0  4.5   6.5  1.1  0.5  0.6  1.2  2.1   9.1          achiupr01  \n",
       "1  5.4  10.0  3.4  0.9  0.8  1.5  2.0   6.9          adamsst01  \n",
       "2  7.6  10.1  3.4  1.4  0.8  2.6  3.1  19.1          adebaba01  \n",
       "3  1.7   2.7  0.7  0.2  0.3  0.5  1.1   4.1          aldamsa01  \n",
       "4  3.9   5.5  0.9  0.3  1.0  0.9  1.7  12.9          aldrila01  \n",
       "\n",
       "[5 rows x 31 columns]"
      ]
     },
     "execution_count": 203,
     "metadata": {},
     "output_type": "execute_result"
    }
   ],
   "source": [
    "test_2022.head()"
   ]
  },
  {
   "cell_type": "code",
   "execution_count": 204,
   "metadata": {},
   "outputs": [
    {
     "data": {
      "text/plain": [
       "Index(['Rk', 'Player', 'Pos', 'Age', 'Tm', 'G', 'GS', 'MP', 'FG', 'FGA', 'FG%',\n",
       "       '3P', '3PA', '3P%', '2P', '2PA', '2P%', 'eFG%', 'FT', 'FTA', 'FT%',\n",
       "       'ORB', 'DRB', 'TRB', 'AST', 'STL', 'BLK', 'TOV', 'PF', 'PTS',\n",
       "       'Player-additional'],\n",
       "      dtype='object')"
      ]
     },
     "execution_count": 204,
     "metadata": {},
     "output_type": "execute_result"
    }
   ],
   "source": [
    "test_2022.columns"
   ]
  },
  {
   "cell_type": "code",
   "execution_count": 205,
   "metadata": {},
   "outputs": [
    {
     "data": {
      "text/plain": [
       "(605, 812)"
      ]
     },
     "execution_count": 205,
     "metadata": {},
     "output_type": "execute_result"
    }
   ],
   "source": [
    "test_2022['Player-additional'].nunique(), test_2022.shape[0]"
   ]
  },
  {
   "cell_type": "code",
   "execution_count": 206,
   "metadata": {},
   "outputs": [],
   "source": [
    "test_2022_adv = pd.read_csv('players_adv_2022.csv')\n",
    "test_2022['TS%'] = test_2022_adv['TS%']\n",
    "test_2022 = test_2022.rename(columns={'AST':'APG', 'STL':'SPG', 'BLK':'BPG', 'TRB':'RPG', 'PTS':'PPG'})"
   ]
  },
  {
   "cell_type": "code",
   "execution_count": 207,
   "metadata": {},
   "outputs": [],
   "source": [
    "cols_to_keep = list(stats.columns) + ['Player-additional', 'Age']\n",
    "cols_to_drop = list(filter(lambda col: col not in cols_to_keep, test_2022.columns))\n",
    "test_2022 = test_2022.drop(columns=cols_to_drop)"
   ]
  },
  {
   "cell_type": "code",
   "execution_count": 208,
   "metadata": {},
   "outputs": [
    {
     "data": {
      "text/html": [
       "<div>\n",
       "<style scoped>\n",
       "    .dataframe tbody tr th:only-of-type {\n",
       "        vertical-align: middle;\n",
       "    }\n",
       "\n",
       "    .dataframe tbody tr th {\n",
       "        vertical-align: top;\n",
       "    }\n",
       "\n",
       "    .dataframe thead th {\n",
       "        text-align: right;\n",
       "    }\n",
       "</style>\n",
       "<table border=\"1\" class=\"dataframe\">\n",
       "  <thead>\n",
       "    <tr style=\"text-align: right;\">\n",
       "      <th></th>\n",
       "      <th>Player</th>\n",
       "      <th>Pos</th>\n",
       "      <th>Age</th>\n",
       "      <th>RPG</th>\n",
       "      <th>APG</th>\n",
       "      <th>SPG</th>\n",
       "      <th>BPG</th>\n",
       "      <th>PPG</th>\n",
       "      <th>Player-additional</th>\n",
       "      <th>TS%</th>\n",
       "    </tr>\n",
       "  </thead>\n",
       "  <tbody>\n",
       "    <tr>\n",
       "      <th>0</th>\n",
       "      <td>Precious Achiuwa</td>\n",
       "      <td>C</td>\n",
       "      <td>22</td>\n",
       "      <td>6.5</td>\n",
       "      <td>1.1</td>\n",
       "      <td>0.5</td>\n",
       "      <td>0.6</td>\n",
       "      <td>9.1</td>\n",
       "      <td>achiupr01</td>\n",
       "      <td>0.503</td>\n",
       "    </tr>\n",
       "    <tr>\n",
       "      <th>1</th>\n",
       "      <td>Steven Adams</td>\n",
       "      <td>C</td>\n",
       "      <td>28</td>\n",
       "      <td>10.0</td>\n",
       "      <td>3.4</td>\n",
       "      <td>0.9</td>\n",
       "      <td>0.8</td>\n",
       "      <td>6.9</td>\n",
       "      <td>adamsst01</td>\n",
       "      <td>0.560</td>\n",
       "    </tr>\n",
       "    <tr>\n",
       "      <th>2</th>\n",
       "      <td>Bam Adebayo</td>\n",
       "      <td>C</td>\n",
       "      <td>24</td>\n",
       "      <td>10.1</td>\n",
       "      <td>3.4</td>\n",
       "      <td>1.4</td>\n",
       "      <td>0.8</td>\n",
       "      <td>19.1</td>\n",
       "      <td>adebaba01</td>\n",
       "      <td>0.608</td>\n",
       "    </tr>\n",
       "    <tr>\n",
       "      <th>3</th>\n",
       "      <td>Santi Aldama</td>\n",
       "      <td>PF</td>\n",
       "      <td>21</td>\n",
       "      <td>2.7</td>\n",
       "      <td>0.7</td>\n",
       "      <td>0.2</td>\n",
       "      <td>0.3</td>\n",
       "      <td>4.1</td>\n",
       "      <td>aldamsa01</td>\n",
       "      <td>0.452</td>\n",
       "    </tr>\n",
       "    <tr>\n",
       "      <th>4</th>\n",
       "      <td>LaMarcus Aldridge</td>\n",
       "      <td>C</td>\n",
       "      <td>36</td>\n",
       "      <td>5.5</td>\n",
       "      <td>0.9</td>\n",
       "      <td>0.3</td>\n",
       "      <td>1.0</td>\n",
       "      <td>12.9</td>\n",
       "      <td>aldrila01</td>\n",
       "      <td>0.604</td>\n",
       "    </tr>\n",
       "  </tbody>\n",
       "</table>\n",
       "</div>"
      ],
      "text/plain": [
       "              Player Pos  Age   RPG  APG  SPG  BPG   PPG Player-additional  \\\n",
       "0   Precious Achiuwa   C   22   6.5  1.1  0.5  0.6   9.1         achiupr01   \n",
       "1       Steven Adams   C   28  10.0  3.4  0.9  0.8   6.9         adamsst01   \n",
       "2        Bam Adebayo   C   24  10.1  3.4  1.4  0.8  19.1         adebaba01   \n",
       "3       Santi Aldama  PF   21   2.7  0.7  0.2  0.3   4.1         aldamsa01   \n",
       "4  LaMarcus Aldridge   C   36   5.5  0.9  0.3  1.0  12.9         aldrila01   \n",
       "\n",
       "     TS%  \n",
       "0  0.503  \n",
       "1  0.560  \n",
       "2  0.608  \n",
       "3  0.452  \n",
       "4  0.604  "
      ]
     },
     "execution_count": 208,
     "metadata": {},
     "output_type": "execute_result"
    }
   ],
   "source": [
    "test_2022.head()"
   ]
  },
  {
   "cell_type": "code",
   "execution_count": 209,
   "metadata": {},
   "outputs": [
    {
     "name": "stdout",
     "output_type": "stream",
     "text": [
      "Player: False\n",
      "Pos: False\n",
      "Age :  False\n",
      "RPG :  False\n",
      "APG :  False\n",
      "SPG :  False\n",
      "BPG :  False\n",
      "PPG :  False\n",
      "Player-additional: False\n",
      "TS% :  True\n"
     ]
    }
   ],
   "source": [
    "detect_missing_values(test_2022)"
   ]
  },
  {
   "cell_type": "code",
   "execution_count": 210,
   "metadata": {},
   "outputs": [],
   "source": [
    "test_2022.fillna(0,inplace=True)"
   ]
  },
  {
   "cell_type": "code",
   "execution_count": 211,
   "metadata": {},
   "outputs": [
    {
     "data": {
      "text/plain": [
       "['FC', 'C', 'GF', 'G', 'F', 'SG-PG-SF']"
      ]
     },
     "execution_count": 211,
     "metadata": {},
     "output_type": "execute_result"
    }
   ],
   "source": [
    "test_2022['Pos_og'] = test_2022.Pos.copy()\n",
    "reset_position(test_2022)\n",
    "list(set(test_2022['Pos']))"
   ]
  },
  {
   "cell_type": "code",
   "execution_count": 212,
   "metadata": {},
   "outputs": [],
   "source": [
    "# handle special position case\n",
    "test_2022['Pos'] = test_2022['Pos'].replace(['SG-PG-SF'], 'G')"
   ]
  },
  {
   "cell_type": "code",
   "execution_count": 213,
   "metadata": {},
   "outputs": [
    {
     "data": {
      "text/plain": [
       "['FC', 'C', 'GF', 'G', 'F']"
      ]
     },
     "execution_count": 213,
     "metadata": {},
     "output_type": "execute_result"
    }
   ],
   "source": [
    "list(set(test_2022['Pos']))"
   ]
  },
  {
   "cell_type": "code",
   "execution_count": 214,
   "metadata": {},
   "outputs": [],
   "source": [
    "test_2022 = test_2022.groupby(['Player-additional', 'Age']).agg({'TS%':'mean', 'RPG':'mean', 'APG': 'mean', \n",
    "                                 'PPG':'mean' ,'BPG':'mean', 'SPG':'mean', 'Player':'unique','Pos':'unique',\n",
    "                                 'Pos_og':'unique'}).reset_index()\n",
    "test_2022['Pos_og'] = test_2022.Pos_og.apply(lambda lst: lst[0])\n",
    "test_2022['Player'] = test_2022.Player.apply(lambda lst: lst[0])\n",
    "test_2022['Pos'] = test_2022.Pos.apply(lambda lst: lst[0])"
   ]
  },
  {
   "cell_type": "code",
   "execution_count": 215,
   "metadata": {},
   "outputs": [
    {
     "data": {
      "text/plain": [
       "(605, 605)"
      ]
     },
     "execution_count": 215,
     "metadata": {},
     "output_type": "execute_result"
    }
   ],
   "source": [
    "test_2022.Player.nunique(), test_2022.shape[0]"
   ]
  },
  {
   "cell_type": "markdown",
   "metadata": {},
   "source": [
    "### Handle Any Duplicates"
   ]
  },
  {
   "cell_type": "code",
   "execution_count": 216,
   "metadata": {},
   "outputs": [],
   "source": [
    "test_2022.drop_duplicates(['Player-additional', 'Age'], keep = 'last', inplace=True)"
   ]
  },
  {
   "cell_type": "code",
   "execution_count": 217,
   "metadata": {},
   "outputs": [
    {
     "data": {
      "text/plain": [
       "(605, 605)"
      ]
     },
     "execution_count": 217,
     "metadata": {},
     "output_type": "execute_result"
    }
   ],
   "source": [
    "test_2022['Player-additional'].nunique(), test_2022.shape[0]"
   ]
  },
  {
   "cell_type": "markdown",
   "metadata": {},
   "source": [
    "### Add All the All Star Data"
   ]
  },
  {
   "cell_type": "code",
   "execution_count": 218,
   "metadata": {},
   "outputs": [],
   "source": [
    "test_2022['Year'] = 2022\n",
    "test_2022['All Star'] = test_2022.apply(lambda row: check_tups(row, all_star_tups), axis = 1)\n",
    "test_2022['All Star'] = test_2022['All Star'] == 'Y'"
   ]
  },
  {
   "cell_type": "markdown",
   "metadata": {},
   "source": [
    "### Add the MVP Data"
   ]
  },
  {
   "cell_type": "code",
   "execution_count": 219,
   "metadata": {},
   "outputs": [],
   "source": [
    "mvp_tups.append(('Nikola Jokić', 2022))\n",
    "test_2022['MVP'] = test_2022.apply(lambda row: check_tups(row, mvp_tups), axis = 1)"
   ]
  },
  {
   "cell_type": "code",
   "execution_count": 220,
   "metadata": {},
   "outputs": [],
   "source": [
    "test_2022.to_csv('players_2022_cleaned.csv', index = False)"
   ]
  },
  {
   "cell_type": "markdown",
   "metadata": {},
   "source": [
    "# Positions Classifier<a class=\"anchor\" id=\"positions\"></a>"
   ]
  },
  {
   "cell_type": "markdown",
   "metadata": {},
   "source": [
    "## Train the Random Forest Classifier for Position on the Data From 1950-2017\n",
    "\n",
    "Assuming play style and statistics by position hasn't changed much over the years, this classifier should perform well without using year as a feature. A classifier with Year and one without Year as a feature will be compared"
   ]
  },
  {
   "cell_type": "code",
   "execution_count": 427,
   "metadata": {},
   "outputs": [
    {
     "data": {
      "text/plain": [
       "array([1980, 1981, 1982, 1983, 1984, 1985, 1986, 1987, 1988, 1989, 1990,\n",
       "       1991, 1992, 1993, 1994, 1995, 1996, 1997, 1998, 1999, 2000, 2001,\n",
       "       2002, 2003, 2004, 2005, 2006, 2007, 2008, 2009, 2010, 2011, 2012,\n",
       "       2013, 2014, 2015, 2016, 2017])"
      ]
     },
     "execution_count": 427,
     "metadata": {},
     "output_type": "execute_result"
    }
   ],
   "source": [
    "stats.Year.unique()"
   ]
  },
  {
   "cell_type": "code",
   "execution_count": 428,
   "metadata": {},
   "outputs": [
    {
     "data": {
      "text/plain": [
       "Index(['Year', 'Player', 'Pos', 'TS%', 'RPG', 'APG', 'PPG', 'BPG', 'SPG',\n",
       "       'All Star', 'MVP'],\n",
       "      dtype='object')"
      ]
     },
     "execution_count": 428,
     "metadata": {},
     "output_type": "execute_result"
    }
   ],
   "source": [
    "stats.columns"
   ]
  },
  {
   "cell_type": "code",
   "execution_count": 429,
   "metadata": {},
   "outputs": [
    {
     "data": {
      "text/plain": [
       "F     0.399377\n",
       "G     0.396101\n",
       "C     0.198922\n",
       "GF    0.002959\n",
       "FC    0.002642\n",
       "Name: Pos, dtype: float64"
      ]
     },
     "execution_count": 429,
     "metadata": {},
     "output_type": "execute_result"
    }
   ],
   "source": [
    "stats.Pos.value_counts(normalize=True)"
   ]
  },
  {
   "cell_type": "markdown",
   "metadata": {},
   "source": [
    "### With Year"
   ]
  },
  {
   "cell_type": "code",
   "execution_count": 632,
   "metadata": {},
   "outputs": [],
   "source": [
    "training_data_stats = stats[['Year','Pos', 'TS%', 'RPG', 'APG', 'PPG', 'BPG', 'SPG',\n",
    "       'All Star', 'MVP']]"
   ]
  },
  {
   "cell_type": "code",
   "execution_count": 432,
   "metadata": {},
   "outputs": [],
   "source": [
    "X_train_pos = training_data_stats.drop(columns = 'Pos')\n",
    "y_train_pos = LabelEncoder().fit_transform(training_data_stats['Pos'].values)"
   ]
  },
  {
   "cell_type": "code",
   "execution_count": 459,
   "metadata": {},
   "outputs": [],
   "source": [
    "pos_labels = {0:'C', 1:'F', 2:'FC', 3:'G', 4:'GF'}"
   ]
  },
  {
   "cell_type": "code",
   "execution_count": 220,
   "metadata": {},
   "outputs": [
    {
     "data": {
      "text/plain": [
       "GridSearchCV(cv=5, estimator=RandomForestClassifier(),\n",
       "             param_grid={'criterion': ['gini', 'entropy'],\n",
       "                         'max_depth': [5, 10, 15, 20, 25, None],\n",
       "                         'max_features': ['sqrt', 'log2'],\n",
       "                         'n_estimators': [300, 500, 700],\n",
       "                         'random_state': [18]})"
      ]
     },
     "execution_count": 220,
     "metadata": {},
     "output_type": "execute_result"
    }
   ],
   "source": [
    "grid = { \n",
    "    'n_estimators': [300,500,700],\n",
    "    'max_features': ['sqrt', 'log2'],\n",
    "    'max_depth' : [5,10,15,20,25,None],\n",
    "    'criterion' :['gini', 'entropy'],\n",
    "    'random_state' : [18]\n",
    "}\n",
    "\n",
    "pos_rf_cv = GridSearchCV(estimator=RandomForestClassifier(), param_grid=grid, cv = 5)"
   ]
  },
  {
   "cell_type": "code",
   "execution_count": 523,
   "metadata": {},
   "outputs": [
    {
     "data": {
      "text/plain": [
       "GridSearchCV(cv=5, estimator=RandomForestClassifier(),\n",
       "             param_grid={'criterion': ['gini', 'entropy'],\n",
       "                         'max_depth': [5, 10, 15, 20, 25, None],\n",
       "                         'max_features': ['sqrt', 'log2'],\n",
       "                         'n_estimators': [300, 500, 700],\n",
       "                         'random_state': [18]})"
      ]
     },
     "execution_count": 523,
     "metadata": {},
     "output_type": "execute_result"
    }
   ],
   "source": [
    "pos_rf_cv.fit(X_train_pos, y_train_pos)"
   ]
  },
  {
   "cell_type": "code",
   "execution_count": 525,
   "metadata": {},
   "outputs": [],
   "source": [
    "pos_rf_year = pos_rf_cv.best_estimator_"
   ]
  },
  {
   "cell_type": "code",
   "execution_count": 588,
   "metadata": {},
   "outputs": [],
   "source": [
    "feature_names = [f\"{X_train_pos.columns[i]}\" for i in range(X_train_pos.shape[1])]\n",
    "pos_rf_year_imp = pd.Series(pos_rf_year.feature_importances_, index=feature_names).sort_values(ascending=False)"
   ]
  },
  {
   "cell_type": "code",
   "execution_count": 589,
   "metadata": {},
   "outputs": [
    {
     "data": {
      "text/plain": [
       "RPG         0.256018\n",
       "APG         0.251740\n",
       "BPG         0.231935\n",
       "SPG         0.118068\n",
       "PPG         0.074044\n",
       "TS%         0.036067\n",
       "Year        0.032127\n",
       "All Star    0.000000\n",
       "MVP         0.000000\n",
       "dtype: float64"
      ]
     },
     "execution_count": 589,
     "metadata": {},
     "output_type": "execute_result"
    }
   ],
   "source": [
    "pos_rf_year_imp"
   ]
  },
  {
   "cell_type": "code",
   "execution_count": 529,
   "metadata": {},
   "outputs": [],
   "source": [
    "X_test_pos = test_players[['Year','TS%', 'RPG', 'APG', 'PPG', 'BPG', 'SPG', 'All Star', 'MVP']]\n",
    "y_test_pos = LabelEncoder().fit_transform(test_players['Pos'].values)"
   ]
  },
  {
   "cell_type": "code",
   "execution_count": 531,
   "metadata": {},
   "outputs": [
    {
     "data": {
      "text/plain": [
       "0.7360594795539034"
      ]
     },
     "execution_count": 531,
     "metadata": {},
     "output_type": "execute_result"
    }
   ],
   "source": [
    "pos_rf_year.score(X_test_pos, y_test_pos)"
   ]
  },
  {
   "cell_type": "code",
   "execution_count": 532,
   "metadata": {},
   "outputs": [],
   "source": [
    "test_results_rf_df = test_players.copy()\n",
    "test_results_rf_df['pos_pred'] = pos_rf_year.predict(X_test_pos)\n",
    "test_results_rf_df['pos_pred'].replace(pos_labels, inplace=True)"
   ]
  },
  {
   "cell_type": "code",
   "execution_count": 533,
   "metadata": {},
   "outputs": [],
   "source": [
    "test_results_rf_df['correct_pos'] = test_results_rf_df['pos_pred'] == test_results_rf_df['Pos']"
   ]
  },
  {
   "cell_type": "code",
   "execution_count": 534,
   "metadata": {},
   "outputs": [
    {
     "data": {
      "text/plain": [
       "G     0.373239\n",
       "C     0.309859\n",
       "F     0.274648\n",
       "GF    0.028169\n",
       "FC    0.014085\n",
       "Name: Pos, dtype: float64"
      ]
     },
     "execution_count": 534,
     "metadata": {},
     "output_type": "execute_result"
    }
   ],
   "source": [
    "test_results_rf_df.loc[~test_results_rf_df.correct_pos].Pos.value_counts(normalize=True)"
   ]
  },
  {
   "cell_type": "code",
   "execution_count": 902,
   "metadata": {},
   "outputs": [
    {
     "data": {
      "text/plain": [
       "C     0.541667\n",
       "F     0.798969\n",
       "FC         NaN\n",
       "G     0.780992\n",
       "GF         NaN\n",
       "Name: Pos, dtype: float64"
      ]
     },
     "execution_count": 902,
     "metadata": {},
     "output_type": "execute_result"
    }
   ],
   "source": [
    "test_results_rf_df.loc[test_results_rf_df.correct_pos].Pos.value_counts() / test_results_rf_df.Pos.value_counts()"
   ]
  },
  {
   "cell_type": "code",
   "execution_count": 536,
   "metadata": {},
   "outputs": [],
   "source": [
    "def prop_incorrect(df, position):\n",
    "    incorrect = df.loc[~(df.correct_pos) & (df.Pos == position)].shape[0] \n",
    "    total = df.loc[(df.Pos == position)].shape[0]\n",
    "    return round(incorrect / total, 2)"
   ]
  },
  {
   "cell_type": "markdown",
   "metadata": {},
   "source": [
    "### Without Year "
   ]
  },
  {
   "cell_type": "code",
   "execution_count": 540,
   "metadata": {},
   "outputs": [],
   "source": [
    "X_train_pos_no_year = training_data_stats.drop(columns = ['Year', 'Pos'])"
   ]
  },
  {
   "cell_type": "code",
   "execution_count": 541,
   "metadata": {},
   "outputs": [],
   "source": [
    "X_test_pos_no_year = X_test_pos.drop(columns = ['Year'])"
   ]
  },
  {
   "cell_type": "code",
   "execution_count": 501,
   "metadata": {},
   "outputs": [
    {
     "data": {
      "text/plain": [
       "GridSearchCV(cv=5, estimator=RandomForestClassifier(),\n",
       "             param_grid={'criterion': ['gini', 'entropy'],\n",
       "                         'max_depth': [5, 10, 15, 20, 25, None],\n",
       "                         'max_features': ['sqrt', 'log2'],\n",
       "                         'n_estimators': [300, 500, 700],\n",
       "                         'random_state': [18]})"
      ]
     },
     "execution_count": 501,
     "metadata": {},
     "output_type": "execute_result"
    }
   ],
   "source": [
    "pos_rf_cv.fit(X_train_pos_no_year, y_train_pos)"
   ]
  },
  {
   "cell_type": "code",
   "execution_count": 543,
   "metadata": {},
   "outputs": [],
   "source": [
    "pos_rf_cv.fit(X_train_pos_no_year, y_train_pos)\n",
    "pos_rf_no_year = pos_rf_cv.best_estimator_"
   ]
  },
  {
   "cell_type": "code",
   "execution_count": 872,
   "metadata": {},
   "outputs": [
    {
     "data": {
      "text/plain": [
       "0.724907063197026"
      ]
     },
     "execution_count": 872,
     "metadata": {},
     "output_type": "execute_result"
    }
   ],
   "source": [
    "pos_rf_no_year.score(X_test_pos_no_year, y_test_pos)"
   ]
  },
  {
   "cell_type": "code",
   "execution_count": 545,
   "metadata": {},
   "outputs": [
    {
     "data": {
      "text/plain": [
       "0.01115241635687736"
      ]
     },
     "execution_count": 545,
     "metadata": {},
     "output_type": "execute_result"
    }
   ],
   "source": [
    "0.7360594795539034 - 0.724907063197026"
   ]
  },
  {
   "cell_type": "code",
   "execution_count": 584,
   "metadata": {},
   "outputs": [],
   "source": [
    "feature_names = [f\"{X_train_pos_no_year.columns[i]}\" for i in range(X_train_pos_no_year.shape[1])]"
   ]
  },
  {
   "cell_type": "code",
   "execution_count": 586,
   "metadata": {},
   "outputs": [],
   "source": [
    "pos_rf_no_year_imp = pd.Series(pos_rf_no_year.feature_importances_, index=feature_names).sort_values(ascending=False)"
   ]
  },
  {
   "cell_type": "code",
   "execution_count": 895,
   "metadata": {},
   "outputs": [],
   "source": [
    "test_results_rf_no_year_df = test_players.copy()\n",
    "test_results_rf_no_year_df['pos_pred'] = pos_rf_no_year.predict(X_test_pos_no_year)\n",
    "test_results_rf_no_year_df['pos_pred'].replace(pos_labels, inplace=True)\n",
    "test_results_rf_no_year_df['correct_pos'] = test_results_rf_no_year_df['pos_pred'] == test_results_rf_no_year_df['Pos']"
   ]
  },
  {
   "cell_type": "code",
   "execution_count": 896,
   "metadata": {},
   "outputs": [
    {
     "data": {
      "text/plain": [
       "G     0.425676\n",
       "C     0.304054\n",
       "F     0.229730\n",
       "GF    0.027027\n",
       "FC    0.013514\n",
       "Name: Pos, dtype: float64"
      ]
     },
     "execution_count": 896,
     "metadata": {},
     "output_type": "execute_result"
    }
   ],
   "source": [
    "test_results_rf_no_year_df.loc[~test_results_rf_no_year_df.correct_pos].Pos.value_counts(normalize=True)"
   ]
  },
  {
   "cell_type": "code",
   "execution_count": 898,
   "metadata": {},
   "outputs": [
    {
     "data": {
      "text/plain": [
       "G    0.458974\n",
       "F    0.410256\n",
       "C    0.130769\n",
       "Name: Pos, dtype: float64"
      ]
     },
     "execution_count": 898,
     "metadata": {},
     "output_type": "execute_result"
    }
   ],
   "source": [
    "test_results_rf_no_year_df.loc[test_results_rf_no_year_df.correct_pos].Pos.value_counts(normalize=True)"
   ]
  },
  {
   "cell_type": "code",
   "execution_count": 903,
   "metadata": {},
   "outputs": [
    {
     "data": {
      "text/plain": [
       "C     0.531250\n",
       "F     0.824742\n",
       "FC         NaN\n",
       "G     0.739669\n",
       "GF         NaN\n",
       "Name: Pos, dtype: float64"
      ]
     },
     "execution_count": 903,
     "metadata": {},
     "output_type": "execute_result"
    }
   ],
   "source": [
    "test_results_rf_no_year_df.loc[test_results_rf_no_year_df.correct_pos].Pos.value_counts() / test_results_rf_no_year_df.Pos.value_counts()"
   ]
  },
  {
   "cell_type": "code",
   "execution_count": 904,
   "metadata": {},
   "outputs": [
    {
     "data": {
      "text/plain": [
       "C     0.541667\n",
       "F     0.798969\n",
       "FC         NaN\n",
       "G     0.780992\n",
       "GF         NaN\n",
       "Name: Pos, dtype: float64"
      ]
     },
     "execution_count": 904,
     "metadata": {},
     "output_type": "execute_result"
    }
   ],
   "source": [
    "test_results_rf_df.loc[test_results_rf_df.correct_pos].Pos.value_counts() / test_results_rf_df.Pos.value_counts()"
   ]
  },
  {
   "cell_type": "markdown",
   "metadata": {},
   "source": [
    "### Comparison\n",
    "Accuracy decreases slightly by about 0.01 when removing year as a parameter. Year was the 3rd least important feature in the original Random Forest classifier, and the All Star and MVP features weren't important at all. This indicates that a players play style and production on the court, expressed in their rebounds, assists, blocks, steals, points, and shooting percentage, are much more indicative of position than anything else. Removing year decreased the proportion of each position that had a correct classification for Centers (-1%) and Guards (-4%), but increased for Forwards (+2%). Thus, it seems that the year a player played is more important for guards especially and also for centers. One interpretation of these results is that the per game statisics of a player benefit from the contextualization of year when it comes to classifying especially guards. For example, averaging 8 assists in the 1980's vs. averaging 8 assists in the 2010's mean different things for guards whereas the statistics of forwards are not as variant over the years. "
   ]
  },
  {
   "cell_type": "markdown",
   "metadata": {},
   "source": [
    "## Train a XGBoost Classifier for Position on the Data From 1950-2017\n",
    "\n",
    "Since there is a bit of a class imbalance (about 40% each of Forwards and Guards, but only about 20% Centers), XGBoost might work better than a random forest. "
   ]
  },
  {
   "cell_type": "code",
   "execution_count": 476,
   "metadata": {},
   "outputs": [
    {
     "data": {
      "text/plain": [
       "F     0.399377\n",
       "G     0.396101\n",
       "C     0.198922\n",
       "GF    0.002959\n",
       "FC    0.002642\n",
       "Name: Pos, dtype: float64"
      ]
     },
     "execution_count": 476,
     "metadata": {},
     "output_type": "execute_result"
    }
   ],
   "source": [
    "training_data_stats.Pos.value_counts(normalize=True)"
   ]
  },
  {
   "cell_type": "markdown",
   "metadata": {},
   "source": [
    "### With Year"
   ]
  },
  {
   "cell_type": "code",
   "execution_count": 780,
   "metadata": {},
   "outputs": [],
   "source": [
    "params = { 'max_depth': [3,6,10],\n",
    "           'learning_rate': [0.01, 0.05, 0.1],\n",
    "           'n_estimators': [100, 500, 1000],\n",
    "           'colsample_bytree': [0.3, 0.7]}\n",
    "xgbr = xgb.XGBClassifier(seed = 20, objective='multi:softmax', num_class = 5)\n",
    "pos_xgb_clf = GridSearchCV(estimator=xgbr, \n",
    "                   param_grid=params,\n",
    "                   scoring='accuracy')"
   ]
  },
  {
   "cell_type": "code",
   "execution_count": 781,
   "metadata": {
    "tags": []
   },
   "outputs": [
    {
     "data": {
      "text/plain": [
       "GridSearchCV(estimator=XGBClassifier(base_score=None, booster=None,\n",
       "                                     callbacks=None, colsample_bylevel=None,\n",
       "                                     colsample_bynode=None,\n",
       "                                     colsample_bytree=None,\n",
       "                                     early_stopping_rounds=None,\n",
       "                                     enable_categorical=False, eval_metric=None,\n",
       "                                     gamma=None, gpu_id=None, grow_policy=None,\n",
       "                                     importance_type=None,\n",
       "                                     interaction_constraints=None,\n",
       "                                     learning_rate=None, max_bin=None,\n",
       "                                     max_cat_to_...\n",
       "                                     max_delta_step=None, max_depth=None,\n",
       "                                     max_leaves=None, min_child_weight=None,\n",
       "                                     missing=nan, monotone_constraints=None,\n",
       "                                     n_estimators=100, n_jobs=None, num_class=5,\n",
       "                                     num_parallel_tree=None,\n",
       "                                     objective='multi:softmax', predictor=None,\n",
       "                                     random_state=None, ...),\n",
       "             param_grid={'colsample_bytree': [0.3, 0.7],\n",
       "                         'learning_rate': [0.01, 0.05, 0.1],\n",
       "                         'max_depth': [3, 6, 10],\n",
       "                         'n_estimators': [100, 500, 1000]},\n",
       "             scoring='accuracy')"
      ]
     },
     "execution_count": 781,
     "metadata": {},
     "output_type": "execute_result"
    }
   ],
   "source": [
    "pos_xgb_clf.fit(X_train_pos, y_train_pos)"
   ]
  },
  {
   "cell_type": "code",
   "execution_count": 784,
   "metadata": {},
   "outputs": [],
   "source": [
    "pos_xgb_year = pos_xgb_clf.best_estimator_"
   ]
  },
  {
   "cell_type": "code",
   "execution_count": 785,
   "metadata": {},
   "outputs": [],
   "source": [
    "test_pos_xgb_pred = pos_xgb_year.predict(X_test_pos)"
   ]
  },
  {
   "cell_type": "code",
   "execution_count": 786,
   "metadata": {},
   "outputs": [
    {
     "data": {
      "text/plain": [
       "0.741635687732342"
      ]
     },
     "execution_count": 786,
     "metadata": {},
     "output_type": "execute_result"
    }
   ],
   "source": [
    "accuracy_score(y_test_pos, test_pos_xgb_pred)"
   ]
  },
  {
   "cell_type": "code",
   "execution_count": 787,
   "metadata": {},
   "outputs": [],
   "source": [
    "pos_labels = {0:'C', 1:'F', 2:'FC', 3:'G', 4:'GF'}"
   ]
  },
  {
   "cell_type": "code",
   "execution_count": 838,
   "metadata": {},
   "outputs": [],
   "source": [
    "test_results_df = test_players.copy()"
   ]
  },
  {
   "cell_type": "code",
   "execution_count": 839,
   "metadata": {},
   "outputs": [],
   "source": [
    "test_results_df['pos_pred'] = test_pos_xgb_pred\n",
    "test_results_df['pos_pred'].replace(pos_labels, inplace=True)"
   ]
  },
  {
   "cell_type": "code",
   "execution_count": 840,
   "metadata": {},
   "outputs": [],
   "source": [
    "test_results_df['correct_pos'] = test_results_df['pos_pred'] == test_results_df['Pos']"
   ]
  },
  {
   "cell_type": "code",
   "execution_count": 841,
   "metadata": {},
   "outputs": [
    {
     "data": {
      "text/plain": [
       "G     0.388489\n",
       "C     0.366906\n",
       "F     0.201439\n",
       "GF    0.028777\n",
       "FC    0.014388\n",
       "Name: Pos, dtype: float64"
      ]
     },
     "execution_count": 841,
     "metadata": {},
     "output_type": "execute_result"
    }
   ],
   "source": [
    "test_results_df.loc[~test_results_df.correct_pos].Pos.value_counts(normalize=True)"
   ]
  },
  {
   "cell_type": "code",
   "execution_count": 842,
   "metadata": {},
   "outputs": [
    {
     "data": {
      "text/plain": [
       "G    0.471178\n",
       "F    0.416040\n",
       "C    0.112782\n",
       "Name: Pos, dtype: float64"
      ]
     },
     "execution_count": 842,
     "metadata": {},
     "output_type": "execute_result"
    }
   ],
   "source": [
    "test_results_df.loc[test_results_df.correct_pos].Pos.value_counts(normalize=True)"
   ]
  },
  {
   "cell_type": "code",
   "execution_count": 843,
   "metadata": {},
   "outputs": [
    {
     "data": {
      "text/plain": [
       "0.53"
      ]
     },
     "execution_count": 843,
     "metadata": {},
     "output_type": "execute_result"
    }
   ],
   "source": [
    "prop_incorrect(test_results_df, 'C')"
   ]
  },
  {
   "cell_type": "code",
   "execution_count": 844,
   "metadata": {},
   "outputs": [
    {
     "data": {
      "text/plain": [
       "0.14"
      ]
     },
     "execution_count": 844,
     "metadata": {},
     "output_type": "execute_result"
    }
   ],
   "source": [
    "prop_incorrect(test_results_df, 'F')"
   ]
  },
  {
   "cell_type": "code",
   "execution_count": 845,
   "metadata": {},
   "outputs": [
    {
     "data": {
      "text/plain": [
       "0.22"
      ]
     },
     "execution_count": 845,
     "metadata": {},
     "output_type": "execute_result"
    }
   ],
   "source": [
    "prop_incorrect(test_results_df, 'G')"
   ]
  },
  {
   "cell_type": "code",
   "execution_count": 846,
   "metadata": {},
   "outputs": [],
   "source": [
    "feature_names = [f\"{X_train_pos.columns[i]}\" for i in range(X_train_pos.shape[1])]\n",
    "xgb_pos_year_imp = pd.Series(pos_xgb_year.feature_importances_, index=feature_names).sort_values(ascending=False)"
   ]
  },
  {
   "cell_type": "code",
   "execution_count": 847,
   "metadata": {},
   "outputs": [
    {
     "data": {
      "text/plain": [
       "BPG         0.315920\n",
       "APG         0.272613\n",
       "RPG         0.182221\n",
       "SPG         0.124990\n",
       "PPG         0.067944\n",
       "TS%         0.019275\n",
       "Year        0.017038\n",
       "All Star    0.000000\n",
       "MVP         0.000000\n",
       "dtype: float32"
      ]
     },
     "execution_count": 847,
     "metadata": {},
     "output_type": "execute_result"
    }
   ],
   "source": [
    "xgb_pos_year_imp"
   ]
  },
  {
   "cell_type": "markdown",
   "metadata": {},
   "source": [
    "### Without Year"
   ]
  },
  {
   "cell_type": "code",
   "execution_count": 848,
   "metadata": {},
   "outputs": [
    {
     "data": {
      "text/plain": [
       "GridSearchCV(estimator=XGBClassifier(base_score=None, booster=None,\n",
       "                                     callbacks=None, colsample_bylevel=None,\n",
       "                                     colsample_bynode=None,\n",
       "                                     colsample_bytree=None,\n",
       "                                     early_stopping_rounds=None,\n",
       "                                     enable_categorical=False, eval_metric=None,\n",
       "                                     gamma=None, gpu_id=None, grow_policy=None,\n",
       "                                     importance_type=None,\n",
       "                                     interaction_constraints=None,\n",
       "                                     learning_rate=None, max_bin=None,\n",
       "                                     max_cat_to_...\n",
       "                                     max_delta_step=None, max_depth=None,\n",
       "                                     max_leaves=None, min_child_weight=None,\n",
       "                                     missing=nan, monotone_constraints=None,\n",
       "                                     n_estimators=100, n_jobs=None, num_class=5,\n",
       "                                     num_parallel_tree=None,\n",
       "                                     objective='multi:softmax', predictor=None,\n",
       "                                     random_state=None, ...),\n",
       "             param_grid={'colsample_bytree': [0.3, 0.7],\n",
       "                         'learning_rate': [0.01, 0.05, 0.1],\n",
       "                         'max_depth': [3, 6, 10],\n",
       "                         'n_estimators': [100, 500, 1000]},\n",
       "             scoring='accuracy')"
      ]
     },
     "execution_count": 848,
     "metadata": {},
     "output_type": "execute_result"
    }
   ],
   "source": [
    "pos_xgb_clf.fit(X_train_pos_no_year, y_train_pos)"
   ]
  },
  {
   "cell_type": "code",
   "execution_count": 874,
   "metadata": {},
   "outputs": [],
   "source": [
    "pos_xgb_no_year = pos_xgb_clf.best_estimator_"
   ]
  },
  {
   "cell_type": "code",
   "execution_count": 875,
   "metadata": {},
   "outputs": [],
   "source": [
    "test_pos_no_year_xgb_pred = pos_xgb_no_year.predict(X_test_pos_no_year)"
   ]
  },
  {
   "cell_type": "code",
   "execution_count": 876,
   "metadata": {},
   "outputs": [
    {
     "data": {
      "text/plain": [
       "0.724907063197026"
      ]
     },
     "execution_count": 876,
     "metadata": {},
     "output_type": "execute_result"
    }
   ],
   "source": [
    "accuracy_score(y_test_pos, test_pos_no_year_xgb_pred)"
   ]
  },
  {
   "cell_type": "code",
   "execution_count": 854,
   "metadata": {},
   "outputs": [
    {
     "data": {
      "text/plain": [
       "0.016728624535315983"
      ]
     },
     "execution_count": 854,
     "metadata": {},
     "output_type": "execute_result"
    }
   ],
   "source": [
    "0.741635687732342 - 0.724907063197026"
   ]
  },
  {
   "cell_type": "code",
   "execution_count": 855,
   "metadata": {},
   "outputs": [],
   "source": [
    "test_results_no_year_df = test_players.copy().drop(columns = 'Year')\n",
    "test_results_no_year_df['pos_pred'] = test_pos_no_year_xgb_pred\n",
    "test_results_no_year_df['pos_pred'].replace(pos_labels, inplace=True)\n",
    "test_results_no_year_df['correct_pos'] = test_results_no_year_df['pos_pred'] == test_results_no_year_df['Pos']"
   ]
  },
  {
   "cell_type": "code",
   "execution_count": 856,
   "metadata": {},
   "outputs": [
    {
     "data": {
      "text/plain": [
       "G     0.391892\n",
       "C     0.331081\n",
       "F     0.236486\n",
       "GF    0.027027\n",
       "FC    0.013514\n",
       "Name: Pos, dtype: float64"
      ]
     },
     "execution_count": 856,
     "metadata": {},
     "output_type": "execute_result"
    }
   ],
   "source": [
    "test_results_no_year_df.loc[~test_results_no_year_df.correct_pos].Pos.value_counts(normalize=True)"
   ]
  },
  {
   "cell_type": "code",
   "execution_count": 857,
   "metadata": {},
   "outputs": [
    {
     "data": {
      "text/plain": [
       "G    0.471795\n",
       "F    0.407692\n",
       "C    0.120513\n",
       "Name: Pos, dtype: float64"
      ]
     },
     "execution_count": 857,
     "metadata": {},
     "output_type": "execute_result"
    }
   ],
   "source": [
    "test_results_no_year_df.loc[test_results_no_year_df.correct_pos].Pos.value_counts(normalize=True)"
   ]
  },
  {
   "cell_type": "code",
   "execution_count": 858,
   "metadata": {},
   "outputs": [
    {
     "data": {
      "text/plain": [
       "0.51"
      ]
     },
     "execution_count": 858,
     "metadata": {},
     "output_type": "execute_result"
    }
   ],
   "source": [
    "prop_incorrect(test_results_no_year_df, 'C')"
   ]
  },
  {
   "cell_type": "code",
   "execution_count": 859,
   "metadata": {},
   "outputs": [
    {
     "data": {
      "text/plain": [
       "0.18"
      ]
     },
     "execution_count": 859,
     "metadata": {},
     "output_type": "execute_result"
    }
   ],
   "source": [
    "prop_incorrect(test_results_no_year_df, 'F')"
   ]
  },
  {
   "cell_type": "code",
   "execution_count": 860,
   "metadata": {},
   "outputs": [
    {
     "data": {
      "text/plain": [
       "0.24"
      ]
     },
     "execution_count": 860,
     "metadata": {},
     "output_type": "execute_result"
    }
   ],
   "source": [
    "prop_incorrect(test_results_no_year_df, 'G')"
   ]
  },
  {
   "cell_type": "code",
   "execution_count": 865,
   "metadata": {},
   "outputs": [],
   "source": [
    "feature_names = [f\"{X_train_pos_no_year.columns[i]}\" for i in range(X_train_pos_no_year.shape[1])]\n",
    "xgb_pos_no_year_imp = pd.Series(pos_xgb_no_year.feature_importances_, index=feature_names).sort_values(ascending=False)"
   ]
  },
  {
   "cell_type": "code",
   "execution_count": 866,
   "metadata": {},
   "outputs": [],
   "source": [
    "pos_rf_no_year_imp['Year'] = 0"
   ]
  },
  {
   "cell_type": "code",
   "execution_count": 867,
   "metadata": {},
   "outputs": [],
   "source": [
    "xgb_pos_no_year_imp['Year'] = 0"
   ]
  },
  {
   "cell_type": "code",
   "execution_count": 868,
   "metadata": {
    "tags": []
   },
   "outputs": [],
   "source": [
    "feature_importance_summary = pd.concat([pos_rf_no_year_imp.to_frame(name = 'feature_importance').reset_index().assign(model='random forest without year'), \n",
    "          pos_rf_year_imp.to_frame(name = 'feature_importance').reset_index().assign(model='random forest with year'),\n",
    "          xgb_pos_year_imp.to_frame(name = 'feature_importance').reset_index().assign(model='XGBoost with year'),\n",
    "          xgb_pos_no_year_imp.to_frame(name = 'feature_importance').reset_index().assign(model='XGBoost without year')]).pivot(index='model', columns='index')"
   ]
  },
  {
   "cell_type": "code",
   "execution_count": 980,
   "metadata": {},
   "outputs": [],
   "source": [
    "results = [['random forest without year', pos_rf_no_year.score(X_test_pos_no_year, y_test_pos), prop_incorrect(test_results_rf_no_year_df, 'C'), prop_incorrect(test_results_rf_no_year_df, 'F'), prop_incorrect(test_results_rf_no_year_df, 'G')],\n",
    "             ['random forest with year', pos_rf_year.score(X_test_pos, y_test_pos), prop_incorrect(test_results_rf_df, 'C'), prop_incorrect(test_results_rf_df, 'F'), prop_incorrect(test_results_rf_df, 'G')],\n",
    "             ['XGBoost without year', accuracy_score(y_test_pos, test_pos_no_year_xgb_pred), prop_incorrect(test_results_no_year_df, 'C'), prop_incorrect(test_results_no_year_df, 'F'), prop_incorrect(test_results_no_year_df, 'G')],\n",
    "             ['XGBoost with year',accuracy_score(y_test_pos, test_pos_xgb_pred), prop_incorrect(test_results_df, 'C'), prop_incorrect(test_results_df, 'F'), prop_incorrect(test_results_df, 'G')]]\n",
    "results_df = pd.DataFrame(data = results, columns = ['model', 'test accuracy', 'prop wrong for centers', 'prop wrong for forwards', 'prop wrong for guards'])"
   ]
  },
  {
   "cell_type": "markdown",
   "metadata": {},
   "source": [
    "### Comparison\n",
    "Accuracy decreases slightly by about 0.017 when removing year as a parameter. Similar to the Random Forest, year was the 3rd least important feature in the original XGBoost classifier, and the All Star and MVP features weren't important at all. Again, it seems that players' play style and production on the court, expressed in their rebounds, assists, blocks, steals, points, and shooting percentage, are much more indicative of position than anything else."
   ]
  },
  {
   "cell_type": "code",
   "execution_count": 869,
   "metadata": {},
   "outputs": [
    {
     "data": {
      "text/html": [
       "<div>\n",
       "<style scoped>\n",
       "    .dataframe tbody tr th:only-of-type {\n",
       "        vertical-align: middle;\n",
       "    }\n",
       "\n",
       "    .dataframe tbody tr th {\n",
       "        vertical-align: top;\n",
       "    }\n",
       "\n",
       "    .dataframe thead tr th {\n",
       "        text-align: left;\n",
       "    }\n",
       "\n",
       "    .dataframe thead tr:last-of-type th {\n",
       "        text-align: right;\n",
       "    }\n",
       "</style>\n",
       "<table border=\"1\" class=\"dataframe\">\n",
       "  <thead>\n",
       "    <tr>\n",
       "      <th></th>\n",
       "      <th colspan=\"9\" halign=\"left\">feature_importance</th>\n",
       "    </tr>\n",
       "    <tr>\n",
       "      <th>index</th>\n",
       "      <th>APG</th>\n",
       "      <th>All Star</th>\n",
       "      <th>BPG</th>\n",
       "      <th>MVP</th>\n",
       "      <th>PPG</th>\n",
       "      <th>RPG</th>\n",
       "      <th>SPG</th>\n",
       "      <th>TS%</th>\n",
       "      <th>Year</th>\n",
       "    </tr>\n",
       "    <tr>\n",
       "      <th>model</th>\n",
       "      <th></th>\n",
       "      <th></th>\n",
       "      <th></th>\n",
       "      <th></th>\n",
       "      <th></th>\n",
       "      <th></th>\n",
       "      <th></th>\n",
       "      <th></th>\n",
       "      <th></th>\n",
       "    </tr>\n",
       "  </thead>\n",
       "  <tbody>\n",
       "    <tr>\n",
       "      <th>XGBoost with year</th>\n",
       "      <td>0.272613</td>\n",
       "      <td>0.0</td>\n",
       "      <td>0.315920</td>\n",
       "      <td>0.0</td>\n",
       "      <td>0.067944</td>\n",
       "      <td>0.182221</td>\n",
       "      <td>0.124990</td>\n",
       "      <td>0.019275</td>\n",
       "      <td>0.017038</td>\n",
       "    </tr>\n",
       "    <tr>\n",
       "      <th>XGBoost without year</th>\n",
       "      <td>0.262064</td>\n",
       "      <td>0.0</td>\n",
       "      <td>0.288802</td>\n",
       "      <td>0.0</td>\n",
       "      <td>0.066676</td>\n",
       "      <td>0.204111</td>\n",
       "      <td>0.156717</td>\n",
       "      <td>0.021629</td>\n",
       "      <td>0.000000</td>\n",
       "    </tr>\n",
       "    <tr>\n",
       "      <th>random forest with year</th>\n",
       "      <td>0.251740</td>\n",
       "      <td>0.0</td>\n",
       "      <td>0.231935</td>\n",
       "      <td>0.0</td>\n",
       "      <td>0.074044</td>\n",
       "      <td>0.256018</td>\n",
       "      <td>0.118068</td>\n",
       "      <td>0.036067</td>\n",
       "      <td>0.032127</td>\n",
       "    </tr>\n",
       "    <tr>\n",
       "      <th>random forest without year</th>\n",
       "      <td>0.256782</td>\n",
       "      <td>0.0</td>\n",
       "      <td>0.237337</td>\n",
       "      <td>0.0</td>\n",
       "      <td>0.082846</td>\n",
       "      <td>0.259655</td>\n",
       "      <td>0.120203</td>\n",
       "      <td>0.043176</td>\n",
       "      <td>0.000000</td>\n",
       "    </tr>\n",
       "  </tbody>\n",
       "</table>\n",
       "</div>"
      ],
      "text/plain": [
       "                           feature_importance                          \\\n",
       "index                                     APG All Star       BPG  MVP   \n",
       "model                                                                   \n",
       "XGBoost with year                    0.272613      0.0  0.315920  0.0   \n",
       "XGBoost without year                 0.262064      0.0  0.288802  0.0   \n",
       "random forest with year              0.251740      0.0  0.231935  0.0   \n",
       "random forest without year           0.256782      0.0  0.237337  0.0   \n",
       "\n",
       "                                                                              \n",
       "index                            PPG       RPG       SPG       TS%      Year  \n",
       "model                                                                         \n",
       "XGBoost with year           0.067944  0.182221  0.124990  0.019275  0.017038  \n",
       "XGBoost without year        0.066676  0.204111  0.156717  0.021629  0.000000  \n",
       "random forest with year     0.074044  0.256018  0.118068  0.036067  0.032127  \n",
       "random forest without year  0.082846  0.259655  0.120203  0.043176  0.000000  "
      ]
     },
     "execution_count": 869,
     "metadata": {},
     "output_type": "execute_result"
    }
   ],
   "source": [
    "feature_importance_summary"
   ]
  },
  {
   "cell_type": "code",
   "execution_count": 907,
   "metadata": {},
   "outputs": [
    {
     "data": {
      "text/html": [
       "<div>\n",
       "<style scoped>\n",
       "    .dataframe tbody tr th:only-of-type {\n",
       "        vertical-align: middle;\n",
       "    }\n",
       "\n",
       "    .dataframe tbody tr th {\n",
       "        vertical-align: top;\n",
       "    }\n",
       "\n",
       "    .dataframe thead th {\n",
       "        text-align: right;\n",
       "    }\n",
       "</style>\n",
       "<table border=\"1\" class=\"dataframe\">\n",
       "  <thead>\n",
       "    <tr style=\"text-align: right;\">\n",
       "      <th></th>\n",
       "      <th>accuracy</th>\n",
       "      <th>test</th>\n",
       "      <th>prop wrong for centers</th>\n",
       "      <th>prop wrong for forwards</th>\n",
       "      <th>prop wrong for guards</th>\n",
       "    </tr>\n",
       "  </thead>\n",
       "  <tbody>\n",
       "    <tr>\n",
       "      <th>0</th>\n",
       "      <td>random forest without year</td>\n",
       "      <td>0.724907</td>\n",
       "      <td>0.47</td>\n",
       "      <td>0.18</td>\n",
       "      <td>0.26</td>\n",
       "    </tr>\n",
       "    <tr>\n",
       "      <th>1</th>\n",
       "      <td>random forest with year</td>\n",
       "      <td>0.736059</td>\n",
       "      <td>0.46</td>\n",
       "      <td>0.20</td>\n",
       "      <td>0.22</td>\n",
       "    </tr>\n",
       "    <tr>\n",
       "      <th>2</th>\n",
       "      <td>XGBoost without year</td>\n",
       "      <td>0.724907</td>\n",
       "      <td>0.51</td>\n",
       "      <td>0.18</td>\n",
       "      <td>0.24</td>\n",
       "    </tr>\n",
       "    <tr>\n",
       "      <th>3</th>\n",
       "      <td>XGBoost with year</td>\n",
       "      <td>0.741636</td>\n",
       "      <td>0.53</td>\n",
       "      <td>0.14</td>\n",
       "      <td>0.22</td>\n",
       "    </tr>\n",
       "  </tbody>\n",
       "</table>\n",
       "</div>"
      ],
      "text/plain": [
       "                     accuracy      test  prop wrong for centers  \\\n",
       "0  random forest without year  0.724907                    0.47   \n",
       "1     random forest with year  0.736059                    0.46   \n",
       "2        XGBoost without year  0.724907                    0.51   \n",
       "3           XGBoost with year  0.741636                    0.53   \n",
       "\n",
       "   prop wrong for forwards  prop wrong for guards  \n",
       "0                     0.18                   0.26  \n",
       "1                     0.20                   0.22  \n",
       "2                     0.18                   0.24  \n",
       "3                     0.14                   0.22  "
      ]
     },
     "execution_count": 907,
     "metadata": {},
     "output_type": "execute_result"
    }
   ],
   "source": [
    "results_df"
   ]
  },
  {
   "cell_type": "markdown",
   "metadata": {},
   "source": [
    "## First Position Classifiers Summary\n",
    "\n",
    "The XGBoost classifier did yield a slighly higher accuracy (0.742 compared to 0.725) when year was included, but the accuracies were the same for Random Forest and XGBoost when the year feature was dropped. \n",
    "\n",
    "The 2 types of classifiers found different features to be more important. The Random Forest classifiers thought RBG (rebounds per game) were more important than BPG (blocks per game), while the XGBoost classifiers didn't. Both classifiers had similar levels of feature importance for APG (assists per game) and PPG (points per game). \n",
    "\n",
    "\n",
    "Some pitfalls of both classifiers include: \n",
    "- Neither classifier was able to classify the hybrid positions, GF and FC, correctly. This is likely because only about 0.006 of the training data have these hybrid positions. \n",
    "- Both the All Star and MVP features had 0 importance for all 4 models tested. Including irrelevant features could make cost (e.g., runtime) unnecessarily high. \n",
    "- Although XGBoost was used to try and combat the class imbalance (around 2x guards and forwards than centers), XGBoost did *worse* and classifying centers than Random Forest did. \n",
    "\n",
    "\n",
    "In effort to create a better performing classifier, a new position column will be created. Hopefully making this problem only 3 classes instead of 5 will yield a better classifier. Also, MVP and All Star will be removed from the feature list. It seems that the year feature is particularly useful for classifying guards. Lastly, although XGBoost yielded a slightly higher accuracy, it classified centers much worse than the random forest (which was unexpected). Since the XGBoost didn't provide the expected benefits and its training time is much slower, Random Forest will be used going forward. "
   ]
  },
  {
   "cell_type": "markdown",
   "metadata": {},
   "source": [
    "## Train a 2nd Random Forest Classifier for Simplified Positions\n",
    "\n",
    "The updated Random Forest classifier performed just as well as the XGBoost classifier (with year) on the 2018-2019 data. It performed much better on the centers such that a majority of centers were properly classified. This difference in accuracy for centers is offset by the 2nd Random Forest's worse error rate for forwards (20% incorrect vs. 14% incorrect for the XGBoost) and for the guards (only 1% point difference). Personally, this tradeoff is worth it so that the classifier does not perform exceptionally bad for 1 group and still performs relatively well overall. "
   ]
  },
  {
   "cell_type": "code",
   "execution_count": 909,
   "metadata": {},
   "outputs": [],
   "source": [
    "def reset_position_new(df):\n",
    "    \"\"\"\n",
    "    Replace the positions in the given DataFrame so that each position is in the set\n",
    "    {G, F, C}. For hybrid positions (guard and forward or forward and center), only keep\n",
    "    the position listed first (e.g., C-SF (center and small forward) will become C for center).\n",
    "    \"\"\"\n",
    "    df['Pos_new'] = df['Pos_og'].copy()\n",
    "    df['Pos_new'] = df['Pos_new'].replace(['PG-SF', 'SG-SF', 'SG-PF', 'PG', 'SG', 'SG-PG', 'PG-SG'], 'G')\n",
    "    df['Pos_new'] = df['Pos_new'].replace(['C-PF', 'C-SF'], 'C')\n",
    "    df['Pos_new'] = df['Pos_new'].replace(['PF', 'SF', 'SF-PF', 'PF-SF', 'PF-C', 'SF-SG'], 'F')"
   ]
  },
  {
   "cell_type": "code",
   "execution_count": 910,
   "metadata": {},
   "outputs": [],
   "source": [
    "reset_position_new(stats)"
   ]
  },
  {
   "cell_type": "code",
   "execution_count": 911,
   "metadata": {},
   "outputs": [
    {
     "data": {
      "text/plain": [
       "F    0.402018\n",
       "G    0.397633\n",
       "C    0.200349\n",
       "Name: Pos_new, dtype: float64"
      ]
     },
     "execution_count": 911,
     "metadata": {},
     "output_type": "execute_result"
    }
   ],
   "source": [
    "stats.Pos_new.value_counts(normalize=True)"
   ]
  },
  {
   "cell_type": "code",
   "execution_count": 912,
   "metadata": {},
   "outputs": [
    {
     "data": {
      "text/plain": [
       "F     0.399377\n",
       "G     0.396101\n",
       "C     0.198922\n",
       "GF    0.002959\n",
       "FC    0.002642\n",
       "Name: Pos, dtype: float64"
      ]
     },
     "execution_count": 912,
     "metadata": {},
     "output_type": "execute_result"
    }
   ],
   "source": [
    "stats.Pos.value_counts(normalize=True)"
   ]
  },
  {
   "cell_type": "code",
   "execution_count": 913,
   "metadata": {},
   "outputs": [],
   "source": [
    "reset_position_new(test_players)"
   ]
  },
  {
   "cell_type": "code",
   "execution_count": 914,
   "metadata": {},
   "outputs": [
    {
     "data": {
      "text/plain": [
       "G    0.453532\n",
       "F    0.366171\n",
       "C    0.180297\n",
       "Name: Pos_new, dtype: float64"
      ]
     },
     "execution_count": 914,
     "metadata": {},
     "output_type": "execute_result"
    }
   ],
   "source": [
    "test_players.Pos_new.value_counts(normalize=True)"
   ]
  },
  {
   "cell_type": "code",
   "execution_count": 915,
   "metadata": {},
   "outputs": [
    {
     "data": {
      "text/plain": [
       "G     0.449814\n",
       "F     0.360595\n",
       "C     0.178439\n",
       "GF    0.007435\n",
       "FC    0.003717\n",
       "Name: Pos, dtype: float64"
      ]
     },
     "execution_count": 915,
     "metadata": {},
     "output_type": "execute_result"
    }
   ],
   "source": [
    "test_players.Pos.value_counts(normalize=True)"
   ]
  },
  {
   "cell_type": "code",
   "execution_count": 929,
   "metadata": {},
   "outputs": [],
   "source": [
    "X_train_new_pos = stats[['TS%', 'RPG', 'APG', 'PPG', 'BPG', 'SPG', 'Year']]\n",
    "y_train_new_pos = LabelEncoder().fit_transform(stats['Pos_new'].values)\n",
    "X_test_new_pos = test_players[['TS%', 'RPG', 'APG', 'PPG', 'BPG', 'SPG', 'Year']]\n",
    "y_test_new_pos = LabelEncoder().fit_transform(test_players['Pos_new'].values)"
   ]
  },
  {
   "cell_type": "code",
   "execution_count": 924,
   "metadata": {},
   "outputs": [
    {
     "name": "stdout",
     "output_type": "stream",
     "text": [
      "criterion=gini, max_depth=10, max_features=sqrt, n_estimators=700, random_state=18\n"
     ]
    }
   ],
   "source": [
    "print(', '.join([key + '=' + str(val) for key, val in pos_rf_cv.best_params_.items()]))"
   ]
  },
  {
   "cell_type": "code",
   "execution_count": 930,
   "metadata": {},
   "outputs": [],
   "source": [
    "pos_rf_clf2 = RandomForestClassifier(criterion='gini', max_depth=10, max_features='sqrt', n_estimators=700, random_state=18)"
   ]
  },
  {
   "cell_type": "code",
   "execution_count": 931,
   "metadata": {},
   "outputs": [
    {
     "data": {
      "text/plain": [
       "RandomForestClassifier(max_depth=10, max_features='sqrt', n_estimators=700,\n",
       "                       random_state=18)"
      ]
     },
     "execution_count": 931,
     "metadata": {},
     "output_type": "execute_result"
    }
   ],
   "source": [
    "pos_rf_clf2.fit(X_train_new_pos, y_train_new_pos)"
   ]
  },
  {
   "cell_type": "code",
   "execution_count": 988,
   "metadata": {},
   "outputs": [],
   "source": [
    "feature_names = [f\"{X_train_new_pos.columns[i]}\" for i in range(X_train_new_pos.shape[1])]\n",
    "rf2_pos_imp = pd.Series(pos_rf_clf2.feature_importances_, index=feature_names).sort_values(ascending=False)"
   ]
  },
  {
   "cell_type": "code",
   "execution_count": 991,
   "metadata": {},
   "outputs": [
    {
     "name": "stdout",
     "output_type": "stream",
     "text": [
      "|      |         0 |\n",
      "|:-----|----------:|\n",
      "| RPG  | 0.253727  |\n",
      "| APG  | 0.251458  |\n",
      "| BPG  | 0.232891  |\n",
      "| SPG  | 0.116283  |\n",
      "| PPG  | 0.0769225 |\n",
      "| TS%  | 0.0373015 |\n",
      "| Year | 0.0314163 |\n"
     ]
    }
   ],
   "source": [
    "print(rf2_pos_imp.to_markdown())"
   ]
  },
  {
   "cell_type": "code",
   "execution_count": 932,
   "metadata": {},
   "outputs": [
    {
     "data": {
      "text/plain": [
       "0.741635687732342"
      ]
     },
     "execution_count": 932,
     "metadata": {},
     "output_type": "execute_result"
    }
   ],
   "source": [
    "pos_rf_clf2.score(X_test_new_pos, y_test_new_pos)"
   ]
  },
  {
   "cell_type": "code",
   "execution_count": 934,
   "metadata": {},
   "outputs": [
    {
     "data": {
      "text/plain": [
       "2    244\n",
       "1    197\n",
       "0     97\n",
       "dtype: int64"
      ]
     },
     "execution_count": 934,
     "metadata": {},
     "output_type": "execute_result"
    }
   ],
   "source": [
    "pd.Series(y_test_new_pos).value_counts()"
   ]
  },
  {
   "cell_type": "code",
   "execution_count": 937,
   "metadata": {},
   "outputs": [
    {
     "data": {
      "text/plain": [
       "G    244\n",
       "F    197\n",
       "C     97\n",
       "Name: Pos_new, dtype: int64"
      ]
     },
     "execution_count": 937,
     "metadata": {},
     "output_type": "execute_result"
    }
   ],
   "source": [
    "test_players['Pos_new'].value_counts()"
   ]
  },
  {
   "cell_type": "code",
   "execution_count": 938,
   "metadata": {},
   "outputs": [],
   "source": [
    "pos_labels2 = {0:'C', 1:'F', 2:'G'}"
   ]
  },
  {
   "cell_type": "code",
   "execution_count": 939,
   "metadata": {},
   "outputs": [],
   "source": [
    "test_results_df2 = test_players.copy()\n",
    "test_results_df2['pos_pred'] = pos_rf_clf2.predict(X_test_new_pos)\n",
    "test_results_df2['pos_pred'].replace(pos_labels2, inplace=True)\n",
    "test_results_df2['correct_pos'] = test_results_df2['pos_pred'] == test_results_df2['Pos']"
   ]
  },
  {
   "cell_type": "code",
   "execution_count": 942,
   "metadata": {},
   "outputs": [
    {
     "data": {
      "text/plain": [
       "0.23"
      ]
     },
     "execution_count": 942,
     "metadata": {},
     "output_type": "execute_result"
    }
   ],
   "source": [
    "prop_incorrect(test_results_df2, 'G')"
   ]
  },
  {
   "cell_type": "code",
   "execution_count": 943,
   "metadata": {},
   "outputs": [
    {
     "data": {
      "text/plain": [
       "0.2"
      ]
     },
     "execution_count": 943,
     "metadata": {},
     "output_type": "execute_result"
    }
   ],
   "source": [
    "prop_incorrect(test_results_df2, 'F')"
   ]
  },
  {
   "cell_type": "code",
   "execution_count": null,
   "metadata": {},
   "outputs": [],
   "source": []
  },
  {
   "cell_type": "code",
   "execution_count": 981,
   "metadata": {},
   "outputs": [],
   "source": [
    "rf2_row = pd.Series(['random forest without MVP, All Star',pos_rf_clf2.score(X_test_new_pos, y_test_new_pos), prop_incorrect(test_results_df2, 'C'), prop_incorrect(test_results_df2, 'F'), prop_incorrect(test_results_df2, 'G')])\n",
    "rf2_row.index = results_df.columns"
   ]
  },
  {
   "cell_type": "code",
   "execution_count": 982,
   "metadata": {},
   "outputs": [
    {
     "data": {
      "text/html": [
       "<div>\n",
       "<style scoped>\n",
       "    .dataframe tbody tr th:only-of-type {\n",
       "        vertical-align: middle;\n",
       "    }\n",
       "\n",
       "    .dataframe tbody tr th {\n",
       "        vertical-align: top;\n",
       "    }\n",
       "\n",
       "    .dataframe thead th {\n",
       "        text-align: right;\n",
       "    }\n",
       "</style>\n",
       "<table border=\"1\" class=\"dataframe\">\n",
       "  <thead>\n",
       "    <tr style=\"text-align: right;\">\n",
       "      <th></th>\n",
       "      <th>model</th>\n",
       "      <th>test accuracy</th>\n",
       "      <th>prop wrong for centers</th>\n",
       "      <th>prop wrong for forwards</th>\n",
       "      <th>prop wrong for guards</th>\n",
       "    </tr>\n",
       "  </thead>\n",
       "  <tbody>\n",
       "    <tr>\n",
       "      <th>0</th>\n",
       "      <td>random forest without year</td>\n",
       "      <td>0.724907</td>\n",
       "      <td>0.47</td>\n",
       "      <td>0.18</td>\n",
       "      <td>0.26</td>\n",
       "    </tr>\n",
       "    <tr>\n",
       "      <th>1</th>\n",
       "      <td>random forest with year</td>\n",
       "      <td>0.736059</td>\n",
       "      <td>0.46</td>\n",
       "      <td>0.20</td>\n",
       "      <td>0.22</td>\n",
       "    </tr>\n",
       "    <tr>\n",
       "      <th>2</th>\n",
       "      <td>XGBoost without year</td>\n",
       "      <td>0.724907</td>\n",
       "      <td>0.51</td>\n",
       "      <td>0.18</td>\n",
       "      <td>0.24</td>\n",
       "    </tr>\n",
       "    <tr>\n",
       "      <th>3</th>\n",
       "      <td>XGBoost with year</td>\n",
       "      <td>0.741636</td>\n",
       "      <td>0.53</td>\n",
       "      <td>0.14</td>\n",
       "      <td>0.22</td>\n",
       "    </tr>\n",
       "    <tr>\n",
       "      <th>4</th>\n",
       "      <td>random forest without MVP, All Star</td>\n",
       "      <td>0.741636</td>\n",
       "      <td>0.43</td>\n",
       "      <td>0.20</td>\n",
       "      <td>0.23</td>\n",
       "    </tr>\n",
       "  </tbody>\n",
       "</table>\n",
       "</div>"
      ],
      "text/plain": [
       "                                 model  test accuracy  prop wrong for centers  \\\n",
       "0           random forest without year       0.724907                    0.47   \n",
       "1              random forest with year       0.736059                    0.46   \n",
       "2                 XGBoost without year       0.724907                    0.51   \n",
       "3                    XGBoost with year       0.741636                    0.53   \n",
       "4  random forest without MVP, All Star       0.741636                    0.43   \n",
       "\n",
       "   prop wrong for forwards  prop wrong for guards  \n",
       "0                     0.18                   0.26  \n",
       "1                     0.20                   0.22  \n",
       "2                     0.18                   0.24  \n",
       "3                     0.14                   0.22  \n",
       "4                     0.20                   0.23  "
      ]
     },
     "execution_count": 982,
     "metadata": {},
     "output_type": "execute_result"
    }
   ],
   "source": [
    "results_df.append(rf2_row, ignore_index = True)"
   ]
  },
  {
   "cell_type": "markdown",
   "metadata": {},
   "source": [
    "### Test on 2020-21 Players\n",
    "\n",
    "The 2nd Random Forest classifier (include year, drop All Star and MVP, performed **much** better than the original Random Forest and XGBoost classifiers. This may be because the 2020-21 data only had the 3 main positions, G, C and F, while the first 2 classifiers tried predicting 5 classes (albeit unsuccessfuly for the 2 minority classes). "
   ]
  },
  {
   "cell_type": "code",
   "execution_count": 955,
   "metadata": {},
   "outputs": [],
   "source": [
    "reset_position_new(test_2021)"
   ]
  },
  {
   "cell_type": "code",
   "execution_count": 958,
   "metadata": {},
   "outputs": [],
   "source": [
    "test_2021['Year'] = 2021"
   ]
  },
  {
   "cell_type": "code",
   "execution_count": 959,
   "metadata": {},
   "outputs": [],
   "source": [
    "X_test_new_pos_2021 = test_2021[['TS%', 'RPG', 'APG', 'PPG', 'BPG', 'SPG', 'Year']]\n",
    "y_test_new_pos_2021 = LabelEncoder().fit_transform(test_2021['Pos_new'].values)"
   ]
  },
  {
   "cell_type": "code",
   "execution_count": 984,
   "metadata": {},
   "outputs": [
    {
     "data": {
      "text/plain": [
       "0.7213438735177866"
      ]
     },
     "execution_count": 984,
     "metadata": {},
     "output_type": "execute_result"
    }
   ],
   "source": [
    "pos_rf_clf2.score(X_test_new_pos_2021, y_test_new_pos_2021)"
   ]
  },
  {
   "cell_type": "code",
   "execution_count": 976,
   "metadata": {},
   "outputs": [],
   "source": [
    "X_test_pos_2021 = test_2021[['Year','TS%', 'RPG', 'APG', 'PPG', 'BPG', 'SPG', 'All Star', 'MVP']]\n",
    "y_test_pos_2021 = LabelEncoder().fit_transform(test_2021['Pos'].values)"
   ]
  },
  {
   "cell_type": "code",
   "execution_count": 977,
   "metadata": {},
   "outputs": [
    {
     "data": {
      "text/plain": [
       "0.39723320158102765"
      ]
     },
     "execution_count": 977,
     "metadata": {},
     "output_type": "execute_result"
    }
   ],
   "source": [
    "pos_rf_year.score(X_test_pos_2021, y_test_pos_2021)"
   ]
  },
  {
   "cell_type": "code",
   "execution_count": 983,
   "metadata": {},
   "outputs": [
    {
     "data": {
      "text/plain": [
       "0.39723320158102765"
      ]
     },
     "execution_count": 983,
     "metadata": {},
     "output_type": "execute_result"
    }
   ],
   "source": [
    "test_pos_xgb_pred_2021 = pos_xgb_year.predict(X_test_pos_2021)\n",
    "accuracy_score(y_test_pos_2021, test_pos_xgb_pred_2021)"
   ]
  },
  {
   "cell_type": "code",
   "execution_count": 1441,
   "metadata": {},
   "outputs": [],
   "source": [
    "reset_position_new(test_2022)"
   ]
  },
  {
   "cell_type": "code",
   "execution_count": 1442,
   "metadata": {},
   "outputs": [],
   "source": [
    "X_test_new_pos_2022 = test_2022[['TS%', 'RPG', 'APG', 'PPG', 'BPG', 'SPG', 'Year']]\n",
    "y_test_new_pos_2022 = LabelEncoder().fit_transform(test_2022['Pos_new'].values)"
   ]
  },
  {
   "cell_type": "code",
   "execution_count": 1443,
   "metadata": {},
   "outputs": [
    {
     "data": {
      "text/plain": [
       "0.6958677685950413"
      ]
     },
     "execution_count": 1443,
     "metadata": {},
     "output_type": "execute_result"
    }
   ],
   "source": [
    "pos_rf_clf2.score(X_test_new_pos_2022, y_test_new_pos_2022)"
   ]
  },
  {
   "cell_type": "markdown",
   "metadata": {},
   "source": [
    "## Best Positions Classifier<a class=\"anchor\" id=\"positionsbest\"></a>\n",
    "\n",
    "The best classifier for predicting player position ended up being a Random Forest classifier using the following features:\n",
    "\n",
    "|   Feature   |          Importance |\n",
    "|:-----|----------:|\n",
    "| RPG  | 0.254  |\n",
    "| APG  | 0.251  |\n",
    "| BPG  | 0.233  |\n",
    "| SPG  | 0.116  |\n",
    "| PPG  | 0.077 |\n",
    "| TS%  | 0.037 |\n",
    "| Year | 0.031 |"
   ]
  },
  {
   "cell_type": "markdown",
   "metadata": {},
   "source": [
    "# All Star Classifier<a class=\"anchor\" id=\"allstars\"></a>"
   ]
  },
  {
   "cell_type": "markdown",
   "metadata": {},
   "source": [
    "## Train K-Nearest Neigbors Classifier on 1950-2017 Data"
   ]
  },
  {
   "cell_type": "code",
   "execution_count": 1658,
   "metadata": {},
   "outputs": [
    {
     "data": {
      "text/plain": [
       "Index(['Year', 'Player', 'Pos', 'TS%', 'RPG', 'APG', 'PPG', 'BPG', 'SPG',\n",
       "       'Pos_og', 'All Star', 'MVP'],\n",
       "      dtype='object')"
      ]
     },
     "execution_count": 1658,
     "metadata": {},
     "output_type": "execute_result"
    }
   ],
   "source": [
    "stats.columns"
   ]
  },
  {
   "cell_type": "code",
   "execution_count": 1659,
   "metadata": {},
   "outputs": [],
   "source": [
    "X_train_as = stats[['Year', 'Pos', 'TS%', 'RPG', 'APG', 'PPG', 'BPG', 'SPG']]\n",
    "y_train_as = stats['All Star'].astype(int)"
   ]
  },
  {
   "cell_type": "code",
   "execution_count": 1660,
   "metadata": {},
   "outputs": [
    {
     "data": {
      "text/plain": [
       "Index(['Year', 'Pos', 'TS%', 'RPG', 'APG', 'PPG', 'BPG', 'SPG'], dtype='object')"
      ]
     },
     "execution_count": 1660,
     "metadata": {},
     "output_type": "execute_result"
    }
   ],
   "source": [
    "X_train_as.columns"
   ]
  },
  {
   "cell_type": "code",
   "execution_count": 1300,
   "metadata": {},
   "outputs": [],
   "source": [
    "scalar = MinMaxScaler()\n",
    "knn = KNeighborsClassifier()\n",
    "\n",
    "num_feat = ['Year','TS%', 'RPG', 'APG', 'PPG', 'BPG', 'SPG']\n",
    "pl1 = Pipeline([\n",
    "    ('min_max', scalar)\n",
    "])\n",
    "\n",
    "pl2 = Pipeline([\n",
    "    ('pos', OneHotEncoder())\n",
    "])\n",
    "# preprocessing pipeline (put them together)\n",
    "preproc = ColumnTransformer(\n",
    "    transformers=[\n",
    "        ('scaling', pl1, num_feat),\n",
    "        ('step_name', pl2, ['Pos'])\n",
    "    ])\n",
    "\n",
    "\n",
    "pipeline = Pipeline([('preprocessor', preproc), ('clf', knn)])\n",
    "\n",
    "knn_grid_params = {'clf__n_neighbors' : [25,50,75],\n",
    "                   'clf__weights' : ['uniform','distance'],\n",
    "                   'clf__metric' : ['minkowski','euclidean','manhattan']}\n",
    "\n",
    "knn_gs = GridSearchCV(pipeline, knn_grid_params, verbose = 1, cv=3, n_jobs = -1, scoring = 'recall')"
   ]
  },
  {
   "cell_type": "code",
   "execution_count": 1301,
   "metadata": {},
   "outputs": [
    {
     "name": "stdout",
     "output_type": "stream",
     "text": [
      "Fitting 3 folds for each of 18 candidates, totalling 54 fits\n"
     ]
    },
    {
     "data": {
      "text/plain": [
       "GridSearchCV(cv=3,\n",
       "             estimator=Pipeline(steps=[('preprocessor',\n",
       "                                        ColumnTransformer(transformers=[('scaling',\n",
       "                                                                         Pipeline(steps=[('min_max',\n",
       "                                                                                          MinMaxScaler())]),\n",
       "                                                                         ['Year',\n",
       "                                                                          'TS%',\n",
       "                                                                          'RPG',\n",
       "                                                                          'APG',\n",
       "                                                                          'PPG',\n",
       "                                                                          'BPG',\n",
       "                                                                          'SPG']),\n",
       "                                                                        ('step_name',\n",
       "                                                                         Pipeline(steps=[('pos',\n",
       "                                                                                          OneHotEncoder())]),\n",
       "                                                                         ['Pos'])])),\n",
       "                                       ('clf', KNeighborsClassifier())]),\n",
       "             n_jobs=-1,\n",
       "             param_grid={'clf__metric': ['minkowski', 'euclidean', 'manhattan'],\n",
       "                         'clf__n_neighbors': [25, 50, 75],\n",
       "                         'clf__weights': ['uniform', 'distance']},\n",
       "             scoring='recall', verbose=1)"
      ]
     },
     "execution_count": 1301,
     "metadata": {},
     "output_type": "execute_result"
    }
   ],
   "source": [
    "knn_gs.fit(X_train_as, y_train_as)"
   ]
  },
  {
   "cell_type": "code",
   "execution_count": 1302,
   "metadata": {},
   "outputs": [
    {
     "data": {
      "text/plain": [
       "{'clf__metric': 'minkowski',\n",
       " 'clf__n_neighbors': 25,\n",
       " 'clf__weights': 'distance'}"
      ]
     },
     "execution_count": 1302,
     "metadata": {},
     "output_type": "execute_result"
    }
   ],
   "source": [
    "knn_gs.best_params_"
   ]
  },
  {
   "cell_type": "code",
   "execution_count": 1303,
   "metadata": {},
   "outputs": [
    {
     "data": {
      "text/plain": [
       "0.4030975822115062"
      ]
     },
     "execution_count": 1303,
     "metadata": {},
     "output_type": "execute_result"
    }
   ],
   "source": [
    "knn_gs.best_score_"
   ]
  },
  {
   "cell_type": "code",
   "execution_count": 1304,
   "metadata": {
    "tags": []
   },
   "outputs": [
    {
     "data": {
      "text/plain": [
       "Index(['Year', 'Pos', 'TS%', 'RPG', 'APG', 'PPG', 'BPG', 'SPG'], dtype='object')"
      ]
     },
     "execution_count": 1304,
     "metadata": {},
     "output_type": "execute_result"
    }
   ],
   "source": [
    "X_train_as.columns"
   ]
  },
  {
   "cell_type": "markdown",
   "metadata": {},
   "source": [
    "## Test on 2018-2019 Data"
   ]
  },
  {
   "cell_type": "code",
   "execution_count": 1696,
   "metadata": {},
   "outputs": [],
   "source": [
    "X_test_as = test_players[X_train_as.columns]\n",
    "y_test_as = test_players['All Star'].astype(int)"
   ]
  },
  {
   "cell_type": "code",
   "execution_count": 1697,
   "metadata": {},
   "outputs": [],
   "source": [
    "test_as_pred = knn_gs.predict(X_test_as)"
   ]
  },
  {
   "cell_type": "code",
   "execution_count": 1698,
   "metadata": {},
   "outputs": [
    {
     "data": {
      "text/plain": [
       "0.5769230769230769"
      ]
     },
     "execution_count": 1698,
     "metadata": {},
     "output_type": "execute_result"
    }
   ],
   "source": [
    "metrics.recall_score(y_test_as, test_as_pred)"
   ]
  },
  {
   "cell_type": "code",
   "execution_count": 1699,
   "metadata": {},
   "outputs": [],
   "source": [
    "knn_as_results = X_test_as.copy()\n",
    "knn_as_results['prediction'] = test_as_pred\n",
    "knn_as_results['All Star'] = y_test_as"
   ]
  },
  {
   "cell_type": "code",
   "execution_count": 1700,
   "metadata": {},
   "outputs": [],
   "source": [
    "num_all_stars_2019 = test_players.loc[test_players['All Star']].shape[0]"
   ]
  },
  {
   "cell_type": "markdown",
   "metadata": {},
   "source": [
    "### Correctly Predicted All Stars "
   ]
  },
  {
   "cell_type": "code",
   "execution_count": 1701,
   "metadata": {},
   "outputs": [
    {
     "data": {
      "text/plain": [
       "25      Giannis Antetokounmpo\n",
       "71               Bradley Beal\n",
       "273             Stephen Curry\n",
       "275             Anthony Davis\n",
       "323              Kevin Durant\n",
       "344               Joel Embiid\n",
       "429               Paul George\n",
       "456             Blake Griffin\n",
       "468              James Harden\n",
       "558              Kyrie Irving\n",
       "575              LeBron James\n",
       "697             Kawhi Leonard\n",
       "701            Damian Lillard\n",
       "1194             Kemba Walker\n",
       "1203        Russell Westbrook\n",
       "Name: Player, dtype: object"
      ]
     },
     "execution_count": 1701,
     "metadata": {},
     "output_type": "execute_result"
    }
   ],
   "source": [
    "correct_as_2019 = test_players.loc[knn_as_results.loc[(knn_as_results.prediction==1) & (knn_as_results['All Star'])].index].Player\n",
    "correct_as_2019"
   ]
  },
  {
   "cell_type": "markdown",
   "metadata": {},
   "source": [
    "### All Stars that Were Predicted Non-All Stars "
   ]
  },
  {
   "cell_type": "code",
   "execution_count": 1702,
   "metadata": {},
   "outputs": [],
   "source": [
    "as_pred_not_2019 = test_players.loc[knn_as_results.loc[(knn_as_results.prediction==0) & (knn_as_results['All Star'])].index].Player"
   ]
  },
  {
   "cell_type": "code",
   "execution_count": 1703,
   "metadata": {},
   "outputs": [
    {
     "data": {
      "text/plain": [
       "7        LaMarcus Aldridge\n",
       "626           Nikola Jokić\n",
       "717             Kyle Lowry\n",
       "805        Khris Middleton\n",
       "900          Dirk Nowitzki\n",
       "919         Victor Oladipo\n",
       "1067           Ben Simmons\n",
       "1166         Klay Thompson\n",
       "1170    Karl-Anthony Towns\n",
       "1190        Nikola Vučević\n",
       "1191           Dwyane Wade\n",
       "Name: Player, dtype: object"
      ]
     },
     "execution_count": 1703,
     "metadata": {},
     "output_type": "execute_result"
    }
   ],
   "source": [
    "as_pred_not_2019"
   ]
  },
  {
   "cell_type": "code",
   "execution_count": 1704,
   "metadata": {},
   "outputs": [
    {
     "data": {
      "text/plain": [
       "0.4230769230769231"
      ]
     },
     "execution_count": 1704,
     "metadata": {},
     "output_type": "execute_result"
    }
   ],
   "source": [
    "as_pred_not_2019.shape[0] / num_all_stars_2019"
   ]
  },
  {
   "cell_type": "markdown",
   "metadata": {},
   "source": [
    "### Players That Were Predicted to be All Stars But Weren't"
   ]
  },
  {
   "cell_type": "code",
   "execution_count": 1705,
   "metadata": {},
   "outputs": [
    {
     "data": {
      "text/plain": [
       "92       Devin Booker\n",
       "987     Julius Randle\n",
       "1196        John Wall\n",
       "Name: Player, dtype: object"
      ]
     },
     "execution_count": 1705,
     "metadata": {},
     "output_type": "execute_result"
    }
   ],
   "source": [
    "not_as_pred_as_2019 = test_players.loc[knn_as_results.loc[(knn_as_results.prediction==1) & ~(knn_as_results['All Star'])].index].Player\n",
    "not_as_pred_as_2019"
   ]
  },
  {
   "cell_type": "code",
   "execution_count": 1706,
   "metadata": {},
   "outputs": [
    {
     "data": {
      "text/plain": [
       "0.11538461538461539"
      ]
     },
     "execution_count": 1706,
     "metadata": {},
     "output_type": "execute_result"
    }
   ],
   "source": [
    "not_as_pred_as_2019.shape[0] / num_all_stars_2019"
   ]
  },
  {
   "cell_type": "markdown",
   "metadata": {},
   "source": [
    "## Test on 2020-2021"
   ]
  },
  {
   "cell_type": "code",
   "execution_count": 1313,
   "metadata": {},
   "outputs": [],
   "source": [
    "X_test_as_2021 = test_2021[X_train_as.columns]\n",
    "y_test_as_2021 = test_2021['All Star'].astype(int)"
   ]
  },
  {
   "cell_type": "code",
   "execution_count": 1314,
   "metadata": {},
   "outputs": [],
   "source": [
    "knn_as_results_2021 = X_test_as_2021.copy()\n",
    "knn_as_results_2021['prediction'] = knn_gs.predict(X_test_as_2021)\n",
    "knn_as_results_2021['All Star'] = y_test_as_2021"
   ]
  },
  {
   "cell_type": "code",
   "execution_count": 1329,
   "metadata": {},
   "outputs": [
    {
     "data": {
      "text/plain": [
       "0.7586206896551724"
      ]
     },
     "execution_count": 1329,
     "metadata": {},
     "output_type": "execute_result"
    }
   ],
   "source": [
    "metrics.recall_score(y_test_as_2021, knn_as_results_2021['prediction'])"
   ]
  },
  {
   "cell_type": "code",
   "execution_count": 1456,
   "metadata": {},
   "outputs": [],
   "source": [
    "num_all_stars_2021 = test_2021.loc[test_2021['All Star']].shape[0]"
   ]
  },
  {
   "cell_type": "markdown",
   "metadata": {},
   "source": [
    "### Correctly Predicted All Stars "
   ]
  },
  {
   "cell_type": "code",
   "execution_count": 1479,
   "metadata": {
    "tags": []
   },
   "outputs": [
    {
     "data": {
      "text/plain": [
       "13     Giannis Antetokounmpo\n",
       "38              Bradley Beal\n",
       "110            Stephen Curry\n",
       "111            Anthony Davis\n",
       "119              Luka Dončić\n",
       "128             Kevin Durant\n",
       "133              Joel Embiid\n",
       "158              Paul George\n",
       "183             James Harden\n",
       "184             James Harden\n",
       "185             James Harden\n",
       "224             Kyrie Irving\n",
       "231             LeBron James\n",
       "240             Nikola Jokić\n",
       "263              Zach LaVine\n",
       "271            Kawhi Leonard\n",
       "275           Damian Lillard\n",
       "323         Donovan Mitchell\n",
       "397            Julius Randle\n",
       "419         Domantas Sabonis\n",
       "448             Jayson Tatum\n",
       "496          Zion Williamson\n",
       "Name: Player, dtype: object"
      ]
     },
     "execution_count": 1479,
     "metadata": {},
     "output_type": "execute_result"
    }
   ],
   "source": [
    "correct_as_2021 = test_2021.loc[knn_as_results_2021.loc[(knn_as_results_2021.prediction==1) & (knn_as_results_2021['All Star'])].index].Player\n",
    "correct_as_2021"
   ]
  },
  {
   "cell_type": "markdown",
   "metadata": {},
   "source": [
    "### All Stars That Were Predicted Non-All Stars"
   ]
  },
  {
   "cell_type": "code",
   "execution_count": 1480,
   "metadata": {},
   "outputs": [
    {
     "data": {
      "text/plain": [
       "58       Devin Booker\n",
       "70       Jaylen Brown\n",
       "100       Mike Conley\n",
       "163       Rudy Gobert\n",
       "371        Chris Paul\n",
       "431       Ben Simmons\n",
       "472    Nikola Vučević\n",
       "Name: Player, dtype: object"
      ]
     },
     "execution_count": 1480,
     "metadata": {},
     "output_type": "execute_result"
    }
   ],
   "source": [
    "as_pred_not_2021 = test_2021.loc[knn_as_results_2021.loc[(knn_as_results_2021.prediction==0) & (knn_as_results_2021['All Star'])].index].Player\n",
    "as_pred_not_2021"
   ]
  },
  {
   "cell_type": "code",
   "execution_count": 1481,
   "metadata": {},
   "outputs": [
    {
     "data": {
      "text/plain": [
       "0.2413793103448276"
      ]
     },
     "execution_count": 1481,
     "metadata": {},
     "output_type": "execute_result"
    }
   ],
   "source": [
    "as_pred_not_2021.shape[0] / num_all_stars_2021"
   ]
  },
  {
   "cell_type": "markdown",
   "metadata": {},
   "source": [
    "### Players That Were Predicted to be All Stars But Weren't"
   ]
  },
  {
   "cell_type": "code",
   "execution_count": 1508,
   "metadata": {},
   "outputs": [
    {
     "data": {
      "text/plain": [
       "79           Jimmy Butler\n",
       "223        Brandon Ingram\n",
       "303           CJ McCollum\n",
       "461    Karl-Anthony Towns\n",
       "506            Trae Young\n",
       "Name: Player, dtype: object"
      ]
     },
     "execution_count": 1508,
     "metadata": {},
     "output_type": "execute_result"
    }
   ],
   "source": [
    "not_as_pred_as_2021 = test_2021.loc[knn_as_results_2021.loc[(knn_as_results_2021.prediction==1) & ~(knn_as_results_2021['All Star'])].index].Player\n",
    "not_as_pred_as_2021"
   ]
  },
  {
   "cell_type": "code",
   "execution_count": 1509,
   "metadata": {},
   "outputs": [
    {
     "data": {
      "text/plain": [
       "0.1724137931034483"
      ]
     },
     "execution_count": 1509,
     "metadata": {},
     "output_type": "execute_result"
    }
   ],
   "source": [
    "not_as_pred_as_2021.shape[0] / num_all_stars_2021"
   ]
  },
  {
   "cell_type": "markdown",
   "metadata": {},
   "source": [
    "## Test on 2021-2022"
   ]
  },
  {
   "cell_type": "code",
   "execution_count": 1707,
   "metadata": {},
   "outputs": [],
   "source": [
    "X_test_as_2022 = test_2022[X_train_as.columns]\n",
    "y_test_as_2022 = test_2022['All Star'].astype(int)\n",
    "knn_as_results_2022 = X_test_as_2022.copy()\n",
    "knn_as_results_2022['prediction'] = knn_gs.predict(X_test_as_2022)\n",
    "knn_as_results_2022['All Star'] = y_test_as_2022"
   ]
  },
  {
   "cell_type": "code",
   "execution_count": 1708,
   "metadata": {},
   "outputs": [
    {
     "data": {
      "text/plain": [
       "0.5185185185185185"
      ]
     },
     "execution_count": 1708,
     "metadata": {},
     "output_type": "execute_result"
    }
   ],
   "source": [
    "metrics.recall_score(y_test_as_2022, knn_as_results_2022['prediction'])"
   ]
  },
  {
   "cell_type": "code",
   "execution_count": 1709,
   "metadata": {},
   "outputs": [],
   "source": [
    "num_all_stars_2022 = test_2022.loc[test_2022['All Star']].shape[0]"
   ]
  },
  {
   "cell_type": "markdown",
   "metadata": {},
   "source": [
    "### Correctly Predicted All Stars"
   ]
  },
  {
   "cell_type": "code",
   "execution_count": 1467,
   "metadata": {},
   "outputs": [
    {
     "data": {
      "text/plain": [
       "11     Giannis Antetokounmpo\n",
       "58              Devin Booker\n",
       "86              Jimmy Butler\n",
       "125            Stephen Curry\n",
       "133            DeMar DeRozan\n",
       "140              Luka Dončić\n",
       "153             Kevin Durant\n",
       "161              Joel Embiid\n",
       "216             James Harden\n",
       "272             LeBron James\n",
       "288             Nikola Jokić\n",
       "389                Ja Morant\n",
       "525             Jayson Tatum\n",
       "601               Trae Young\n",
       "Name: Player, dtype: object"
      ]
     },
     "execution_count": 1467,
     "metadata": {},
     "output_type": "execute_result"
    }
   ],
   "source": [
    "correct_as_2022 = test_2022.loc[knn_as_results_2022.loc[(knn_as_results_2022.prediction==1) & (knn_as_results_2022['All Star'])].index].Player\n",
    "correct_as_2022"
   ]
  },
  {
   "cell_type": "code",
   "execution_count": 1468,
   "metadata": {},
   "outputs": [
    {
     "data": {
      "text/plain": [
       "0.5185185185185185"
      ]
     },
     "execution_count": 1468,
     "metadata": {},
     "output_type": "execute_result"
    }
   ],
   "source": [
    "correct_as_2022.shape[0] / num_all_stars_2022"
   ]
  },
  {
   "cell_type": "markdown",
   "metadata": {},
   "source": [
    "### All Stars That Were Predicted Non-All Stars"
   ]
  },
  {
   "cell_type": "code",
   "execution_count": 1469,
   "metadata": {},
   "outputs": [
    {
     "data": {
      "text/plain": [
       "7           Jarrett Allen\n",
       "24            LaMelo Ball\n",
       "182        Darius Garland\n",
       "193           Rudy Gobert\n",
       "202        Draymond Green\n",
       "323           Zach LaVine\n",
       "376       Khris Middleton\n",
       "382      Donovan Mitchell\n",
       "399       Dejounte Murray\n",
       "437            Chris Paul\n",
       "545    Karl-Anthony Towns\n",
       "553         Fred VanVleet\n",
       "581        Andrew Wiggins\n",
       "Name: Player, dtype: object"
      ]
     },
     "execution_count": 1469,
     "metadata": {},
     "output_type": "execute_result"
    }
   ],
   "source": [
    "as_pred_not_2022 = test_2022.loc[knn_as_results_2022.loc[(knn_as_results_2022.prediction==0) & (knn_as_results_2022['All Star'])].index].Player\n",
    "as_pred_not_2022"
   ]
  },
  {
   "cell_type": "code",
   "execution_count": 1470,
   "metadata": {},
   "outputs": [
    {
     "data": {
      "text/plain": [
       "0.48148148148148145"
      ]
     },
     "execution_count": 1470,
     "metadata": {},
     "output_type": "execute_result"
    }
   ],
   "source": [
    "as_pred_not_2022.shape[0] / num_all_stars_2022"
   ]
  },
  {
   "cell_type": "markdown",
   "metadata": {},
   "source": [
    "### Players That Were Predicted to be All Stars But Weren't"
   ]
  },
  {
   "cell_type": "code",
   "execution_count": 1471,
   "metadata": {},
   "outputs": [
    {
     "data": {
      "text/plain": [
       "126              Anthony Davis\n",
       "187                Paul George\n",
       "190    Shai Gilgeous-Alexander\n",
       "264               Kyrie Irving\n",
       "Name: Player, dtype: object"
      ]
     },
     "execution_count": 1471,
     "metadata": {},
     "output_type": "execute_result"
    }
   ],
   "source": [
    "not_as_pred_as_2022 = test_2022.loc[knn_as_results_2022.loc[(knn_as_results_2022.prediction==1) & ~(knn_as_results_2022['All Star'])].index].Player\n",
    "not_as_pred_as_2022"
   ]
  },
  {
   "cell_type": "markdown",
   "metadata": {},
   "source": [
    "## All Stars Classifier Summary<a class=\"anchor\" id=\"allstarsummary\"></a>"
   ]
  },
  {
   "cell_type": "code",
   "execution_count": 1710,
   "metadata": {},
   "outputs": [],
   "source": [
    "as_2022 = test_2022.loc[test_2022['All Star']][['Player', 'Pos', 'Age', 'TS%', 'RPG', 'APG', 'PPG', 'BPG', 'SPG','All Star','Year']]"
   ]
  },
  {
   "cell_type": "code",
   "execution_count": 1711,
   "metadata": {},
   "outputs": [],
   "source": [
    "def rating_col(player):\n",
    "    if player in correct_as_2022.values:\n",
    "        return 'properly rated'\n",
    "    elif player in as_pred_not_2022.values:\n",
    "        return 'overrated'"
   ]
  },
  {
   "cell_type": "code",
   "execution_count": 1712,
   "metadata": {},
   "outputs": [],
   "source": [
    "as_2022['Rating'] = as_2022.Player.apply(rating_col)"
   ]
  },
  {
   "cell_type": "code",
   "execution_count": 1713,
   "metadata": {},
   "outputs": [],
   "source": [
    "as_summary_2022 = as_2022[['Player', 'Rating', 'Year']]"
   ]
  },
  {
   "cell_type": "code",
   "execution_count": 1714,
   "metadata": {},
   "outputs": [],
   "source": [
    "as_other_2022 = not_as_pred_as_2022.to_frame(name = 'Player')\n",
    "as_other_2022['Rating'] = 'underrated'\n",
    "as_other_2022['Year'] = 2022"
   ]
  },
  {
   "cell_type": "code",
   "execution_count": 1715,
   "metadata": {
    "tags": []
   },
   "outputs": [],
   "source": [
    "as_summary_2022 = pd.concat([as_other_2022, as_summary_2022]).sort_values('Rating')"
   ]
  },
  {
   "cell_type": "code",
   "execution_count": 1716,
   "metadata": {},
   "outputs": [],
   "source": [
    "as_2021 = test_2021.loc[test_2021['All Star']][['Player', 'Pos', 'TS%', 'RPG', 'APG', 'PPG', 'BPG', 'SPG','All Star','Year']]\n",
    "def rating_col(player):\n",
    "    if player in correct_as_2021.values:\n",
    "        return 'properly rated'\n",
    "    elif player in as_pred_not_2021.values:\n",
    "        return 'overrated'\n",
    "as_2021['Rating'] = as_2021.Player.apply(rating_col)\n",
    "as_summary_2021 = as_2021[['Player', 'Rating', 'Year']]\n",
    "as_other_2021 = not_as_pred_as_2021.to_frame(name = 'Player')\n",
    "as_other_2021['Rating'] = 'underrated'\n",
    "as_other_2021['Year'] = 2021\n",
    "as_summary_2021 = pd.concat([as_other_2021, as_summary_2021]).sort_values('Rating')"
   ]
  },
  {
   "cell_type": "code",
   "execution_count": 1717,
   "metadata": {},
   "outputs": [],
   "source": [
    "as_2019 = test_players.loc[test_players['All Star']][['Player', 'Pos', 'TS%', 'RPG', 'APG', 'PPG', 'BPG', 'SPG','All Star','Year']]\n",
    "def rating_col(player):\n",
    "    if player in correct_as_2019.values:\n",
    "        return 'properly rated'\n",
    "    elif player in as_pred_not_2019.values:\n",
    "        return 'overrated'\n",
    "as_2019['Rating'] = as_2019.Player.apply(rating_col)\n",
    "as_summary_2019 = as_2019[['Player', 'Rating', 'Year']]\n",
    "as_other_2019 = not_as_pred_as_2019.to_frame(name = 'Player')\n",
    "as_other_2019['Rating'] = 'underrated'\n",
    "as_other_2019['Year'] = 2019\n",
    "as_summary_2019 = pd.concat([as_other_2019, as_summary_2019]).sort_values('Rating')"
   ]
  },
  {
   "cell_type": "code",
   "execution_count": 1718,
   "metadata": {},
   "outputs": [],
   "source": [
    "as_summaries = pd.concat([as_summary_2019, as_summary_2021, as_summary_2022])"
   ]
  },
  {
   "cell_type": "code",
   "execution_count": 1719,
   "metadata": {},
   "outputs": [],
   "source": [
    "as_summaries['Year'] = as_summaries['Year'].astype(str)"
   ]
  },
  {
   "cell_type": "code",
   "execution_count": 1720,
   "metadata": {},
   "outputs": [],
   "source": [
    "as_summaries_grouped = as_summaries.groupby('Player').agg({'Rating':'unique', 'Year':'unique'}).reset_index()"
   ]
  },
  {
   "cell_type": "code",
   "execution_count": 1721,
   "metadata": {},
   "outputs": [],
   "source": [
    "as_summaries_grouped['Rating'] = as_summaries_grouped.Rating.str.join(', ')"
   ]
  },
  {
   "cell_type": "code",
   "execution_count": 1722,
   "metadata": {},
   "outputs": [],
   "source": [
    "as_summaries_grouped['Year'] = as_summaries_grouped.Year.str.join(', ')"
   ]
  },
  {
   "cell_type": "code",
   "execution_count": 1732,
   "metadata": {},
   "outputs": [
    {
     "data": {
      "text/html": [
       "<div>\n",
       "<style scoped>\n",
       "    .dataframe tbody tr th:only-of-type {\n",
       "        vertical-align: middle;\n",
       "    }\n",
       "\n",
       "    .dataframe tbody tr th {\n",
       "        vertical-align: top;\n",
       "    }\n",
       "\n",
       "    .dataframe thead th {\n",
       "        text-align: right;\n",
       "    }\n",
       "</style>\n",
       "<table border=\"1\" class=\"dataframe\">\n",
       "  <thead>\n",
       "    <tr style=\"text-align: right;\">\n",
       "      <th></th>\n",
       "      <th>Player</th>\n",
       "      <th>Rating</th>\n",
       "      <th>Year</th>\n",
       "    </tr>\n",
       "  </thead>\n",
       "  <tbody>\n",
       "    <tr>\n",
       "      <th>0</th>\n",
       "      <td>Andrew Wiggins</td>\n",
       "      <td>overrated</td>\n",
       "      <td>2022</td>\n",
       "    </tr>\n",
       "    <tr>\n",
       "      <th>2</th>\n",
       "      <td>Ben Simmons</td>\n",
       "      <td>overrated</td>\n",
       "      <td>2019, 2021</td>\n",
       "    </tr>\n",
       "    <tr>\n",
       "      <th>7</th>\n",
       "      <td>Chris Paul</td>\n",
       "      <td>overrated</td>\n",
       "      <td>2021, 2022</td>\n",
       "    </tr>\n",
       "    <tr>\n",
       "      <th>9</th>\n",
       "      <td>Darius Garland</td>\n",
       "      <td>overrated</td>\n",
       "      <td>2022</td>\n",
       "    </tr>\n",
       "    <tr>\n",
       "      <th>11</th>\n",
       "      <td>Dejounte Murray</td>\n",
       "      <td>overrated</td>\n",
       "      <td>2022</td>\n",
       "    </tr>\n",
       "    <tr>\n",
       "      <th>13</th>\n",
       "      <td>Dirk Nowitzki</td>\n",
       "      <td>overrated</td>\n",
       "      <td>2019</td>\n",
       "    </tr>\n",
       "    <tr>\n",
       "      <th>16</th>\n",
       "      <td>Draymond Green</td>\n",
       "      <td>overrated</td>\n",
       "      <td>2022</td>\n",
       "    </tr>\n",
       "    <tr>\n",
       "      <th>17</th>\n",
       "      <td>Dwyane Wade</td>\n",
       "      <td>overrated</td>\n",
       "      <td>2019</td>\n",
       "    </tr>\n",
       "    <tr>\n",
       "      <th>18</th>\n",
       "      <td>Fred VanVleet</td>\n",
       "      <td>overrated</td>\n",
       "      <td>2022</td>\n",
       "    </tr>\n",
       "    <tr>\n",
       "      <th>22</th>\n",
       "      <td>Jarrett Allen</td>\n",
       "      <td>overrated</td>\n",
       "      <td>2022</td>\n",
       "    </tr>\n",
       "    <tr>\n",
       "      <th>23</th>\n",
       "      <td>Jaylen Brown</td>\n",
       "      <td>overrated</td>\n",
       "      <td>2021</td>\n",
       "    </tr>\n",
       "    <tr>\n",
       "      <th>33</th>\n",
       "      <td>Khris Middleton</td>\n",
       "      <td>overrated</td>\n",
       "      <td>2019, 2022</td>\n",
       "    </tr>\n",
       "    <tr>\n",
       "      <th>34</th>\n",
       "      <td>Klay Thompson</td>\n",
       "      <td>overrated</td>\n",
       "      <td>2019</td>\n",
       "    </tr>\n",
       "    <tr>\n",
       "      <th>35</th>\n",
       "      <td>Kyle Lowry</td>\n",
       "      <td>overrated</td>\n",
       "      <td>2019</td>\n",
       "    </tr>\n",
       "    <tr>\n",
       "      <th>37</th>\n",
       "      <td>LaMarcus Aldridge</td>\n",
       "      <td>overrated</td>\n",
       "      <td>2019</td>\n",
       "    </tr>\n",
       "    <tr>\n",
       "      <th>38</th>\n",
       "      <td>LaMelo Ball</td>\n",
       "      <td>overrated</td>\n",
       "      <td>2022</td>\n",
       "    </tr>\n",
       "    <tr>\n",
       "      <th>41</th>\n",
       "      <td>Mike Conley</td>\n",
       "      <td>overrated</td>\n",
       "      <td>2021</td>\n",
       "    </tr>\n",
       "    <tr>\n",
       "      <th>43</th>\n",
       "      <td>Nikola Vučević</td>\n",
       "      <td>overrated</td>\n",
       "      <td>2019, 2021</td>\n",
       "    </tr>\n",
       "    <tr>\n",
       "      <th>45</th>\n",
       "      <td>Rudy Gobert</td>\n",
       "      <td>overrated</td>\n",
       "      <td>2021, 2022</td>\n",
       "    </tr>\n",
       "    <tr>\n",
       "      <th>50</th>\n",
       "      <td>Victor Oladipo</td>\n",
       "      <td>overrated</td>\n",
       "      <td>2019</td>\n",
       "    </tr>\n",
       "  </tbody>\n",
       "</table>\n",
       "</div>"
      ],
      "text/plain": [
       "               Player     Rating        Year\n",
       "0      Andrew Wiggins  overrated        2022\n",
       "2         Ben Simmons  overrated  2019, 2021\n",
       "7          Chris Paul  overrated  2021, 2022\n",
       "9      Darius Garland  overrated        2022\n",
       "11    Dejounte Murray  overrated        2022\n",
       "13      Dirk Nowitzki  overrated        2019\n",
       "16     Draymond Green  overrated        2022\n",
       "17        Dwyane Wade  overrated        2019\n",
       "18      Fred VanVleet  overrated        2022\n",
       "22      Jarrett Allen  overrated        2022\n",
       "23       Jaylen Brown  overrated        2021\n",
       "33    Khris Middleton  overrated  2019, 2022\n",
       "34      Klay Thompson  overrated        2019\n",
       "35         Kyle Lowry  overrated        2019\n",
       "37  LaMarcus Aldridge  overrated        2019\n",
       "38        LaMelo Ball  overrated        2022\n",
       "41        Mike Conley  overrated        2021\n",
       "43     Nikola Vučević  overrated  2019, 2021\n",
       "45        Rudy Gobert  overrated  2021, 2022\n",
       "50     Victor Oladipo  overrated        2019"
      ]
     },
     "execution_count": 1732,
     "metadata": {},
     "output_type": "execute_result"
    }
   ],
   "source": [
    "as_summaries_grouped.loc[as_summaries_grouped.Rating == 'overrated']"
   ]
  },
  {
   "cell_type": "code",
   "execution_count": 1733,
   "metadata": {
    "collapsed": true,
    "jupyter": {
     "outputs_hidden": true
    },
    "tags": []
   },
   "outputs": [
    {
     "data": {
      "text/html": [
       "<div>\n",
       "<style scoped>\n",
       "    .dataframe tbody tr th:only-of-type {\n",
       "        vertical-align: middle;\n",
       "    }\n",
       "\n",
       "    .dataframe tbody tr th {\n",
       "        vertical-align: top;\n",
       "    }\n",
       "\n",
       "    .dataframe thead th {\n",
       "        text-align: right;\n",
       "    }\n",
       "</style>\n",
       "<table border=\"1\" class=\"dataframe\">\n",
       "  <thead>\n",
       "    <tr style=\"text-align: right;\">\n",
       "      <th></th>\n",
       "      <th>Player</th>\n",
       "      <th>Rating</th>\n",
       "      <th>Year</th>\n",
       "    </tr>\n",
       "  </thead>\n",
       "  <tbody>\n",
       "    <tr>\n",
       "      <th>5</th>\n",
       "      <td>Brandon Ingram</td>\n",
       "      <td>underrated</td>\n",
       "      <td>2021</td>\n",
       "    </tr>\n",
       "    <tr>\n",
       "      <th>6</th>\n",
       "      <td>CJ McCollum</td>\n",
       "      <td>underrated</td>\n",
       "      <td>2021</td>\n",
       "    </tr>\n",
       "    <tr>\n",
       "      <th>27</th>\n",
       "      <td>John Wall</td>\n",
       "      <td>underrated</td>\n",
       "      <td>2019</td>\n",
       "    </tr>\n",
       "    <tr>\n",
       "      <th>47</th>\n",
       "      <td>Shai Gilgeous-Alexander</td>\n",
       "      <td>underrated</td>\n",
       "      <td>2022</td>\n",
       "    </tr>\n",
       "  </tbody>\n",
       "</table>\n",
       "</div>"
      ],
      "text/plain": [
       "                     Player      Rating  Year\n",
       "5            Brandon Ingram  underrated  2021\n",
       "6               CJ McCollum  underrated  2021\n",
       "27                John Wall  underrated  2019\n",
       "47  Shai Gilgeous-Alexander  underrated  2022"
      ]
     },
     "execution_count": 1733,
     "metadata": {},
     "output_type": "execute_result"
    }
   ],
   "source": [
    "as_summaries_grouped.loc[as_summaries_grouped.Rating == 'underrated']"
   ]
  },
  {
   "cell_type": "code",
   "execution_count": 1730,
   "metadata": {},
   "outputs": [],
   "source": [
    "as_summaries_grouped.to_csv('all_star_classifier_summary.csv', index = False)"
   ]
  },
  {
   "cell_type": "code",
   "execution_count": null,
   "metadata": {},
   "outputs": [],
   "source": []
  }
 ],
 "metadata": {
  "kernelspec": {
   "display_name": "Python 3",
   "language": "python",
   "name": "python3"
  },
  "language_info": {
   "codemirror_mode": {
    "name": "ipython",
    "version": 3
   },
   "file_extension": ".py",
   "mimetype": "text/x-python",
   "name": "python",
   "nbconvert_exporter": "python",
   "pygments_lexer": "ipython3",
   "version": "3.8.8"
  },
  "toc-showcode": false
 },
 "nbformat": 4,
 "nbformat_minor": 4
}
