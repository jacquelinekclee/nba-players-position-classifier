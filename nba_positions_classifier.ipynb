{
 "cells": [
  {
   "cell_type": "markdown",
   "id": "58fd1c0a-b42b-4080-89bb-fce237fbceb5",
   "metadata": {},
   "source": [
    "# NBA Players Position Classifier\n",
    "\n",
    "For a full description on this project, please see the [Project website](https://jacquelinekclee.github.io/nba-players-position-classifier/) and the [GitHub repository](https://github.com/jacquelinekclee/nba-players-position-classifier).\n"
   ]
  },
  {
   "cell_type": "markdown",
   "id": "5fd74796-0b58-4f08-823c-e56c53569eb0",
   "metadata": {},
   "source": [
    "# Imports"
   ]
  },
  {
   "cell_type": "code",
   "execution_count": 1,
   "id": "76af6f4c-9f7d-4358-817c-fb406067d31f",
   "metadata": {},
   "outputs": [],
   "source": [
    "import pandas as pd\n",
    "import numpy as np\n",
    "%load_ext autoreload\n",
    "%autoreload 2\n",
    "# source files can be found in the GitHub repository\n",
    "from nba_players_classification import *"
   ]
  },
  {
   "cell_type": "code",
   "execution_count": 2,
   "id": "ec6566a1-104e-4f95-9ad1-c7eccf460d5d",
   "metadata": {},
   "outputs": [],
   "source": [
    "import sklearn\n",
    "import xgboost as xgb\n",
    "from sklearn import metrics\n",
    "from sklearn.model_selection import GridSearchCV, KFold\n",
    "from sklearn.ensemble import RandomForestClassifier\n",
    "from sklearn.model_selection import RandomizedSearchCV\n",
    "from sklearn.pipeline import Pipeline\n",
    "from sklearn.preprocessing import LabelEncoder\n",
    "from sklearn.preprocessing import OneHotEncoder\n",
    "from sklearn.compose import ColumnTransformer\n",
    "from sklearn.model_selection import train_test_split\n",
    "import matplotlib.pyplot as plt\n",
    "from sklearn.model_selection import learning_curve\n",
    "from sklearn.metrics import log_loss\n",
    "from sklearn.metrics import accuracy_score\n",
    "from sklearn.neighbors import KNeighborsClassifier\n",
    "from sklearn.preprocessing import MinMaxScaler"
   ]
  },
  {
   "cell_type": "markdown",
   "id": "d1bbea2f-d2cf-477a-815a-471988b2fd47",
   "metadata": {},
   "source": [
    "# Read In Data\n",
    "\n",
    "See GitHub repository for links to data sources and for notebook with data cleaning."
   ]
  },
  {
   "cell_type": "code",
   "execution_count": 3,
   "id": "182ee721-16fe-4c3e-87d8-d91b89d4f660",
   "metadata": {},
   "outputs": [],
   "source": [
    "stats = pd.read_csv('players_1980_2017.csv')\n",
    "test_players = pd.read_csv('players_1819_cleaned.csv')\n",
    "test_2021 = pd.read_csv('players_2021_cleaned.csv')\n",
    "test_2022 = pd.read_csv('players_2022_cleaned.csv')"
   ]
  },
  {
   "cell_type": "markdown",
   "id": "ee618a22-0f00-45c4-93ce-fc7b26c04201",
   "metadata": {},
   "source": [
    "# Positions Classifier<a class=\"anchor\" id=\"positions\"></a>"
   ]
  },
  {
   "cell_type": "markdown",
   "id": "bc404b04-1d8d-4d21-b4f0-06b002967ddb",
   "metadata": {},
   "source": [
    "## Train the Random Forest Classifier for Position on the Data From 1980-2017\n",
    "\n",
    "Assuming play style and statistics by position hasn't changed much over the years, this classifier should perform well without using year as a feature. A classifier with Year and one without Year as a feature will be compared"
   ]
  },
  {
   "cell_type": "markdown",
   "id": "849aa4ce-8fc0-4648-92c9-f402c87f30d5",
   "metadata": {},
   "source": [
    "### With Year"
   ]
  },
  {
   "cell_type": "code",
   "execution_count": 8,
   "id": "418d1e9b-a946-400d-addb-2555ac9ff252",
   "metadata": {},
   "outputs": [],
   "source": [
    "training_data_stats = stats[['Year','Pos', 'TS%', 'RPG', 'APG', 'PPG', 'BPG', 'SPG',\n",
    "       'All Star', 'MVP']]"
   ]
  },
  {
   "cell_type": "code",
   "execution_count": 9,
   "id": "2baab97f-0d8f-4478-b57a-b3637e3d8043",
   "metadata": {},
   "outputs": [],
   "source": [
    "X_train_pos = training_data_stats.drop(columns = 'Pos')\n",
    "y_train_pos = LabelEncoder().fit_transform(training_data_stats['Pos'].values)"
   ]
  },
  {
   "cell_type": "code",
   "execution_count": 10,
   "id": "19229b2e-fb32-4a33-a5e0-40425c0ee7ef",
   "metadata": {},
   "outputs": [],
   "source": [
    "pos_labels = {0:'C', 1:'F', 2:'FC', 3:'G', 4:'GF'}"
   ]
  },
  {
   "cell_type": "code",
   "execution_count": 11,
   "id": "9daeb6a1-9266-4dc5-9c67-c45571c71fb7",
   "metadata": {},
   "outputs": [],
   "source": [
    "grid = { \n",
    "    'n_estimators': [300,500,700],\n",
    "    'max_features': ['sqrt', 'log2'],\n",
    "    'max_depth' : [5,10,15,20,25,None],\n",
    "    'criterion' :['gini', 'entropy'],\n",
    "    'random_state' : [18]\n",
    "}\n",
    "\n",
    "pos_rf_cv = GridSearchCV(estimator=RandomForestClassifier(), param_grid=grid, cv = 5)"
   ]
  },
  {
   "cell_type": "code",
   "execution_count": 12,
   "id": "62a5b7dd-de41-41a9-8f8c-8b1a719421cf",
   "metadata": {},
   "outputs": [
    {
     "data": {
      "text/plain": [
       "GridSearchCV(cv=5, estimator=RandomForestClassifier(),\n",
       "             param_grid={'criterion': ['gini', 'entropy'],\n",
       "                         'max_depth': [5, 10, 15, 20, 25, None],\n",
       "                         'max_features': ['sqrt', 'log2'],\n",
       "                         'n_estimators': [300, 500, 700],\n",
       "                         'random_state': [18]})"
      ]
     },
     "execution_count": 12,
     "metadata": {},
     "output_type": "execute_result"
    }
   ],
   "source": [
    "pos_rf_cv.fit(X_train_pos, y_train_pos)"
   ]
  },
  {
   "cell_type": "code",
   "execution_count": 13,
   "id": "d5da3d4e-f68c-4015-ac5a-8a966d1b5021",
   "metadata": {},
   "outputs": [],
   "source": [
    "pos_rf_year = pos_rf_cv.best_estimator_"
   ]
  },
  {
   "cell_type": "code",
   "execution_count": 14,
   "id": "ad52ce17-d642-4827-aeac-7cfa20a05e95",
   "metadata": {},
   "outputs": [],
   "source": [
    "feature_names = [f\"{X_train_pos.columns[i]}\" for i in range(X_train_pos.shape[1])]\n",
    "pos_rf_year_imp = pd.Series(pos_rf_year.feature_importances_, index=feature_names).sort_values(ascending=False)"
   ]
  },
  {
   "cell_type": "code",
   "execution_count": 15,
   "id": "ce65ea9c-a8b5-497e-8d7b-ee308ad74780",
   "metadata": {},
   "outputs": [
    {
     "data": {
      "text/plain": [
       "RPG         0.262806\n",
       "APG         0.254478\n",
       "BPG         0.224410\n",
       "SPG         0.115828\n",
       "PPG         0.073636\n",
       "TS%         0.035012\n",
       "Year        0.031709\n",
       "All Star    0.001949\n",
       "MVP         0.000172\n",
       "dtype: float64"
      ]
     },
     "execution_count": 15,
     "metadata": {},
     "output_type": "execute_result"
    }
   ],
   "source": [
    "pos_rf_year_imp"
   ]
  },
  {
   "cell_type": "code",
   "execution_count": 16,
   "id": "ed80888a-dd36-4491-9be9-3afe3b5a8eeb",
   "metadata": {},
   "outputs": [],
   "source": [
    "X_test_pos = test_players[['Year','TS%', 'RPG', 'APG', 'PPG', 'BPG', 'SPG', 'All Star', 'MVP']]\n",
    "y_test_pos = LabelEncoder().fit_transform(test_players['Pos'].values)"
   ]
  },
  {
   "cell_type": "code",
   "execution_count": 17,
   "id": "a9974a14-73a0-4ff5-b693-00dd79441b94",
   "metadata": {},
   "outputs": [
    {
     "data": {
      "text/plain": [
       "0.3916349809885932"
      ]
     },
     "execution_count": 17,
     "metadata": {},
     "output_type": "execute_result"
    }
   ],
   "source": [
    "pos_rf_year.score(X_test_pos, y_test_pos)"
   ]
  },
  {
   "cell_type": "code",
   "execution_count": 18,
   "id": "9751fd12-822d-4b99-b6d6-48f356320f00",
   "metadata": {},
   "outputs": [],
   "source": [
    "test_results_rf_df = test_players.copy()\n",
    "test_results_rf_df['pos_pred'] = pos_rf_year.predict(X_test_pos)\n",
    "test_results_rf_df['pos_pred'].replace(pos_labels, inplace=True)"
   ]
  },
  {
   "cell_type": "code",
   "execution_count": 19,
   "id": "190fd171-9349-46c9-8434-9d4cc374d649",
   "metadata": {},
   "outputs": [],
   "source": [
    "test_results_rf_df['correct_pos'] = test_results_rf_df['pos_pred'] == test_results_rf_df['Pos']"
   ]
  },
  {
   "cell_type": "code",
   "execution_count": 20,
   "id": "9255fb01-21cb-4001-a862-cfe58e9300c3",
   "metadata": {},
   "outputs": [
    {
     "data": {
      "text/plain": [
       "G    0.408759\n",
       "C    0.328467\n",
       "F    0.262774\n",
       "Name: Pos, dtype: float64"
      ]
     },
     "execution_count": 20,
     "metadata": {},
     "output_type": "execute_result"
    }
   ],
   "source": [
    "test_results_rf_df.loc[~test_results_rf_df.correct_pos].Pos.value_counts(normalize=True)"
   ]
  },
  {
   "cell_type": "code",
   "execution_count": 21,
   "id": "9ecb06eb-dc31-495a-8caf-341a69b92179",
   "metadata": {},
   "outputs": [
    {
     "data": {
      "text/plain": [
       "G    0.765690\n",
       "F    0.812500\n",
       "C    0.526316\n",
       "Name: Pos, dtype: float64"
      ]
     },
     "execution_count": 21,
     "metadata": {},
     "output_type": "execute_result"
    }
   ],
   "source": [
    "test_results_rf_df.loc[test_results_rf_df.correct_pos].Pos.value_counts() / test_results_rf_df.Pos.value_counts()"
   ]
  },
  {
   "cell_type": "code",
   "execution_count": 22,
   "id": "d267f602-3012-453d-9738-09af0f7ca2bc",
   "metadata": {},
   "outputs": [],
   "source": [
    "def prop_incorrect(df, position):\n",
    "    incorrect = df.loc[~(df.correct_pos) & (df.Pos == position)].shape[0] \n",
    "    total = df.loc[(df.Pos == position)].shape[0]\n",
    "    return round(incorrect / total, 2)"
   ]
  },
  {
   "cell_type": "markdown",
   "id": "c3a5dc9a-2878-47bd-aeb0-ea74a4de3b22",
   "metadata": {},
   "source": [
    "### Without Year "
   ]
  },
  {
   "cell_type": "code",
   "execution_count": 23,
   "id": "cd9a26aa-c35f-46f2-8244-1acacb0e484a",
   "metadata": {},
   "outputs": [],
   "source": [
    "X_train_pos_no_year = training_data_stats.drop(columns = ['Year', 'Pos'])"
   ]
  },
  {
   "cell_type": "code",
   "execution_count": 24,
   "id": "566f965f-2aa8-4b9b-9980-2f461f3bb1a8",
   "metadata": {},
   "outputs": [],
   "source": [
    "X_test_pos_no_year = X_test_pos.drop(columns = ['Year'])"
   ]
  },
  {
   "cell_type": "code",
   "execution_count": 25,
   "id": "b5a6d162-01d5-43dd-88d8-96511dba250f",
   "metadata": {},
   "outputs": [
    {
     "data": {
      "text/plain": [
       "GridSearchCV(cv=5, estimator=RandomForestClassifier(),\n",
       "             param_grid={'criterion': ['gini', 'entropy'],\n",
       "                         'max_depth': [5, 10, 15, 20, 25, None],\n",
       "                         'max_features': ['sqrt', 'log2'],\n",
       "                         'n_estimators': [300, 500, 700],\n",
       "                         'random_state': [18]})"
      ]
     },
     "execution_count": 25,
     "metadata": {},
     "output_type": "execute_result"
    }
   ],
   "source": [
    "pos_rf_cv.fit(X_train_pos_no_year, y_train_pos)"
   ]
  },
  {
   "cell_type": "code",
   "execution_count": 26,
   "id": "39d06eb2-d819-4c07-98a5-c99d612f52a8",
   "metadata": {},
   "outputs": [],
   "source": [
    "pos_rf_cv.fit(X_train_pos_no_year, y_train_pos)\n",
    "pos_rf_no_year = pos_rf_cv.best_estimator_"
   ]
  },
  {
   "cell_type": "code",
   "execution_count": 27,
   "id": "0a7ea06c-8ff1-4422-bfe0-4fd76064b606",
   "metadata": {},
   "outputs": [
    {
     "data": {
      "text/plain": [
       "0.3897338403041825"
      ]
     },
     "execution_count": 27,
     "metadata": {},
     "output_type": "execute_result"
    }
   ],
   "source": [
    "pos_rf_no_year.score(X_test_pos_no_year, y_test_pos)"
   ]
  },
  {
   "cell_type": "code",
   "execution_count": 29,
   "id": "2ab850b6-b239-4367-a30b-dd013efd9b93",
   "metadata": {},
   "outputs": [],
   "source": [
    "feature_names = [f\"{X_train_pos_no_year.columns[i]}\" for i in range(X_train_pos_no_year.shape[1])]"
   ]
  },
  {
   "cell_type": "code",
   "execution_count": 30,
   "id": "7f8db621-3c10-4b37-9c2c-a54fbe33f562",
   "metadata": {},
   "outputs": [],
   "source": [
    "pos_rf_no_year_imp = pd.Series(pos_rf_no_year.feature_importances_, index=feature_names).sort_values(ascending=False)"
   ]
  },
  {
   "cell_type": "code",
   "execution_count": 31,
   "id": "dded0505-3c66-42e5-bc63-df1df9860d21",
   "metadata": {},
   "outputs": [],
   "source": [
    "test_results_rf_no_year_df = test_players.copy()\n",
    "test_results_rf_no_year_df['pos_pred'] = pos_rf_no_year.predict(X_test_pos_no_year)\n",
    "test_results_rf_no_year_df['pos_pred'].replace(pos_labels, inplace=True)\n",
    "test_results_rf_no_year_df['correct_pos'] = test_results_rf_no_year_df['pos_pred'] == test_results_rf_no_year_df['Pos']"
   ]
  },
  {
   "cell_type": "code",
   "execution_count": 32,
   "id": "30a41084-1984-4352-bc42-c6f939ced3c2",
   "metadata": {},
   "outputs": [
    {
     "data": {
      "text/plain": [
       "G    0.426573\n",
       "C    0.321678\n",
       "F    0.251748\n",
       "Name: Pos, dtype: float64"
      ]
     },
     "execution_count": 32,
     "metadata": {},
     "output_type": "execute_result"
    }
   ],
   "source": [
    "test_results_rf_no_year_df.loc[~test_results_rf_no_year_df.correct_pos].Pos.value_counts(normalize=True)"
   ]
  },
  {
   "cell_type": "code",
   "execution_count": 33,
   "id": "da3e183b-a3fe-44ac-9c80-c7891bfc64d9",
   "metadata": {},
   "outputs": [
    {
     "data": {
      "text/plain": [
       "G    0.464752\n",
       "F    0.407311\n",
       "C    0.127937\n",
       "Name: Pos, dtype: float64"
      ]
     },
     "execution_count": 33,
     "metadata": {},
     "output_type": "execute_result"
    }
   ],
   "source": [
    "test_results_rf_no_year_df.loc[test_results_rf_no_year_df.correct_pos].Pos.value_counts(normalize=True)"
   ]
  },
  {
   "cell_type": "code",
   "execution_count": 34,
   "id": "0309b39e-775e-4610-ac4b-a5876f6896e6",
   "metadata": {},
   "outputs": [
    {
     "data": {
      "text/plain": [
       "G    0.744770\n",
       "F    0.812500\n",
       "C    0.515789\n",
       "Name: Pos, dtype: float64"
      ]
     },
     "execution_count": 34,
     "metadata": {},
     "output_type": "execute_result"
    }
   ],
   "source": [
    "test_results_rf_no_year_df.loc[test_results_rf_no_year_df.correct_pos].Pos.value_counts() / test_results_rf_no_year_df.Pos.value_counts()"
   ]
  },
  {
   "cell_type": "code",
   "execution_count": 35,
   "id": "e99198f4-fb42-498b-a1d0-59a7115fbed9",
   "metadata": {},
   "outputs": [
    {
     "data": {
      "text/plain": [
       "G    0.765690\n",
       "F    0.812500\n",
       "C    0.526316\n",
       "Name: Pos, dtype: float64"
      ]
     },
     "execution_count": 35,
     "metadata": {},
     "output_type": "execute_result"
    }
   ],
   "source": [
    "test_results_rf_df.loc[test_results_rf_df.correct_pos].Pos.value_counts() / test_results_rf_df.Pos.value_counts()"
   ]
  },
  {
   "cell_type": "markdown",
   "id": "5a83ed86-18cf-4ad8-972e-6fddf0c359d2",
   "metadata": {},
   "source": [
    "### Comparison\n",
    "Accuracy decreases slightly by about when removing year as a parameter. Year was the 3rd least important feature in the original Random Forest classifier, and the All Star and MVP features had hardly any effect. This indicates that a players play style and production on the court, expressed in their rebounds, assists, blocks, steals, points, and shooting percentage, are much more indicative of position than anything else. Removing year increased the proportion of each position that had a correct classification for Centers (+1%) and increased for Forwards (+3%). Thus, it seems that the year a player played is more important for forwards. One interpretation of these results is that the per game statisics of a player benefit from the contextualization of year when it comes to classifying especially forwards."
   ]
  },
  {
   "cell_type": "markdown",
   "id": "cd5fc6da-e70a-48be-8208-c6c8258240a2",
   "metadata": {},
   "source": [
    "## Train a XGBoost Classifier for Position on the Data From 1980-2017\n",
    "\n",
    "Since there is a bit of a class imbalance (about 40% each of Forwards and Guards, but only about 20% Centers), XGBoost might work better than a random forest. "
   ]
  },
  {
   "cell_type": "code",
   "execution_count": 36,
   "id": "5c7800d1-4abf-4f86-8078-5986199207a9",
   "metadata": {},
   "outputs": [
    {
     "data": {
      "text/plain": [
       "F     0.399377\n",
       "G     0.396101\n",
       "C     0.198922\n",
       "GF    0.002959\n",
       "FC    0.002642\n",
       "Name: Pos, dtype: float64"
      ]
     },
     "execution_count": 36,
     "metadata": {},
     "output_type": "execute_result"
    }
   ],
   "source": [
    "training_data_stats.Pos.value_counts(normalize=True)"
   ]
  },
  {
   "cell_type": "markdown",
   "id": "b612eae3-15b6-4682-ba51-863beaee77da",
   "metadata": {},
   "source": [
    "### With Year"
   ]
  },
  {
   "cell_type": "code",
   "execution_count": 37,
   "id": "4bc650a7-e783-487b-b3d9-06a163d94722",
   "metadata": {},
   "outputs": [],
   "source": [
    "params = { 'max_depth': [3,6,10],\n",
    "           'learning_rate': [0.01, 0.05, 0.1],\n",
    "           'n_estimators': [100, 500, 1000],\n",
    "           'colsample_bytree': [0.3, 0.7]}\n",
    "xgbr = xgb.XGBClassifier(seed = 20, objective='multi:softmax', num_class = 5)\n",
    "pos_xgb_clf = GridSearchCV(estimator=xgbr, \n",
    "                   param_grid=params,\n",
    "                   scoring='accuracy')"
   ]
  },
  {
   "cell_type": "code",
   "execution_count": 38,
   "id": "da83b9d1-ac82-4c37-9a61-1d5fa4c3a9d5",
   "metadata": {
    "tags": []
   },
   "outputs": [
    {
     "data": {
      "text/plain": [
       "GridSearchCV(estimator=XGBClassifier(base_score=None, booster=None,\n",
       "                                     callbacks=None, colsample_bylevel=None,\n",
       "                                     colsample_bynode=None,\n",
       "                                     colsample_bytree=None,\n",
       "                                     early_stopping_rounds=None,\n",
       "                                     enable_categorical=False, eval_metric=None,\n",
       "                                     gamma=None, gpu_id=None, grow_policy=None,\n",
       "                                     importance_type=None,\n",
       "                                     interaction_constraints=None,\n",
       "                                     learning_rate=None, max_bin=None,\n",
       "                                     max_cat_to_...\n",
       "                                     max_delta_step=None, max_depth=None,\n",
       "                                     max_leaves=None, min_child_weight=None,\n",
       "                                     missing=nan, monotone_constraints=None,\n",
       "                                     n_estimators=100, n_jobs=None, num_class=5,\n",
       "                                     num_parallel_tree=None,\n",
       "                                     objective='multi:softmax', predictor=None,\n",
       "                                     random_state=None, ...),\n",
       "             param_grid={'colsample_bytree': [0.3, 0.7],\n",
       "                         'learning_rate': [0.01, 0.05, 0.1],\n",
       "                         'max_depth': [3, 6, 10],\n",
       "                         'n_estimators': [100, 500, 1000]},\n",
       "             scoring='accuracy')"
      ]
     },
     "execution_count": 38,
     "metadata": {},
     "output_type": "execute_result"
    }
   ],
   "source": [
    "pos_xgb_clf.fit(X_train_pos, y_train_pos)"
   ]
  },
  {
   "cell_type": "code",
   "execution_count": 39,
   "id": "2c4681e7-0632-4334-987c-cc9967c5cc61",
   "metadata": {},
   "outputs": [],
   "source": [
    "pos_xgb_year = pos_xgb_clf.best_estimator_"
   ]
  },
  {
   "cell_type": "code",
   "execution_count": 40,
   "id": "95a55630-6f93-46f3-9a2b-d5c5fd820b14",
   "metadata": {},
   "outputs": [],
   "source": [
    "test_pos_xgb_pred = pos_xgb_year.predict(X_test_pos)"
   ]
  },
  {
   "cell_type": "code",
   "execution_count": 41,
   "id": "97d0e2b9-f8a1-427b-849c-8c805ecdb713",
   "metadata": {},
   "outputs": [
    {
     "data": {
      "text/plain": [
       "0.3897338403041825"
      ]
     },
     "execution_count": 41,
     "metadata": {},
     "output_type": "execute_result"
    }
   ],
   "source": [
    "accuracy_score(y_test_pos, test_pos_xgb_pred)"
   ]
  },
  {
   "cell_type": "code",
   "execution_count": 42,
   "id": "d6b83a1f-7b36-4d43-93b4-47bd87987704",
   "metadata": {},
   "outputs": [],
   "source": [
    "pos_labels = {0:'C', 1:'F', 2:'FC', 3:'G', 4:'GF'}"
   ]
  },
  {
   "cell_type": "code",
   "execution_count": 43,
   "id": "c4160e08-8c0f-4790-88c3-d0eecba4a8bf",
   "metadata": {},
   "outputs": [],
   "source": [
    "test_results_df = test_players.copy()"
   ]
  },
  {
   "cell_type": "code",
   "execution_count": 44,
   "id": "d476ac23-167b-4057-81ba-317dd8b31a59",
   "metadata": {},
   "outputs": [],
   "source": [
    "test_results_df['pos_pred'] = test_pos_xgb_pred\n",
    "test_results_df['pos_pred'].replace(pos_labels, inplace=True)"
   ]
  },
  {
   "cell_type": "code",
   "execution_count": 45,
   "id": "8470e118-a6a6-4df4-b881-9f121e559c03",
   "metadata": {},
   "outputs": [],
   "source": [
    "test_results_df['correct_pos'] = test_results_df['pos_pred'] == test_results_df['Pos']"
   ]
  },
  {
   "cell_type": "code",
   "execution_count": 46,
   "id": "43f3357c-b9ce-4308-ad1f-9d8d96e8ab77",
   "metadata": {},
   "outputs": [
    {
     "data": {
      "text/plain": [
       "G    0.422535\n",
       "C    0.366197\n",
       "F    0.211268\n",
       "Name: Pos, dtype: float64"
      ]
     },
     "execution_count": 46,
     "metadata": {},
     "output_type": "execute_result"
    }
   ],
   "source": [
    "test_results_df.loc[~test_results_df.correct_pos].Pos.value_counts(normalize=True)"
   ]
  },
  {
   "cell_type": "code",
   "execution_count": 47,
   "id": "f60d7682-f8f8-4a9a-9340-6b5a0a95bdee",
   "metadata": {},
   "outputs": [
    {
     "data": {
      "text/plain": [
       "G    0.466146\n",
       "F    0.421875\n",
       "C    0.111979\n",
       "Name: Pos, dtype: float64"
      ]
     },
     "execution_count": 47,
     "metadata": {},
     "output_type": "execute_result"
    }
   ],
   "source": [
    "test_results_df.loc[test_results_df.correct_pos].Pos.value_counts(normalize=True)"
   ]
  },
  {
   "cell_type": "code",
   "execution_count": 48,
   "id": "9b51b970-b8ba-47c1-a461-48b6a244eb7d",
   "metadata": {},
   "outputs": [
    {
     "data": {
      "text/plain": [
       "0.55"
      ]
     },
     "execution_count": 48,
     "metadata": {},
     "output_type": "execute_result"
    }
   ],
   "source": [
    "prop_incorrect(test_results_df, 'C')"
   ]
  },
  {
   "cell_type": "code",
   "execution_count": 49,
   "id": "2a926f33-5277-4e8c-9f2f-27ca0740c0b5",
   "metadata": {},
   "outputs": [
    {
     "data": {
      "text/plain": [
       "0.16"
      ]
     },
     "execution_count": 49,
     "metadata": {},
     "output_type": "execute_result"
    }
   ],
   "source": [
    "prop_incorrect(test_results_df, 'F')"
   ]
  },
  {
   "cell_type": "code",
   "execution_count": 50,
   "id": "308f9f07-f381-484d-aaa1-c573d0284faa",
   "metadata": {},
   "outputs": [
    {
     "data": {
      "text/plain": [
       "0.25"
      ]
     },
     "execution_count": 50,
     "metadata": {},
     "output_type": "execute_result"
    }
   ],
   "source": [
    "prop_incorrect(test_results_df, 'G')"
   ]
  },
  {
   "cell_type": "code",
   "execution_count": 51,
   "id": "849cdef6-96a7-461c-8d62-5bd3694272c3",
   "metadata": {},
   "outputs": [],
   "source": [
    "feature_names = [f\"{X_train_pos.columns[i]}\" for i in range(X_train_pos.shape[1])]\n",
    "xgb_pos_year_imp = pd.Series(pos_xgb_year.feature_importances_, index=feature_names).sort_values(ascending=False)"
   ]
  },
  {
   "cell_type": "code",
   "execution_count": 52,
   "id": "553f08d5-a7a8-4373-aeef-97db3a272154",
   "metadata": {},
   "outputs": [
    {
     "data": {
      "text/plain": [
       "BPG         0.300669\n",
       "APG         0.256011\n",
       "RPG         0.172377\n",
       "SPG         0.118474\n",
       "PPG         0.064382\n",
       "All Star    0.047972\n",
       "TS%         0.018065\n",
       "Year        0.016006\n",
       "MVP         0.006043\n",
       "dtype: float32"
      ]
     },
     "execution_count": 52,
     "metadata": {},
     "output_type": "execute_result"
    }
   ],
   "source": [
    "xgb_pos_year_imp"
   ]
  },
  {
   "cell_type": "markdown",
   "id": "99420eca-2321-43df-83fa-a30717544487",
   "metadata": {},
   "source": [
    "### Without Year"
   ]
  },
  {
   "cell_type": "code",
   "execution_count": 53,
   "id": "b6455537-b2f4-4275-89e1-0f4993963e86",
   "metadata": {},
   "outputs": [
    {
     "data": {
      "text/plain": [
       "GridSearchCV(estimator=XGBClassifier(base_score=None, booster=None,\n",
       "                                     callbacks=None, colsample_bylevel=None,\n",
       "                                     colsample_bynode=None,\n",
       "                                     colsample_bytree=None,\n",
       "                                     early_stopping_rounds=None,\n",
       "                                     enable_categorical=False, eval_metric=None,\n",
       "                                     gamma=None, gpu_id=None, grow_policy=None,\n",
       "                                     importance_type=None,\n",
       "                                     interaction_constraints=None,\n",
       "                                     learning_rate=None, max_bin=None,\n",
       "                                     max_cat_to_...\n",
       "                                     max_delta_step=None, max_depth=None,\n",
       "                                     max_leaves=None, min_child_weight=None,\n",
       "                                     missing=nan, monotone_constraints=None,\n",
       "                                     n_estimators=100, n_jobs=None, num_class=5,\n",
       "                                     num_parallel_tree=None,\n",
       "                                     objective='multi:softmax', predictor=None,\n",
       "                                     random_state=None, ...),\n",
       "             param_grid={'colsample_bytree': [0.3, 0.7],\n",
       "                         'learning_rate': [0.01, 0.05, 0.1],\n",
       "                         'max_depth': [3, 6, 10],\n",
       "                         'n_estimators': [100, 500, 1000]},\n",
       "             scoring='accuracy')"
      ]
     },
     "execution_count": 53,
     "metadata": {},
     "output_type": "execute_result"
    }
   ],
   "source": [
    "pos_xgb_clf.fit(X_train_pos_no_year, y_train_pos)"
   ]
  },
  {
   "cell_type": "code",
   "execution_count": 54,
   "id": "4119fc28-0e65-4da6-a392-58e5f554c6b4",
   "metadata": {},
   "outputs": [],
   "source": [
    "pos_xgb_no_year = pos_xgb_clf.best_estimator_"
   ]
  },
  {
   "cell_type": "code",
   "execution_count": 55,
   "id": "e5c0c359-3285-4713-bf38-cee3e69f2efb",
   "metadata": {},
   "outputs": [],
   "source": [
    "test_pos_no_year_xgb_pred = pos_xgb_no_year.predict(X_test_pos_no_year)"
   ]
  },
  {
   "cell_type": "code",
   "execution_count": 56,
   "id": "f96e6ca3-2b12-4e7c-9bb9-d0680492bb8e",
   "metadata": {},
   "outputs": [
    {
     "data": {
      "text/plain": [
       "0.37832699619771865"
      ]
     },
     "execution_count": 56,
     "metadata": {},
     "output_type": "execute_result"
    }
   ],
   "source": [
    "accuracy_score(y_test_pos, test_pos_no_year_xgb_pred)"
   ]
  },
  {
   "cell_type": "code",
   "execution_count": 58,
   "id": "f55aa2d8-8a03-40d8-8dbf-1358181ff470",
   "metadata": {},
   "outputs": [],
   "source": [
    "test_results_no_year_df = test_players.copy().drop(columns = 'Year')\n",
    "test_results_no_year_df['pos_pred'] = test_pos_no_year_xgb_pred\n",
    "test_results_no_year_df['pos_pred'].replace(pos_labels, inplace=True)\n",
    "test_results_no_year_df['correct_pos'] = test_results_no_year_df['pos_pred'] == test_results_no_year_df['Pos']"
   ]
  },
  {
   "cell_type": "code",
   "execution_count": 59,
   "id": "25f92db7-2399-479d-afcc-3460fa29fa02",
   "metadata": {},
   "outputs": [
    {
     "data": {
      "text/plain": [
       "G    0.421053\n",
       "C    0.328947\n",
       "F    0.250000\n",
       "Name: Pos, dtype: float64"
      ]
     },
     "execution_count": 59,
     "metadata": {},
     "output_type": "execute_result"
    }
   ],
   "source": [
    "test_results_no_year_df.loc[~test_results_no_year_df.correct_pos].Pos.value_counts(normalize=True)"
   ]
  },
  {
   "cell_type": "code",
   "execution_count": 60,
   "id": "2c3511e4-907b-4359-b53a-c2d6f7120f22",
   "metadata": {},
   "outputs": [
    {
     "data": {
      "text/plain": [
       "G    0.467914\n",
       "F    0.411765\n",
       "C    0.120321\n",
       "Name: Pos, dtype: float64"
      ]
     },
     "execution_count": 60,
     "metadata": {},
     "output_type": "execute_result"
    }
   ],
   "source": [
    "test_results_no_year_df.loc[test_results_no_year_df.correct_pos].Pos.value_counts(normalize=True)"
   ]
  },
  {
   "cell_type": "code",
   "execution_count": 61,
   "id": "51f950d6-3aad-4c7c-9bfe-a618a29259bc",
   "metadata": {},
   "outputs": [
    {
     "data": {
      "text/plain": [
       "0.53"
      ]
     },
     "execution_count": 61,
     "metadata": {},
     "output_type": "execute_result"
    }
   ],
   "source": [
    "prop_incorrect(test_results_no_year_df, 'C')"
   ]
  },
  {
   "cell_type": "code",
   "execution_count": 62,
   "id": "9562bcfe-3722-4dab-b9d4-f3b54706d0e8",
   "metadata": {},
   "outputs": [
    {
     "data": {
      "text/plain": [
       "0.2"
      ]
     },
     "execution_count": 62,
     "metadata": {},
     "output_type": "execute_result"
    }
   ],
   "source": [
    "prop_incorrect(test_results_no_year_df, 'F')"
   ]
  },
  {
   "cell_type": "code",
   "execution_count": 63,
   "id": "321db110-f480-4b79-aa5d-8d01670f0cbe",
   "metadata": {},
   "outputs": [
    {
     "data": {
      "text/plain": [
       "0.27"
      ]
     },
     "execution_count": 63,
     "metadata": {},
     "output_type": "execute_result"
    }
   ],
   "source": [
    "prop_incorrect(test_results_no_year_df, 'G')"
   ]
  },
  {
   "cell_type": "code",
   "execution_count": 64,
   "id": "1e047c25-b5a3-468d-abf4-bd69771ab774",
   "metadata": {},
   "outputs": [],
   "source": [
    "feature_names = [f\"{X_train_pos_no_year.columns[i]}\" for i in range(X_train_pos_no_year.shape[1])]\n",
    "xgb_pos_no_year_imp = pd.Series(pos_xgb_no_year.feature_importances_, index=feature_names).sort_values(ascending=False)"
   ]
  },
  {
   "cell_type": "code",
   "execution_count": 65,
   "id": "038781fc-be24-4a91-9ea1-0d1329c2308a",
   "metadata": {},
   "outputs": [],
   "source": [
    "pos_rf_no_year_imp['Year'] = 0"
   ]
  },
  {
   "cell_type": "code",
   "execution_count": 66,
   "id": "b5301edb-ac7f-481b-b1f1-653d48b2cf02",
   "metadata": {},
   "outputs": [],
   "source": [
    "xgb_pos_no_year_imp['Year'] = 0"
   ]
  },
  {
   "cell_type": "code",
   "execution_count": 67,
   "id": "92028baf-4986-415e-8300-22f791ec5c5c",
   "metadata": {
    "tags": []
   },
   "outputs": [],
   "source": [
    "feature_importance_summary = pd.concat([pos_rf_no_year_imp.to_frame(name = 'feature_importance').reset_index().assign(model='random forest without year'), \n",
    "          pos_rf_year_imp.to_frame(name = 'feature_importance').reset_index().assign(model='random forest with year'),\n",
    "          xgb_pos_year_imp.to_frame(name = 'feature_importance').reset_index().assign(model='XGBoost with year'),\n",
    "          xgb_pos_no_year_imp.to_frame(name = 'feature_importance').reset_index().assign(model='XGBoost without year')]).pivot(index='model', columns='index')"
   ]
  },
  {
   "cell_type": "code",
   "execution_count": 179,
   "id": "38d983ad-ff3e-4dfa-99fe-3bb4ae1e0481",
   "metadata": {},
   "outputs": [],
   "source": [
    "results = [['random forest without year', pos_rf_no_year.score(X_test_pos_no_year, y_test_pos), prop_incorrect(test_results_rf_no_year_df, 'C'), prop_incorrect(test_results_rf_no_year_df, 'F'), prop_incorrect(test_results_rf_no_year_df, 'G')],\n",
    "             ['random forest with year', pos_rf_year.score(X_test_pos, y_test_pos), prop_incorrect(test_results_rf_df, 'C'), prop_incorrect(test_results_rf_df, 'F'), prop_incorrect(test_results_rf_df, 'G')],\n",
    "             ['XGBoost without year', accuracy_score(y_test_pos, test_pos_no_year_xgb_pred), prop_incorrect(test_results_no_year_df, 'C'), prop_incorrect(test_results_no_year_df, 'F'), prop_incorrect(test_results_no_year_df, 'G')],\n",
    "             ['XGBoost with year',accuracy_score(y_test_pos, test_pos_xgb_pred), prop_incorrect(test_results_df, 'C'), prop_incorrect(test_results_df, 'F'), prop_incorrect(test_results_df, 'G')]]\n",
    "results_df = pd.DataFrame(data = results, columns = ['model', 'test accuracy', 'prop wrong for centers', 'prop wrong for forwards', 'prop wrong for guards'])"
   ]
  },
  {
   "cell_type": "markdown",
   "id": "68f7ef75-5825-4f48-ba7e-f32693f1ae90",
   "metadata": {},
   "source": [
    "### Comparison\n",
    "Accuracy decreases slightly by about 0.01 when removing year as a parameter. The XGBoost also viewed the features diffently, valuing the All Star feature much more than the random forests did. "
   ]
  },
  {
   "cell_type": "code",
   "execution_count": 180,
   "id": "034543d4-8346-45cd-964d-6857cc2e480b",
   "metadata": {},
   "outputs": [
    {
     "data": {
      "text/html": [
       "<div>\n",
       "<style scoped>\n",
       "    .dataframe tbody tr th:only-of-type {\n",
       "        vertical-align: middle;\n",
       "    }\n",
       "\n",
       "    .dataframe tbody tr th {\n",
       "        vertical-align: top;\n",
       "    }\n",
       "\n",
       "    .dataframe thead tr th {\n",
       "        text-align: left;\n",
       "    }\n",
       "\n",
       "    .dataframe thead tr:last-of-type th {\n",
       "        text-align: right;\n",
       "    }\n",
       "</style>\n",
       "<table border=\"1\" class=\"dataframe\">\n",
       "  <thead>\n",
       "    <tr>\n",
       "      <th></th>\n",
       "      <th colspan=\"9\" halign=\"left\">feature_importance</th>\n",
       "    </tr>\n",
       "    <tr>\n",
       "      <th>index</th>\n",
       "      <th>APG</th>\n",
       "      <th>All Star</th>\n",
       "      <th>BPG</th>\n",
       "      <th>MVP</th>\n",
       "      <th>PPG</th>\n",
       "      <th>RPG</th>\n",
       "      <th>SPG</th>\n",
       "      <th>TS%</th>\n",
       "      <th>Year</th>\n",
       "    </tr>\n",
       "    <tr>\n",
       "      <th>model</th>\n",
       "      <th></th>\n",
       "      <th></th>\n",
       "      <th></th>\n",
       "      <th></th>\n",
       "      <th></th>\n",
       "      <th></th>\n",
       "      <th></th>\n",
       "      <th></th>\n",
       "      <th></th>\n",
       "    </tr>\n",
       "  </thead>\n",
       "  <tbody>\n",
       "    <tr>\n",
       "      <th>XGBoost with year</th>\n",
       "      <td>0.256011</td>\n",
       "      <td>0.047972</td>\n",
       "      <td>0.300669</td>\n",
       "      <td>0.006043</td>\n",
       "      <td>0.064382</td>\n",
       "      <td>0.172377</td>\n",
       "      <td>0.118474</td>\n",
       "      <td>0.018065</td>\n",
       "      <td>0.016006</td>\n",
       "    </tr>\n",
       "    <tr>\n",
       "      <th>XGBoost without year</th>\n",
       "      <td>0.241605</td>\n",
       "      <td>0.068494</td>\n",
       "      <td>0.267529</td>\n",
       "      <td>0.007880</td>\n",
       "      <td>0.061680</td>\n",
       "      <td>0.188593</td>\n",
       "      <td>0.144617</td>\n",
       "      <td>0.019601</td>\n",
       "      <td>0.000000</td>\n",
       "    </tr>\n",
       "    <tr>\n",
       "      <th>random forest with year</th>\n",
       "      <td>0.254478</td>\n",
       "      <td>0.001949</td>\n",
       "      <td>0.224410</td>\n",
       "      <td>0.000172</td>\n",
       "      <td>0.073636</td>\n",
       "      <td>0.262806</td>\n",
       "      <td>0.115828</td>\n",
       "      <td>0.035012</td>\n",
       "      <td>0.031709</td>\n",
       "    </tr>\n",
       "    <tr>\n",
       "      <th>random forest without year</th>\n",
       "      <td>0.245457</td>\n",
       "      <td>0.003536</td>\n",
       "      <td>0.233966</td>\n",
       "      <td>0.000532</td>\n",
       "      <td>0.083423</td>\n",
       "      <td>0.267360</td>\n",
       "      <td>0.123852</td>\n",
       "      <td>0.041874</td>\n",
       "      <td>0.000000</td>\n",
       "    </tr>\n",
       "  </tbody>\n",
       "</table>\n",
       "</div>"
      ],
      "text/plain": [
       "                           feature_importance                                \\\n",
       "index                                     APG  All Star       BPG       MVP   \n",
       "model                                                                         \n",
       "XGBoost with year                    0.256011  0.047972  0.300669  0.006043   \n",
       "XGBoost without year                 0.241605  0.068494  0.267529  0.007880   \n",
       "random forest with year              0.254478  0.001949  0.224410  0.000172   \n",
       "random forest without year           0.245457  0.003536  0.233966  0.000532   \n",
       "\n",
       "                                                                              \n",
       "index                            PPG       RPG       SPG       TS%      Year  \n",
       "model                                                                         \n",
       "XGBoost with year           0.064382  0.172377  0.118474  0.018065  0.016006  \n",
       "XGBoost without year        0.061680  0.188593  0.144617  0.019601  0.000000  \n",
       "random forest with year     0.073636  0.262806  0.115828  0.035012  0.031709  \n",
       "random forest without year  0.083423  0.267360  0.123852  0.041874  0.000000  "
      ]
     },
     "execution_count": 180,
     "metadata": {},
     "output_type": "execute_result"
    }
   ],
   "source": [
    "feature_importance_summary"
   ]
  },
  {
   "cell_type": "code",
   "execution_count": 181,
   "id": "22b4ca5a-3344-4ff8-a346-e187a1e6c3c1",
   "metadata": {},
   "outputs": [
    {
     "data": {
      "text/html": [
       "<div>\n",
       "<style scoped>\n",
       "    .dataframe tbody tr th:only-of-type {\n",
       "        vertical-align: middle;\n",
       "    }\n",
       "\n",
       "    .dataframe tbody tr th {\n",
       "        vertical-align: top;\n",
       "    }\n",
       "\n",
       "    .dataframe thead th {\n",
       "        text-align: right;\n",
       "    }\n",
       "</style>\n",
       "<table border=\"1\" class=\"dataframe\">\n",
       "  <thead>\n",
       "    <tr style=\"text-align: right;\">\n",
       "      <th></th>\n",
       "      <th>model</th>\n",
       "      <th>test accuracy</th>\n",
       "      <th>prop wrong for centers</th>\n",
       "      <th>prop wrong for forwards</th>\n",
       "      <th>prop wrong for guards</th>\n",
       "    </tr>\n",
       "  </thead>\n",
       "  <tbody>\n",
       "    <tr>\n",
       "      <th>0</th>\n",
       "      <td>random forest without year</td>\n",
       "      <td>0.389734</td>\n",
       "      <td>0.48</td>\n",
       "      <td>0.19</td>\n",
       "      <td>0.26</td>\n",
       "    </tr>\n",
       "    <tr>\n",
       "      <th>1</th>\n",
       "      <td>random forest with year</td>\n",
       "      <td>0.391635</td>\n",
       "      <td>0.47</td>\n",
       "      <td>0.19</td>\n",
       "      <td>0.23</td>\n",
       "    </tr>\n",
       "    <tr>\n",
       "      <th>2</th>\n",
       "      <td>XGBoost without year</td>\n",
       "      <td>0.378327</td>\n",
       "      <td>0.53</td>\n",
       "      <td>0.20</td>\n",
       "      <td>0.27</td>\n",
       "    </tr>\n",
       "    <tr>\n",
       "      <th>3</th>\n",
       "      <td>XGBoost with year</td>\n",
       "      <td>0.389734</td>\n",
       "      <td>0.55</td>\n",
       "      <td>0.16</td>\n",
       "      <td>0.25</td>\n",
       "    </tr>\n",
       "  </tbody>\n",
       "</table>\n",
       "</div>"
      ],
      "text/plain": [
       "                        model  test accuracy  prop wrong for centers  \\\n",
       "0  random forest without year       0.389734                    0.48   \n",
       "1     random forest with year       0.391635                    0.47   \n",
       "2        XGBoost without year       0.378327                    0.53   \n",
       "3           XGBoost with year       0.389734                    0.55   \n",
       "\n",
       "   prop wrong for forwards  prop wrong for guards  \n",
       "0                     0.19                   0.26  \n",
       "1                     0.19                   0.23  \n",
       "2                     0.20                   0.27  \n",
       "3                     0.16                   0.25  "
      ]
     },
     "execution_count": 181,
     "metadata": {},
     "output_type": "execute_result"
    }
   ],
   "source": [
    "results_df"
   ]
  },
  {
   "cell_type": "markdown",
   "id": "0fc2dd7e-8ce9-49e0-ae5c-5ba7409ffad2",
   "metadata": {},
   "source": [
    "## First Position Classifiers Summary\n",
    "\n",
    "The 2 types of classifiers found different features to be more important. The Random Forest classifiers thought RBG (rebounds per game) were more important than BPG (blocks per game), while the XGBoost classifiers didn't. Both classifiers had similar levels of feature importance for APG (assists per game) and PPG (points per game). \n",
    "\n",
    "\n",
    "Some pitfalls of both classifiers include: \n",
    "- Neither classifier was able to classify the hybrid positions, GF and FC, correctly. This is likely because only about 0.006 of the training data have these hybrid positions. \n",
    "- Both the All Star and MVP features had 0 importance for all 4 models tested. Including irrelevant features could make cost (e.g., runtime) unnecessarily high. \n",
    "- Although XGBoost was used to try and combat the class imbalance (around 2x guards and forwards than centers), XGBoost did *worse* and classifying centers than Random Forest did. \n",
    "\n",
    "\n",
    "In effort to create a better performing classifier, a new position column will be created. Hopefully making this problem only 3 classes instead of 5 will yield a better classifier. Also, MVP and All Star will be removed from the feature list. It seems that the year feature is particularly useful for classifying guards. Lastly, although XGBoost yielded a slightly higher accuracy, it classified centers much worse than the random forest (which was unexpected). Since the XGBoost didn't provide the expected benefits and its training time is much slower, Random Forest will be used going forward. "
   ]
  },
  {
   "cell_type": "markdown",
   "id": "8372543b-c686-4944-89ab-d5e40e9f3e4f",
   "metadata": {},
   "source": [
    "## Train a 2nd Random Forest Classifier for Simplified Positions\n",
    "\n",
    "The updated Random Forest classifier performed just as well as the XGBoost classifier (with year) on the 2018-2019 data. It performed much better on the centers such that a majority of centers were properly classified. This difference in accuracy for centers is offset by the 2nd Random Forest's worse error rate for forwards (20% incorrect vs. 14% incorrect for the XGBoost) and for the guards (only 1% point difference). Personally, this tradeoff is worth it so that the classifier does not perform exceptionally bad for 1 group and still performs relatively well overall. "
   ]
  },
  {
   "cell_type": "code",
   "execution_count": 71,
   "id": "4c80714e-3853-4f96-affc-2c9722b47996",
   "metadata": {},
   "outputs": [],
   "source": [
    "def reset_position_new(df):\n",
    "    \"\"\"\n",
    "    Replace the positions in the given DataFrame so that each position is in the set\n",
    "    {G, F, C}. For hybrid positions (guard and forward or forward and center), only keep\n",
    "    the position listed first (e.g., C-SF (center and small forward) will become C for center).\n",
    "    \"\"\"\n",
    "    df['Pos_new'] = df['Pos_og'].copy()\n",
    "    df['Pos_new'] = df['Pos_new'].replace(['PG-SF', 'SG-SF', 'SG-PF', 'PG', 'SG', 'SG-PG', 'PG-SG'], 'G')\n",
    "    df['Pos_new'] = df['Pos_new'].replace(['C-PF', 'C-SF'], 'C')\n",
    "    df['Pos_new'] = df['Pos_new'].replace(['PF', 'SF', 'SF-PF', 'PF-SF', 'PF-C', 'SF-SG'], 'F')"
   ]
  },
  {
   "cell_type": "code",
   "execution_count": 72,
   "id": "a50dccfe-bf80-4954-8a46-7bb94e3b3416",
   "metadata": {},
   "outputs": [],
   "source": [
    "reset_position_new(stats)"
   ]
  },
  {
   "cell_type": "code",
   "execution_count": 73,
   "id": "5592426e-dd07-4368-9157-a97403d55be5",
   "metadata": {},
   "outputs": [
    {
     "data": {
      "text/plain": [
       "F    0.402018\n",
       "G    0.397633\n",
       "C    0.200349\n",
       "Name: Pos_new, dtype: float64"
      ]
     },
     "execution_count": 73,
     "metadata": {},
     "output_type": "execute_result"
    }
   ],
   "source": [
    "stats.Pos_new.value_counts(normalize=True)"
   ]
  },
  {
   "cell_type": "code",
   "execution_count": 74,
   "id": "e614e6b5-e2ee-4812-9bda-7184aec87337",
   "metadata": {},
   "outputs": [
    {
     "data": {
      "text/plain": [
       "F     0.399377\n",
       "G     0.396101\n",
       "C     0.198922\n",
       "GF    0.002959\n",
       "FC    0.002642\n",
       "Name: Pos, dtype: float64"
      ]
     },
     "execution_count": 74,
     "metadata": {},
     "output_type": "execute_result"
    }
   ],
   "source": [
    "stats.Pos.value_counts(normalize=True)"
   ]
  },
  {
   "cell_type": "code",
   "execution_count": 75,
   "id": "55948a25-df54-4576-92c5-7c289021972f",
   "metadata": {},
   "outputs": [],
   "source": [
    "reset_position_new(test_players)"
   ]
  },
  {
   "cell_type": "code",
   "execution_count": 76,
   "id": "046f389d-acdf-4d88-bee8-427c62e7e233",
   "metadata": {},
   "outputs": [
    {
     "data": {
      "text/plain": [
       "G    0.454373\n",
       "F    0.365019\n",
       "C    0.180608\n",
       "Name: Pos_new, dtype: float64"
      ]
     },
     "execution_count": 76,
     "metadata": {},
     "output_type": "execute_result"
    }
   ],
   "source": [
    "test_players.Pos_new.value_counts(normalize=True)"
   ]
  },
  {
   "cell_type": "code",
   "execution_count": 77,
   "id": "5dabda4b-6484-48c5-bdf1-de0d28fd56ce",
   "metadata": {},
   "outputs": [
    {
     "data": {
      "text/plain": [
       "G    0.454373\n",
       "F    0.365019\n",
       "C    0.180608\n",
       "Name: Pos, dtype: float64"
      ]
     },
     "execution_count": 77,
     "metadata": {},
     "output_type": "execute_result"
    }
   ],
   "source": [
    "test_players.Pos.value_counts(normalize=True)"
   ]
  },
  {
   "cell_type": "code",
   "execution_count": 78,
   "id": "637d19bd-63b5-4ff8-b7c0-554ab926d9b0",
   "metadata": {},
   "outputs": [],
   "source": [
    "X_train_new_pos = stats[['TS%', 'RPG', 'APG', 'PPG', 'BPG', 'SPG', 'Year']]\n",
    "y_train_new_pos = LabelEncoder().fit_transform(stats['Pos_new'].values)\n",
    "X_test_new_pos = test_players[['TS%', 'RPG', 'APG', 'PPG', 'BPG', 'SPG', 'Year']]\n",
    "y_test_new_pos = LabelEncoder().fit_transform(test_players['Pos_new'].values)"
   ]
  },
  {
   "cell_type": "code",
   "execution_count": 79,
   "id": "720ba60f-bc45-4141-bc2a-3c31ba2f1553",
   "metadata": {},
   "outputs": [
    {
     "name": "stdout",
     "output_type": "stream",
     "text": [
      "criterion=entropy, max_depth=10, max_features=sqrt, n_estimators=300, random_state=18\n"
     ]
    }
   ],
   "source": [
    "print(', '.join([key + '=' + str(val) for key, val in pos_rf_cv.best_params_.items()]))"
   ]
  },
  {
   "cell_type": "code",
   "execution_count": 80,
   "id": "b8cf9a34-d03c-412b-b982-8b922d071bca",
   "metadata": {},
   "outputs": [],
   "source": [
    "pos_rf_clf2 = RandomForestClassifier(criterion='gini', max_depth=10, max_features='sqrt', n_estimators=700, random_state=18)"
   ]
  },
  {
   "cell_type": "code",
   "execution_count": 81,
   "id": "f07c4504-57d7-466f-8bb8-9dae7a242623",
   "metadata": {},
   "outputs": [
    {
     "data": {
      "text/plain": [
       "RandomForestClassifier(max_depth=10, max_features='sqrt', n_estimators=700,\n",
       "                       random_state=18)"
      ]
     },
     "execution_count": 81,
     "metadata": {},
     "output_type": "execute_result"
    }
   ],
   "source": [
    "pos_rf_clf2.fit(X_train_new_pos, y_train_new_pos)"
   ]
  },
  {
   "cell_type": "code",
   "execution_count": 82,
   "id": "89503edc-387d-4fc1-acf4-e43f680b02ec",
   "metadata": {},
   "outputs": [],
   "source": [
    "feature_names = [f\"{X_train_new_pos.columns[i]}\" for i in range(X_train_new_pos.shape[1])]\n",
    "rf2_pos_imp = pd.Series(pos_rf_clf2.feature_importances_, index=feature_names).sort_values(ascending=False)"
   ]
  },
  {
   "cell_type": "code",
   "execution_count": 83,
   "id": "fe17c122-18b3-4d95-9d78-15f9d529ce99",
   "metadata": {},
   "outputs": [
    {
     "name": "stdout",
     "output_type": "stream",
     "text": [
      "|      |         0 |\n",
      "|:-----|----------:|\n",
      "| RPG  | 0.253727  |\n",
      "| APG  | 0.251458  |\n",
      "| BPG  | 0.232891  |\n",
      "| SPG  | 0.116283  |\n",
      "| PPG  | 0.0769225 |\n",
      "| TS%  | 0.0373015 |\n",
      "| Year | 0.0314163 |\n"
     ]
    }
   ],
   "source": [
    "print(rf2_pos_imp.to_markdown())"
   ]
  },
  {
   "cell_type": "markdown",
   "id": "479aaeb5-767a-4160-87e8-94e8592a9130",
   "metadata": {},
   "source": [
    "### Test on 2018-19 Players"
   ]
  },
  {
   "cell_type": "code",
   "execution_count": 84,
   "id": "2dd59a9a-6c85-4971-b144-9d65281ec9b0",
   "metadata": {},
   "outputs": [
    {
     "data": {
      "text/plain": [
       "0.7357414448669202"
      ]
     },
     "execution_count": 84,
     "metadata": {},
     "output_type": "execute_result"
    }
   ],
   "source": [
    "pos_rf_clf2.score(X_test_new_pos, y_test_new_pos)"
   ]
  },
  {
   "cell_type": "code",
   "execution_count": 87,
   "id": "6bba4b4a-ccd3-4356-af92-e25307c9b1b2",
   "metadata": {},
   "outputs": [],
   "source": [
    "pos_labels2 = {0:'C', 1:'F', 2:'G'}"
   ]
  },
  {
   "cell_type": "code",
   "execution_count": 88,
   "id": "c312dde2-c177-49b9-8086-eebc7645a767",
   "metadata": {},
   "outputs": [],
   "source": [
    "test_results_df2 = test_players.copy()\n",
    "test_results_df2['pos_pred'] = pos_rf_clf2.predict(X_test_new_pos)\n",
    "test_results_df2['pos_pred'].replace(pos_labels2, inplace=True)\n",
    "test_results_df2['correct_pos'] = test_results_df2['pos_pred'] == test_results_df2['Pos']"
   ]
  },
  {
   "cell_type": "code",
   "execution_count": 89,
   "id": "50bb3ee9-2b55-4b54-92e3-4b4cf1e4e9df",
   "metadata": {},
   "outputs": [
    {
     "data": {
      "text/plain": [
       "0.24"
      ]
     },
     "execution_count": 89,
     "metadata": {},
     "output_type": "execute_result"
    }
   ],
   "source": [
    "prop_incorrect(test_results_df2, 'G')"
   ]
  },
  {
   "cell_type": "code",
   "execution_count": 90,
   "id": "cb5da7e9-a5d7-42e0-a216-75ea70375471",
   "metadata": {},
   "outputs": [
    {
     "data": {
      "text/plain": [
       "0.19"
      ]
     },
     "execution_count": 90,
     "metadata": {},
     "output_type": "execute_result"
    }
   ],
   "source": [
    "prop_incorrect(test_results_df2, 'F')"
   ]
  },
  {
   "cell_type": "code",
   "execution_count": null,
   "id": "2d0b06b5-e53b-464d-af77-cab76a084972",
   "metadata": {},
   "outputs": [],
   "source": []
  },
  {
   "cell_type": "code",
   "execution_count": 91,
   "id": "9a256025-a1ff-42c1-b999-6fef78a38bb1",
   "metadata": {},
   "outputs": [],
   "source": [
    "rf2_row = pd.Series(['random forest without MVP, All Star',pos_rf_clf2.score(X_test_new_pos, y_test_new_pos), prop_incorrect(test_results_df2, 'C'), prop_incorrect(test_results_df2, 'F'), prop_incorrect(test_results_df2, 'G')])\n",
    "rf2_row.index = results_df.columns"
   ]
  },
  {
   "cell_type": "code",
   "execution_count": 92,
   "id": "fa6fdcf9-86e8-401c-92a7-0ad7eb20e074",
   "metadata": {},
   "outputs": [
    {
     "data": {
      "text/html": [
       "<div>\n",
       "<style scoped>\n",
       "    .dataframe tbody tr th:only-of-type {\n",
       "        vertical-align: middle;\n",
       "    }\n",
       "\n",
       "    .dataframe tbody tr th {\n",
       "        vertical-align: top;\n",
       "    }\n",
       "\n",
       "    .dataframe thead th {\n",
       "        text-align: right;\n",
       "    }\n",
       "</style>\n",
       "<table border=\"1\" class=\"dataframe\">\n",
       "  <thead>\n",
       "    <tr style=\"text-align: right;\">\n",
       "      <th></th>\n",
       "      <th>model</th>\n",
       "      <th>test accuracy</th>\n",
       "      <th>prop wrong for centers</th>\n",
       "      <th>prop wrong for forwards</th>\n",
       "      <th>prop wrong for guards</th>\n",
       "    </tr>\n",
       "  </thead>\n",
       "  <tbody>\n",
       "    <tr>\n",
       "      <th>0</th>\n",
       "      <td>random forest without year</td>\n",
       "      <td>0.389734</td>\n",
       "      <td>0.48</td>\n",
       "      <td>0.19</td>\n",
       "      <td>0.26</td>\n",
       "    </tr>\n",
       "    <tr>\n",
       "      <th>1</th>\n",
       "      <td>random forest with year</td>\n",
       "      <td>0.391635</td>\n",
       "      <td>0.47</td>\n",
       "      <td>0.19</td>\n",
       "      <td>0.23</td>\n",
       "    </tr>\n",
       "    <tr>\n",
       "      <th>2</th>\n",
       "      <td>XGBoost without year</td>\n",
       "      <td>0.378327</td>\n",
       "      <td>0.53</td>\n",
       "      <td>0.20</td>\n",
       "      <td>0.27</td>\n",
       "    </tr>\n",
       "    <tr>\n",
       "      <th>3</th>\n",
       "      <td>XGBoost with year</td>\n",
       "      <td>0.389734</td>\n",
       "      <td>0.55</td>\n",
       "      <td>0.16</td>\n",
       "      <td>0.25</td>\n",
       "    </tr>\n",
       "    <tr>\n",
       "      <th>4</th>\n",
       "      <td>random forest without MVP, All Star</td>\n",
       "      <td>0.735741</td>\n",
       "      <td>0.47</td>\n",
       "      <td>0.19</td>\n",
       "      <td>0.24</td>\n",
       "    </tr>\n",
       "  </tbody>\n",
       "</table>\n",
       "</div>"
      ],
      "text/plain": [
       "                                 model  test accuracy  prop wrong for centers  \\\n",
       "0           random forest without year       0.389734                    0.48   \n",
       "1              random forest with year       0.391635                    0.47   \n",
       "2                 XGBoost without year       0.378327                    0.53   \n",
       "3                    XGBoost with year       0.389734                    0.55   \n",
       "4  random forest without MVP, All Star       0.735741                    0.47   \n",
       "\n",
       "   prop wrong for forwards  prop wrong for guards  \n",
       "0                     0.19                   0.26  \n",
       "1                     0.19                   0.23  \n",
       "2                     0.20                   0.27  \n",
       "3                     0.16                   0.25  \n",
       "4                     0.19                   0.24  "
      ]
     },
     "execution_count": 92,
     "metadata": {},
     "output_type": "execute_result"
    }
   ],
   "source": [
    "results_df.append(rf2_row, ignore_index = True)"
   ]
  },
  {
   "cell_type": "markdown",
   "id": "f30dc377-dd0f-4a0d-ad62-72c4e25c87d4",
   "metadata": {},
   "source": [
    "### Test on 2020-21 Players\n",
    "\n",
    "The 2nd Random Forest classifier (include year, drop All Star and MVP, performed **much** better than the original Random Forest and XGBoost classifiers. This may be because the 2020-21 data only had the 3 main positions, G, C and F, while the first 2 classifiers tried predicting 5 classes (albeit unsuccessfuly for the 2 minority classes). "
   ]
  },
  {
   "cell_type": "code",
   "execution_count": 93,
   "id": "4e5b4edc-03f6-4758-9639-3af048d402d3",
   "metadata": {},
   "outputs": [],
   "source": [
    "reset_position_new(test_2021)"
   ]
  },
  {
   "cell_type": "code",
   "execution_count": 94,
   "id": "7ab5474c-6bae-4987-adca-5ad5cf5571f5",
   "metadata": {},
   "outputs": [],
   "source": [
    "test_2021['Year'] = 2021"
   ]
  },
  {
   "cell_type": "code",
   "execution_count": 95,
   "id": "eabdc1bd-b4c4-49c1-abf7-057c8e6c6a47",
   "metadata": {},
   "outputs": [],
   "source": [
    "X_test_new_pos_2021 = test_2021[['TS%', 'RPG', 'APG', 'PPG', 'BPG', 'SPG', 'Year']]\n",
    "y_test_new_pos_2021 = LabelEncoder().fit_transform(test_2021['Pos_new'].values)"
   ]
  },
  {
   "cell_type": "code",
   "execution_count": 96,
   "id": "7905cffa-eab0-4f3b-848a-36c71adfa5fc",
   "metadata": {},
   "outputs": [
    {
     "data": {
      "text/plain": [
       "0.714867617107943"
      ]
     },
     "execution_count": 96,
     "metadata": {},
     "output_type": "execute_result"
    }
   ],
   "source": [
    "pos_rf_clf2.score(X_test_new_pos_2021, y_test_new_pos_2021)"
   ]
  },
  {
   "cell_type": "code",
   "execution_count": 113,
   "id": "62ee60c9-7c22-4c58-9cee-d74efeaf66c5",
   "metadata": {},
   "outputs": [],
   "source": [
    "test2021_results_df2 = test_2021.copy()\n",
    "test2021_results_df2['pos_pred'] = pos_rf_clf2.predict(X_test_new_pos_2021)\n",
    "test2021_results_df2['pos_pred'].replace(pos_labels2, inplace=True)\n",
    "test2021_results_df2['correct_pos'] = test2021_results_df2['pos_pred'] == test2021_results_df2['Pos']"
   ]
  },
  {
   "cell_type": "code",
   "execution_count": 104,
   "id": "3f8c7fdc-bd11-43f9-b618-6a48090da2a9",
   "metadata": {},
   "outputs": [],
   "source": [
    "test_2021['All Star'] = test_2021['All Star'] == 'Y'\n",
    "test_2021['MVP'] = test_2021['MVP'] == 'Y'"
   ]
  },
  {
   "cell_type": "code",
   "execution_count": 105,
   "id": "e1d58113-d74e-4002-bf58-c47c2a2c86e3",
   "metadata": {},
   "outputs": [],
   "source": [
    "X_test_pos_2021 = test_2021[['Year','TS%', 'RPG', 'APG', 'PPG', 'BPG', 'SPG', 'All Star', 'MVP']]\n",
    "y_test_pos_2021 = LabelEncoder().fit_transform(test_2021['Pos'].values)"
   ]
  },
  {
   "cell_type": "code",
   "execution_count": 106,
   "id": "b23a6fb5-9627-4994-8200-ed29b5f6086e",
   "metadata": {},
   "outputs": [
    {
     "data": {
      "text/plain": [
       "0.3869653767820774"
      ]
     },
     "execution_count": 106,
     "metadata": {},
     "output_type": "execute_result"
    }
   ],
   "source": [
    "pos_rf_year.score(X_test_pos_2021, y_test_pos_2021)"
   ]
  },
  {
   "cell_type": "code",
   "execution_count": 107,
   "id": "9ea3e137-3684-46eb-aaad-84b9cbf9c46f",
   "metadata": {},
   "outputs": [
    {
     "data": {
      "text/plain": [
       "0.3890020366598778"
      ]
     },
     "execution_count": 107,
     "metadata": {},
     "output_type": "execute_result"
    }
   ],
   "source": [
    "test_pos_xgb_pred_2021 = pos_xgb_year.predict(X_test_pos_2021)\n",
    "accuracy_score(y_test_pos_2021, test_pos_xgb_pred_2021)"
   ]
  },
  {
   "cell_type": "markdown",
   "id": "fbb00555-b26a-4b62-a70f-184181e35672",
   "metadata": {},
   "source": [
    "### Test on 2021-22 Players"
   ]
  },
  {
   "cell_type": "code",
   "execution_count": 108,
   "id": "af8463be-b55c-4c2f-9689-c3f401590c9c",
   "metadata": {},
   "outputs": [],
   "source": [
    "reset_position_new(test_2022)"
   ]
  },
  {
   "cell_type": "code",
   "execution_count": 109,
   "id": "afbb1fa6-9962-4925-a2fc-25daaf1733de",
   "metadata": {},
   "outputs": [],
   "source": [
    "X_test_new_pos_2022 = test_2022[['TS%', 'RPG', 'APG', 'PPG', 'BPG', 'SPG', 'Year']]\n",
    "y_test_new_pos_2022 = LabelEncoder().fit_transform(test_2022['Pos_new'].values)"
   ]
  },
  {
   "cell_type": "code",
   "execution_count": 110,
   "id": "898269b4-9418-4f68-baac-0938a6b82dbb",
   "metadata": {},
   "outputs": [
    {
     "data": {
      "text/plain": [
       "0.7041322314049587"
      ]
     },
     "execution_count": 110,
     "metadata": {},
     "output_type": "execute_result"
    }
   ],
   "source": [
    "pos_rf_clf2.score(X_test_new_pos_2022, y_test_new_pos_2022)"
   ]
  },
  {
   "cell_type": "code",
   "execution_count": 121,
   "id": "b6efd812-a8a0-43b5-a5e0-9e1b897ec152",
   "metadata": {},
   "outputs": [],
   "source": [
    "test2022_results_df2 = test_2022.copy()\n",
    "test2022_results_df2['pos_pred'] = pos_rf_clf2.predict(X_test_new_pos_2022)\n",
    "test2022_results_df2['pos_pred'].replace(pos_labels2, inplace=True)\n",
    "test2022_results_df2['correct_pos'] = test2022_results_df2['pos_pred'] == test2022_results_df2['Pos']"
   ]
  },
  {
   "cell_type": "code",
   "execution_count": 131,
   "id": "6ba6afbc-3bdb-4c08-827c-0909ed562dbf",
   "metadata": {},
   "outputs": [],
   "source": [
    "view_cols = ['Player', 'TS%', 'RPG', 'APG', 'PPG', 'BPG', 'SPG', 'Pos', 'pos_pred','correct_pos']"
   ]
  },
  {
   "cell_type": "code",
   "execution_count": 133,
   "id": "7d832aa3-56eb-4729-a4f8-cc8ea5bf5710",
   "metadata": {},
   "outputs": [
    {
     "data": {
      "text/html": [
       "<div>\n",
       "<style scoped>\n",
       "    .dataframe tbody tr th:only-of-type {\n",
       "        vertical-align: middle;\n",
       "    }\n",
       "\n",
       "    .dataframe tbody tr th {\n",
       "        vertical-align: top;\n",
       "    }\n",
       "\n",
       "    .dataframe thead th {\n",
       "        text-align: right;\n",
       "    }\n",
       "</style>\n",
       "<table border=\"1\" class=\"dataframe\">\n",
       "  <thead>\n",
       "    <tr style=\"text-align: right;\">\n",
       "      <th></th>\n",
       "      <th>Player</th>\n",
       "      <th>TS%</th>\n",
       "      <th>RPG</th>\n",
       "      <th>APG</th>\n",
       "      <th>PPG</th>\n",
       "      <th>BPG</th>\n",
       "      <th>SPG</th>\n",
       "      <th>Pos</th>\n",
       "      <th>pos_pred</th>\n",
       "      <th>correct_pos</th>\n",
       "    </tr>\n",
       "  </thead>\n",
       "  <tbody>\n",
       "    <tr>\n",
       "      <th>0</th>\n",
       "      <td>Precious Achiuwa</td>\n",
       "      <td>0.503000</td>\n",
       "      <td>6.500000</td>\n",
       "      <td>1.100000</td>\n",
       "      <td>9.100000</td>\n",
       "      <td>0.6</td>\n",
       "      <td>0.500000</td>\n",
       "      <td>C</td>\n",
       "      <td>F</td>\n",
       "      <td>False</td>\n",
       "    </tr>\n",
       "    <tr>\n",
       "      <th>1</th>\n",
       "      <td>Steven Adams</td>\n",
       "      <td>0.560000</td>\n",
       "      <td>10.000000</td>\n",
       "      <td>3.400000</td>\n",
       "      <td>6.900000</td>\n",
       "      <td>0.8</td>\n",
       "      <td>0.900000</td>\n",
       "      <td>C</td>\n",
       "      <td>F</td>\n",
       "      <td>False</td>\n",
       "    </tr>\n",
       "    <tr>\n",
       "      <th>2</th>\n",
       "      <td>Bam Adebayo</td>\n",
       "      <td>0.608000</td>\n",
       "      <td>10.100000</td>\n",
       "      <td>3.400000</td>\n",
       "      <td>19.100000</td>\n",
       "      <td>0.8</td>\n",
       "      <td>1.400000</td>\n",
       "      <td>C</td>\n",
       "      <td>F</td>\n",
       "      <td>False</td>\n",
       "    </tr>\n",
       "    <tr>\n",
       "      <th>6</th>\n",
       "      <td>Grayson Allen</td>\n",
       "      <td>0.609000</td>\n",
       "      <td>3.400000</td>\n",
       "      <td>1.500000</td>\n",
       "      <td>11.100000</td>\n",
       "      <td>0.3</td>\n",
       "      <td>0.700000</td>\n",
       "      <td>G</td>\n",
       "      <td>F</td>\n",
       "      <td>False</td>\n",
       "    </tr>\n",
       "    <tr>\n",
       "      <th>9</th>\n",
       "      <td>Justin Anderson</td>\n",
       "      <td>0.544667</td>\n",
       "      <td>2.666667</td>\n",
       "      <td>2.066667</td>\n",
       "      <td>5.833333</td>\n",
       "      <td>0.3</td>\n",
       "      <td>0.433333</td>\n",
       "      <td>F</td>\n",
       "      <td>G</td>\n",
       "      <td>False</td>\n",
       "    </tr>\n",
       "  </tbody>\n",
       "</table>\n",
       "</div>"
      ],
      "text/plain": [
       "             Player       TS%        RPG       APG        PPG  BPG       SPG  \\\n",
       "0  Precious Achiuwa  0.503000   6.500000  1.100000   9.100000  0.6  0.500000   \n",
       "1      Steven Adams  0.560000  10.000000  3.400000   6.900000  0.8  0.900000   \n",
       "2       Bam Adebayo  0.608000  10.100000  3.400000  19.100000  0.8  1.400000   \n",
       "6     Grayson Allen  0.609000   3.400000  1.500000  11.100000  0.3  0.700000   \n",
       "9   Justin Anderson  0.544667   2.666667  2.066667   5.833333  0.3  0.433333   \n",
       "\n",
       "  Pos pos_pred  correct_pos  \n",
       "0   C        F        False  \n",
       "1   C        F        False  \n",
       "2   C        F        False  \n",
       "6   G        F        False  \n",
       "9   F        G        False  "
      ]
     },
     "execution_count": 133,
     "metadata": {},
     "output_type": "execute_result"
    }
   ],
   "source": [
    "test2022_results_df2.loc[~test2022_results_df2.correct_pos][view_cols].head()"
   ]
  },
  {
   "cell_type": "markdown",
   "id": "d8063327-43b0-4c86-8641-a16c859d13ef",
   "metadata": {},
   "source": [
    "# Best Positions Classifier<a class=\"anchor\" id=\"positionsbest\"></a>\n",
    "\n",
    "The best classifier for predicting player position ended up being a Random Forest classifier using the following features:\n",
    "\n",
    "|   Feature   |          Importance |\n",
    "|:-----|----------:|\n",
    "| RPG  | 0.254  |\n",
    "| APG  | 0.251  |\n",
    "| BPG  | 0.233  |\n",
    "| SPG  | 0.116  |\n",
    "| PPG  | 0.077 |\n",
    "| TS%  | 0.037 |\n",
    "| Year | 0.031 |\n",
    "\n"
   ]
  },
  {
   "cell_type": "code",
   "execution_count": 126,
   "id": "506575ce-9756-453b-9035-d0d26adcaea7",
   "metadata": {},
   "outputs": [],
   "source": [
    "results_final = [['2018-19', round(pos_rf_clf2.score(X_test_new_pos, y_test_new_pos), 3), prop_incorrect(test_results_df2, 'C'), prop_incorrect(test_results_df2, 'F'), prop_incorrect(test_results_df2, 'G')],\n",
    "             ['2020-21', round(pos_rf_clf2.score(X_test_new_pos_2021, y_test_new_pos_2021), 3), prop_incorrect(test2021_results_df2, 'C'), prop_incorrect(test2021_results_df2, 'F'), prop_incorrect(test2021_results_df2, 'G')],\n",
    "             ['2021-22', round(pos_rf_clf2.score(X_test_new_pos_2022, y_test_new_pos_2022), 3), prop_incorrect(test2022_results_df2, 'C'), prop_incorrect(test2022_results_df2, 'F'), prop_incorrect(test2022_results_df2, 'G')]]\n",
    "\n",
    "results_final_df = pd.DataFrame(data = results_final, columns = ['season', 'test accuracy', 'prop wrong for centers', 'prop wrong for forwards', 'prop wrong for guards'])"
   ]
  },
  {
   "cell_type": "code",
   "execution_count": 205,
   "id": "ae976c3f-4b1b-4ad1-91c2-83c55b65abcf",
   "metadata": {},
   "outputs": [
    {
     "data": {
      "text/html": [
       "<div>\n",
       "<style scoped>\n",
       "    .dataframe tbody tr th:only-of-type {\n",
       "        vertical-align: middle;\n",
       "    }\n",
       "\n",
       "    .dataframe tbody tr th {\n",
       "        vertical-align: top;\n",
       "    }\n",
       "\n",
       "    .dataframe thead th {\n",
       "        text-align: right;\n",
       "    }\n",
       "</style>\n",
       "<table border=\"1\" class=\"dataframe\">\n",
       "  <thead>\n",
       "    <tr style=\"text-align: right;\">\n",
       "      <th></th>\n",
       "      <th>season</th>\n",
       "      <th>test accuracy</th>\n",
       "      <th>prop wrong for centers</th>\n",
       "      <th>prop wrong for forwards</th>\n",
       "      <th>prop wrong for guards</th>\n",
       "    </tr>\n",
       "  </thead>\n",
       "  <tbody>\n",
       "    <tr>\n",
       "      <th>0</th>\n",
       "      <td>2018-19</td>\n",
       "      <td>0.736</td>\n",
       "      <td>0.47</td>\n",
       "      <td>0.19</td>\n",
       "      <td>0.24</td>\n",
       "    </tr>\n",
       "    <tr>\n",
       "      <th>1</th>\n",
       "      <td>2020-21</td>\n",
       "      <td>0.715</td>\n",
       "      <td>0.46</td>\n",
       "      <td>0.22</td>\n",
       "      <td>0.27</td>\n",
       "    </tr>\n",
       "    <tr>\n",
       "      <th>2</th>\n",
       "      <td>2021-22</td>\n",
       "      <td>0.704</td>\n",
       "      <td>0.54</td>\n",
       "      <td>0.19</td>\n",
       "      <td>0.27</td>\n",
       "    </tr>\n",
       "  </tbody>\n",
       "</table>\n",
       "</div>"
      ],
      "text/plain": [
       "    season  test accuracy  prop wrong for centers  prop wrong for forwards  \\\n",
       "0  2018-19          0.736                    0.47                     0.19   \n",
       "1  2020-21          0.715                    0.46                     0.22   \n",
       "2  2021-22          0.704                    0.54                     0.19   \n",
       "\n",
       "   prop wrong for guards  \n",
       "0                   0.24  \n",
       "1                   0.27  \n",
       "2                   0.27  "
      ]
     },
     "execution_count": 205,
     "metadata": {},
     "output_type": "execute_result"
    }
   ],
   "source": [
    "results_final_df"
   ]
  },
  {
   "cell_type": "markdown",
   "id": "35481b72-6dd2-4af1-b23c-fd2788336877",
   "metadata": {},
   "source": [
    "# Look at \"Positionless\" Players' Predictions\n",
    "\n",
    "The players listed below are some consensus \"positionless\" NBA players (see this [CBS article]('https://bleacherreport.com/articles/2627364-5-unique-nba-players-who-dont-fit-in-a-category') and this [Blearcher Report article]('https://bleacherreport.com/articles/2627364-5-unique-nba-players-who-dont-fit-in-a-category')). One might expect the classifier to predict these players' posititions *incorrectly* if they are truly \"positionless.\" As with all things basketball, several things transcend the stat sheet, but hopefully these results provide some interesting insights!\n",
    "\n",
    "Seen below, Giannis Antetokounmpo, Kevin Durant, and Jayson Tatum were always correctly classified as forwards for the 3 seasons used as test data. This may be because forwards were the most common position in the training data, so the classifier knows forwards particularly well. \n",
    "\n",
    "Basketball Reference has LeBron James listed as having played both the forward and guard positions. In the 2020-21 season, where James was listed primarily as a guard, the classifier predicted him incorrectly to be a forward. In the eyes of the classifier, it seems that James presents as a forward more than a guard.\n",
    "\n",
    "In the 2020-21 season, Draymond Green was listed as a forward, but misclassified as a guard. Green had to step up that season considering Klay Thompson's absence that season and the fact that other guards like Jordan Poole (playing only his 3rd year professionaly after some time in the G-League) and Gary Payton II (who hardly played at all) were early in their development. "
   ]
  },
  {
   "cell_type": "code",
   "execution_count": 160,
   "id": "1823769a-9613-4a11-8e65-592be27f050c",
   "metadata": {},
   "outputs": [],
   "source": [
    "positionless_players = ['Draymond Green', 'Ben Simmons', 'Giannis Antetokounmpo', 'LeBron James', 'Kevin Durant', 'Nikola Jokić',\n",
    "                       'Jayson Tatum']"
   ]
  },
  {
   "cell_type": "code",
   "execution_count": 161,
   "id": "737d26be-594e-452e-9e41-63f573288741",
   "metadata": {},
   "outputs": [
    {
     "data": {
      "text/html": [
       "<div>\n",
       "<style scoped>\n",
       "    .dataframe tbody tr th:only-of-type {\n",
       "        vertical-align: middle;\n",
       "    }\n",
       "\n",
       "    .dataframe tbody tr th {\n",
       "        vertical-align: top;\n",
       "    }\n",
       "\n",
       "    .dataframe thead th {\n",
       "        text-align: right;\n",
       "    }\n",
       "</style>\n",
       "<table border=\"1\" class=\"dataframe\">\n",
       "  <thead>\n",
       "    <tr style=\"text-align: right;\">\n",
       "      <th></th>\n",
       "      <th>Player</th>\n",
       "      <th>TS%</th>\n",
       "      <th>RPG</th>\n",
       "      <th>APG</th>\n",
       "      <th>PPG</th>\n",
       "      <th>BPG</th>\n",
       "      <th>SPG</th>\n",
       "      <th>Pos</th>\n",
       "      <th>pos_pred</th>\n",
       "      <th>correct_pos</th>\n",
       "    </tr>\n",
       "  </thead>\n",
       "  <tbody>\n",
       "    <tr>\n",
       "      <th>17</th>\n",
       "      <td>Giannis Antetokounmpo</td>\n",
       "      <td>0.644</td>\n",
       "      <td>12.5</td>\n",
       "      <td>5.9</td>\n",
       "      <td>27.7</td>\n",
       "      <td>1.5</td>\n",
       "      <td>1.3</td>\n",
       "      <td>F</td>\n",
       "      <td>F</td>\n",
       "      <td>True</td>\n",
       "    </tr>\n",
       "    <tr>\n",
       "      <th>149</th>\n",
       "      <td>Kevin Durant</td>\n",
       "      <td>0.631</td>\n",
       "      <td>6.4</td>\n",
       "      <td>5.9</td>\n",
       "      <td>26.0</td>\n",
       "      <td>1.1</td>\n",
       "      <td>0.7</td>\n",
       "      <td>F</td>\n",
       "      <td>F</td>\n",
       "      <td>True</td>\n",
       "    </tr>\n",
       "    <tr>\n",
       "      <th>198</th>\n",
       "      <td>Draymond Green</td>\n",
       "      <td>0.526</td>\n",
       "      <td>7.3</td>\n",
       "      <td>6.9</td>\n",
       "      <td>7.4</td>\n",
       "      <td>1.1</td>\n",
       "      <td>1.4</td>\n",
       "      <td>F</td>\n",
       "      <td>F</td>\n",
       "      <td>True</td>\n",
       "    </tr>\n",
       "    <tr>\n",
       "      <th>257</th>\n",
       "      <td>LeBron James</td>\n",
       "      <td>0.588</td>\n",
       "      <td>8.5</td>\n",
       "      <td>8.3</td>\n",
       "      <td>27.4</td>\n",
       "      <td>0.6</td>\n",
       "      <td>1.3</td>\n",
       "      <td>F</td>\n",
       "      <td>F</td>\n",
       "      <td>True</td>\n",
       "    </tr>\n",
       "    <tr>\n",
       "      <th>268</th>\n",
       "      <td>Nikola Jokić</td>\n",
       "      <td>0.589</td>\n",
       "      <td>10.8</td>\n",
       "      <td>7.3</td>\n",
       "      <td>20.1</td>\n",
       "      <td>0.7</td>\n",
       "      <td>1.4</td>\n",
       "      <td>C</td>\n",
       "      <td>F</td>\n",
       "      <td>False</td>\n",
       "    </tr>\n",
       "    <tr>\n",
       "      <th>446</th>\n",
       "      <td>Ben Simmons</td>\n",
       "      <td>0.582</td>\n",
       "      <td>8.8</td>\n",
       "      <td>7.7</td>\n",
       "      <td>16.9</td>\n",
       "      <td>0.8</td>\n",
       "      <td>1.4</td>\n",
       "      <td>G</td>\n",
       "      <td>F</td>\n",
       "      <td>False</td>\n",
       "    </tr>\n",
       "    <tr>\n",
       "      <th>463</th>\n",
       "      <td>Jayson Tatum</td>\n",
       "      <td>0.547</td>\n",
       "      <td>6.0</td>\n",
       "      <td>2.1</td>\n",
       "      <td>15.7</td>\n",
       "      <td>0.7</td>\n",
       "      <td>1.1</td>\n",
       "      <td>F</td>\n",
       "      <td>F</td>\n",
       "      <td>True</td>\n",
       "    </tr>\n",
       "  </tbody>\n",
       "</table>\n",
       "</div>"
      ],
      "text/plain": [
       "                    Player    TS%   RPG  APG   PPG  BPG  SPG Pos pos_pred  \\\n",
       "17   Giannis Antetokounmpo  0.644  12.5  5.9  27.7  1.5  1.3   F        F   \n",
       "149           Kevin Durant  0.631   6.4  5.9  26.0  1.1  0.7   F        F   \n",
       "198         Draymond Green  0.526   7.3  6.9   7.4  1.1  1.4   F        F   \n",
       "257           LeBron James  0.588   8.5  8.3  27.4  0.6  1.3   F        F   \n",
       "268           Nikola Jokić  0.589  10.8  7.3  20.1  0.7  1.4   C        F   \n",
       "446            Ben Simmons  0.582   8.8  7.7  16.9  0.8  1.4   G        F   \n",
       "463           Jayson Tatum  0.547   6.0  2.1  15.7  0.7  1.1   F        F   \n",
       "\n",
       "     correct_pos  \n",
       "17          True  \n",
       "149         True  \n",
       "198         True  \n",
       "257         True  \n",
       "268        False  \n",
       "446        False  \n",
       "463         True  "
      ]
     },
     "execution_count": 161,
     "metadata": {},
     "output_type": "execute_result"
    }
   ],
   "source": [
    "test_results_df2.loc[test_results_df2.Player.isin(positionless_players)][view_cols]"
   ]
  },
  {
   "cell_type": "code",
   "execution_count": 162,
   "id": "3930a913-9fa5-4d8d-a10d-60c9818d961f",
   "metadata": {},
   "outputs": [
    {
     "data": {
      "text/html": [
       "<div>\n",
       "<style scoped>\n",
       "    .dataframe tbody tr th:only-of-type {\n",
       "        vertical-align: middle;\n",
       "    }\n",
       "\n",
       "    .dataframe tbody tr th {\n",
       "        vertical-align: top;\n",
       "    }\n",
       "\n",
       "    .dataframe thead th {\n",
       "        text-align: right;\n",
       "    }\n",
       "</style>\n",
       "<table border=\"1\" class=\"dataframe\">\n",
       "  <thead>\n",
       "    <tr style=\"text-align: right;\">\n",
       "      <th></th>\n",
       "      <th>Player</th>\n",
       "      <th>TS%</th>\n",
       "      <th>RPG</th>\n",
       "      <th>APG</th>\n",
       "      <th>PPG</th>\n",
       "      <th>BPG</th>\n",
       "      <th>SPG</th>\n",
       "      <th>Pos</th>\n",
       "      <th>pos_pred</th>\n",
       "      <th>correct_pos</th>\n",
       "    </tr>\n",
       "  </thead>\n",
       "  <tbody>\n",
       "    <tr>\n",
       "      <th>11</th>\n",
       "      <td>Giannis Antetokounmpo</td>\n",
       "      <td>0.618</td>\n",
       "      <td>11.7</td>\n",
       "      <td>5.9</td>\n",
       "      <td>28.9</td>\n",
       "      <td>1.3</td>\n",
       "      <td>1.3</td>\n",
       "      <td>F</td>\n",
       "      <td>F</td>\n",
       "      <td>True</td>\n",
       "    </tr>\n",
       "    <tr>\n",
       "      <th>126</th>\n",
       "      <td>Kevin Durant</td>\n",
       "      <td>0.652</td>\n",
       "      <td>7.3</td>\n",
       "      <td>5.3</td>\n",
       "      <td>29.0</td>\n",
       "      <td>1.4</td>\n",
       "      <td>0.7</td>\n",
       "      <td>F</td>\n",
       "      <td>F</td>\n",
       "      <td>True</td>\n",
       "    </tr>\n",
       "    <tr>\n",
       "      <th>168</th>\n",
       "      <td>Draymond Green</td>\n",
       "      <td>0.459</td>\n",
       "      <td>6.1</td>\n",
       "      <td>8.7</td>\n",
       "      <td>5.7</td>\n",
       "      <td>0.7</td>\n",
       "      <td>1.4</td>\n",
       "      <td>F</td>\n",
       "      <td>G</td>\n",
       "      <td>False</td>\n",
       "    </tr>\n",
       "    <tr>\n",
       "      <th>227</th>\n",
       "      <td>LeBron James</td>\n",
       "      <td>0.591</td>\n",
       "      <td>8.2</td>\n",
       "      <td>7.9</td>\n",
       "      <td>25.7</td>\n",
       "      <td>0.6</td>\n",
       "      <td>1.1</td>\n",
       "      <td>G</td>\n",
       "      <td>F</td>\n",
       "      <td>False</td>\n",
       "    </tr>\n",
       "    <tr>\n",
       "      <th>236</th>\n",
       "      <td>Nikola Jokić</td>\n",
       "      <td>0.652</td>\n",
       "      <td>10.9</td>\n",
       "      <td>8.5</td>\n",
       "      <td>26.7</td>\n",
       "      <td>0.6</td>\n",
       "      <td>1.7</td>\n",
       "      <td>C</td>\n",
       "      <td>F</td>\n",
       "      <td>False</td>\n",
       "    </tr>\n",
       "    <tr>\n",
       "      <th>415</th>\n",
       "      <td>Ben Simmons</td>\n",
       "      <td>0.608</td>\n",
       "      <td>8.1</td>\n",
       "      <td>7.9</td>\n",
       "      <td>16.0</td>\n",
       "      <td>0.8</td>\n",
       "      <td>1.6</td>\n",
       "      <td>G</td>\n",
       "      <td>F</td>\n",
       "      <td>False</td>\n",
       "    </tr>\n",
       "    <tr>\n",
       "      <th>430</th>\n",
       "      <td>Jayson Tatum</td>\n",
       "      <td>0.542</td>\n",
       "      <td>6.9</td>\n",
       "      <td>4.5</td>\n",
       "      <td>25.0</td>\n",
       "      <td>0.5</td>\n",
       "      <td>1.3</td>\n",
       "      <td>F</td>\n",
       "      <td>F</td>\n",
       "      <td>True</td>\n",
       "    </tr>\n",
       "  </tbody>\n",
       "</table>\n",
       "</div>"
      ],
      "text/plain": [
       "                    Player    TS%   RPG  APG   PPG  BPG  SPG Pos pos_pred  \\\n",
       "11   Giannis Antetokounmpo  0.618  11.7  5.9  28.9  1.3  1.3   F        F   \n",
       "126           Kevin Durant  0.652   7.3  5.3  29.0  1.4  0.7   F        F   \n",
       "168         Draymond Green  0.459   6.1  8.7   5.7  0.7  1.4   F        G   \n",
       "227           LeBron James  0.591   8.2  7.9  25.7  0.6  1.1   G        F   \n",
       "236           Nikola Jokić  0.652  10.9  8.5  26.7  0.6  1.7   C        F   \n",
       "415            Ben Simmons  0.608   8.1  7.9  16.0  0.8  1.6   G        F   \n",
       "430           Jayson Tatum  0.542   6.9  4.5  25.0  0.5  1.3   F        F   \n",
       "\n",
       "     correct_pos  \n",
       "11          True  \n",
       "126         True  \n",
       "168        False  \n",
       "227        False  \n",
       "236        False  \n",
       "415        False  \n",
       "430         True  "
      ]
     },
     "execution_count": 162,
     "metadata": {},
     "output_type": "execute_result"
    }
   ],
   "source": [
    "test2021_results_df2.loc[test2021_results_df2.Player.isin(positionless_players)][view_cols]"
   ]
  },
  {
   "cell_type": "code",
   "execution_count": 163,
   "id": "52fae376-2eed-45af-92d0-fb161641ffc4",
   "metadata": {},
   "outputs": [
    {
     "data": {
      "text/html": [
       "<div>\n",
       "<style scoped>\n",
       "    .dataframe tbody tr th:only-of-type {\n",
       "        vertical-align: middle;\n",
       "    }\n",
       "\n",
       "    .dataframe tbody tr th {\n",
       "        vertical-align: top;\n",
       "    }\n",
       "\n",
       "    .dataframe thead th {\n",
       "        text-align: right;\n",
       "    }\n",
       "</style>\n",
       "<table border=\"1\" class=\"dataframe\">\n",
       "  <thead>\n",
       "    <tr style=\"text-align: right;\">\n",
       "      <th></th>\n",
       "      <th>Player</th>\n",
       "      <th>TS%</th>\n",
       "      <th>RPG</th>\n",
       "      <th>APG</th>\n",
       "      <th>PPG</th>\n",
       "      <th>BPG</th>\n",
       "      <th>SPG</th>\n",
       "      <th>Pos</th>\n",
       "      <th>pos_pred</th>\n",
       "      <th>correct_pos</th>\n",
       "    </tr>\n",
       "  </thead>\n",
       "  <tbody>\n",
       "    <tr>\n",
       "      <th>11</th>\n",
       "      <td>Giannis Antetokounmpo</td>\n",
       "      <td>0.633</td>\n",
       "      <td>11.6</td>\n",
       "      <td>5.8</td>\n",
       "      <td>29.9</td>\n",
       "      <td>1.4</td>\n",
       "      <td>1.1</td>\n",
       "      <td>F</td>\n",
       "      <td>F</td>\n",
       "      <td>True</td>\n",
       "    </tr>\n",
       "    <tr>\n",
       "      <th>153</th>\n",
       "      <td>Kevin Durant</td>\n",
       "      <td>0.634</td>\n",
       "      <td>7.4</td>\n",
       "      <td>6.4</td>\n",
       "      <td>29.9</td>\n",
       "      <td>0.9</td>\n",
       "      <td>0.9</td>\n",
       "      <td>F</td>\n",
       "      <td>F</td>\n",
       "      <td>True</td>\n",
       "    </tr>\n",
       "    <tr>\n",
       "      <th>202</th>\n",
       "      <td>Draymond Green</td>\n",
       "      <td>0.582</td>\n",
       "      <td>7.3</td>\n",
       "      <td>7.0</td>\n",
       "      <td>7.5</td>\n",
       "      <td>1.1</td>\n",
       "      <td>1.3</td>\n",
       "      <td>F</td>\n",
       "      <td>F</td>\n",
       "      <td>True</td>\n",
       "    </tr>\n",
       "    <tr>\n",
       "      <th>272</th>\n",
       "      <td>LeBron James</td>\n",
       "      <td>0.619</td>\n",
       "      <td>8.2</td>\n",
       "      <td>6.2</td>\n",
       "      <td>30.3</td>\n",
       "      <td>1.1</td>\n",
       "      <td>1.3</td>\n",
       "      <td>F</td>\n",
       "      <td>F</td>\n",
       "      <td>True</td>\n",
       "    </tr>\n",
       "    <tr>\n",
       "      <th>288</th>\n",
       "      <td>Nikola Jokić</td>\n",
       "      <td>0.661</td>\n",
       "      <td>13.8</td>\n",
       "      <td>7.9</td>\n",
       "      <td>27.1</td>\n",
       "      <td>0.9</td>\n",
       "      <td>1.5</td>\n",
       "      <td>C</td>\n",
       "      <td>F</td>\n",
       "      <td>False</td>\n",
       "    </tr>\n",
       "    <tr>\n",
       "      <th>525</th>\n",
       "      <td>Jayson Tatum</td>\n",
       "      <td>0.578</td>\n",
       "      <td>8.0</td>\n",
       "      <td>4.4</td>\n",
       "      <td>26.9</td>\n",
       "      <td>0.6</td>\n",
       "      <td>1.0</td>\n",
       "      <td>F</td>\n",
       "      <td>F</td>\n",
       "      <td>True</td>\n",
       "    </tr>\n",
       "  </tbody>\n",
       "</table>\n",
       "</div>"
      ],
      "text/plain": [
       "                    Player    TS%   RPG  APG   PPG  BPG  SPG Pos pos_pred  \\\n",
       "11   Giannis Antetokounmpo  0.633  11.6  5.8  29.9  1.4  1.1   F        F   \n",
       "153           Kevin Durant  0.634   7.4  6.4  29.9  0.9  0.9   F        F   \n",
       "202         Draymond Green  0.582   7.3  7.0   7.5  1.1  1.3   F        F   \n",
       "272           LeBron James  0.619   8.2  6.2  30.3  1.1  1.3   F        F   \n",
       "288           Nikola Jokić  0.661  13.8  7.9  27.1  0.9  1.5   C        F   \n",
       "525           Jayson Tatum  0.578   8.0  4.4  26.9  0.6  1.0   F        F   \n",
       "\n",
       "     correct_pos  \n",
       "11          True  \n",
       "153         True  \n",
       "202         True  \n",
       "272         True  \n",
       "288        False  \n",
       "525         True  "
      ]
     },
     "execution_count": 163,
     "metadata": {},
     "output_type": "execute_result"
    }
   ],
   "source": [
    "test2022_results_df2.loc[test2022_results_df2.Player.isin(positionless_players)][view_cols]"
   ]
  },
  {
   "cell_type": "code",
   "execution_count": 208,
   "id": "884fdaef-3992-47f8-a730-11481860f63d",
   "metadata": {},
   "outputs": [
    {
     "data": {
      "text/plain": [
       "array(['Precious Achiuwa', 'Steven Adams', 'Bam Adebayo', 'Deandre Ayton',\n",
       "       'Jordan Bell', 'Khem Birch', 'Goga Bitadze', 'Nemanja Bjelica',\n",
       "       'Vernon Carey Jr.', 'Willie Cauley-Stein', 'Zach Collins',\n",
       "       'DeMarcus Cousins', 'Javin DeLaurier', 'Cheick Diallo',\n",
       "       'Gorgui Dieng', 'Andre Drummond', 'Jaime Echenique',\n",
       "       'Drew Eubanks', 'Derrick Favors', 'Luka Garza', 'Blake Griffin',\n",
       "       'Montrezl Harrell', 'Isaiah Hartenstein', 'Udonis Haslem',\n",
       "       'Willy Hernangómez', 'Jay Huff', 'Nikola Jokić', 'Kai Jones',\n",
       "       'Frank Kaminsky', 'Luke Kornet', 'Jock Landale', 'Kevon Looney',\n",
       "       'Brook Lopez', 'Robin Lopez', 'Kevin Love', 'Boban Marjanović',\n",
       "       'Chimezie Metu', 'Paul Millsap', 'Greg Monroe', 'Mike Muscala',\n",
       "       'Jusuf Nurkić', 'Kelly Olynyk', 'Mason Plumlee', 'Bobby Portis',\n",
       "       'Micah Potter', 'Dwight Powell', 'Paul Reed', 'Naz Reid',\n",
       "       'Jeremiah Robinson-Earl', 'Alperen Şengün', 'Marko Simonovic',\n",
       "       'Jon Teske', 'Killian Tillie', 'Moritz Wagner', 'P.J. Washington',\n",
       "       'Omer Yurtseven', 'Cody Zeller'], dtype=object)"
      ]
     },
     "execution_count": 208,
     "metadata": {},
     "output_type": "execute_result"
    }
   ],
   "source": [
    "# incorrectly classified centers\n",
    "test2022_results_df2.loc[(test2022_results_df2.Pos == 'C') & ~(test2022_results_df2.correct_pos)][view_cols].Player.values"
   ]
  },
  {
   "cell_type": "code",
   "execution_count": 209,
   "id": "4471148d-9ca7-4382-8da0-60d0c083f2cb",
   "metadata": {},
   "outputs": [
    {
     "data": {
      "text/plain": [
       "array(['LaMarcus Aldridge', 'Jarrett Allen', 'Udoka Azubuike', 'Mo Bamba',\n",
       "       'Charles Bassey', 'Bismack Biyombo', 'Tony Bradley', 'Moses Brown',\n",
       "       'Thomas Bryant', 'Clint Capela', 'Nic Claxton', 'Anthony Davis',\n",
       "       'Ed Davis', 'Dewayne Dedmon', 'Joel Embiid', 'Tacko Fall',\n",
       "       'Bruno Fernando', 'Daniel Gafford', 'Taj Gibson', 'Rudy Gobert',\n",
       "       'Jaxson Hayes', 'Richaun Holmes', 'Al Horford', 'Dwight Howard',\n",
       "       'Serge Ibaka', 'Damian Jones', 'DeAndre Jordan', 'Enes Freedom',\n",
       "       'Alex Len', 'JaVale McGee', 'Nerlens Noel', 'Onyeka Okongwu',\n",
       "       'Daniel Oturu', 'Norvel Pelle', 'Jakob Poeltl', 'Neemias Queta',\n",
       "       'Nick Richards', 'Mitchell Robinson', 'Olivier Sarr',\n",
       "       'Isaiah Stewart', 'Daniel Theis', 'Karl-Anthony Towns',\n",
       "       'Myles Turner', 'Jonas Valančiūnas', 'Nikola Vučević',\n",
       "       'Hassan Whiteside', 'Robert Williams', 'Christian Wood',\n",
       "       'Ivica Zubac'], dtype=object)"
      ]
     },
     "execution_count": 209,
     "metadata": {},
     "output_type": "execute_result"
    }
   ],
   "source": [
    "# correctly classified centers\n",
    "test2022_results_df2.loc[(test2022_results_df2.Pos == 'C') & (test2022_results_df2.correct_pos)][view_cols].Player.values"
   ]
  },
  {
   "cell_type": "code",
   "execution_count": null,
   "id": "2f926830-a9ee-4847-b878-4a439d922926",
   "metadata": {},
   "outputs": [],
   "source": []
  }
 ],
 "metadata": {
  "kernelspec": {
   "display_name": "Python 3",
   "language": "python",
   "name": "python3"
  },
  "language_info": {
   "codemirror_mode": {
    "name": "ipython",
    "version": 3
   },
   "file_extension": ".py",
   "mimetype": "text/x-python",
   "name": "python",
   "nbconvert_exporter": "python",
   "pygments_lexer": "ipython3",
   "version": "3.8.8"
  }
 },
 "nbformat": 4,
 "nbformat_minor": 5
}
